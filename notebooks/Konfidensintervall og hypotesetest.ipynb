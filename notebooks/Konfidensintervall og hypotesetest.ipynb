{
 "cells": [
  {
   "cell_type": "markdown",
   "metadata": {},
   "source": [
    "# Konfidensintervall\n",
    "\n",
    "Alle fordelingene vi har brukt gir oss tilgang til en \"interval\"-metode. Denne finner det tosidige konfidensintervallet med eneste parameter alfa. Du oppgir først parameterne til sannsynlighetsfordelingen (normalfordeling, student's T osv), som tidligere, og kaller deretter interval-metoden.\n",
    "\n",
    "### Normalfordelingen\n",
    "Vi lager en normalfordeling med $\\mu=0.5$ og $\\sigma=5.4$, og finner det 89% tosidige konfidensintervallet."
   ]
  },
  {
   "cell_type": "code",
   "execution_count": 1,
   "metadata": {
    "collapsed": false
   },
   "outputs": [
    {
     "data": {
      "text/plain": [
       "(-8.1302429555832152, 9.1302429555832205)"
      ]
     },
     "execution_count": 1,
     "metadata": {},
     "output_type": "execute_result"
    }
   ],
   "source": [
    "from scipy.stats import norm\n",
    "\n",
    "norm(0.5, 5.4).interval(0.89)"
   ]
  },
  {
   "cell_type": "markdown",
   "metadata": {},
   "source": [
    "### Student's T\n",
    "\n",
    "Merk at rekkefølgen på parameterne i Sipy.stats ikke er lik den som brukes i læreboka. Utover dette, fungerer utregning av tosidig intervall på samme måte som for normalfordelingen. Her bruker vi $\\nu=10$, $\\mu=22.6$ og $\\sigma=3.5$"
   ]
  },
  {
   "cell_type": "code",
   "execution_count": 2,
   "metadata": {
    "collapsed": false
   },
   "outputs": [
    {
     "data": {
      "text/plain": [
       "(8.0970482708368205, 37.102951729163181)"
      ]
     },
     "execution_count": 2,
     "metadata": {},
     "output_type": "execute_result"
    }
   ],
   "source": [
    "from scipy.stats import t\n",
    "\n",
    "t(10, 22.6, 3.5).interval(0.998)"
   ]
  },
  {
   "cell_type": "markdown",
   "metadata": {},
   "source": [
    "### Eksponentialfordelingen\n",
    "\n",
    "Over brukte vi interval-metoden. Denne gir som nevnt tosidig konfidensinterval. Hvis vi vil ha et ensidig intervall, bruker vi invers, eller PPF (se kapittel om kontinuerlige sannsynlighetsfordelinger). Vi skal her finne venstre ensidige konfidensinterval.\n",
    "\n",
    "Merk at også denne avviker fra lærebok og formelsamling ved at vi må oppgi $\\mu$ og ikke $\\lambda$. Dette gjør vi ved å ta $\\frac{1}{\\lambda}$. Så hvis vi har lambda = 2.34, kan vi gjøre følgende (95% konfidensintervall):"
   ]
  },
  {
   "cell_type": "code",
   "execution_count": 3,
   "metadata": {
    "collapsed": false
   },
   "outputs": [
    {
     "data": {
      "text/plain": [
       "(0, 1.280227467330765)"
      ]
     },
     "execution_count": 3,
     "metadata": {},
     "output_type": "execute_result"
    }
   ],
   "source": [
    "from scipy.stats import expon\n",
    "\n",
    "(0, expon(scale=1/2.34).ppf(0.95))"
   ]
  },
  {
   "cell_type": "markdown",
   "metadata": {},
   "source": [
    "# Hypotesetest\n",
    "\n",
    "Videre tar vi en kikk på hypotesetester.\n"
   ]
  }
 ],
 "metadata": {
  "kernelspec": {
   "display_name": "Python 3",
   "language": "python",
   "name": "python3"
  },
  "language_info": {
   "codemirror_mode": {
    "name": "ipython",
    "version": 3
   },
   "file_extension": ".py",
   "mimetype": "text/x-python",
   "name": "python",
   "nbconvert_exporter": "python",
   "pygments_lexer": "ipython3",
   "version": "3.5.1"
  }
 },
 "nbformat": 4,
 "nbformat_minor": 0
}
