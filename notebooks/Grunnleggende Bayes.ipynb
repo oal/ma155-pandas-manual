{
 "cells": [
  {
   "cell_type": "markdown",
   "metadata": {},
   "source": [
    "# Grunnleggende Bayes\n",
    "\n",
    "Vi skal nå se på hvordan vi kan bruker Bayes med tabeller, slik vi gjør for hånd. Nå kan vi igjen bruke Pandas, og vi benytter oss igjen av DataFrame.\n",
    "\n",
    "Eksempel: Hanne ser på samtaleloggen på telefonen og ser at den siste måneden har hun snakket med:\n",
    "* Mor: 30% av samtalene\n",
    "* Kjæreste: 50% av samtalene\n",
    "* Andre: 20% av samtalene\n",
    "\n",
    "Sannsynligheten for at samtaler med mor varer mer enn 10 minutter: 40%, kjæreste: 60%, andre: 20%\n",
    "\n",
    "Vi får da at $A_k = $ {Mor, Kjæreste, Andre}.\n",
    "\n",
    "Prior $P(A_k)$ blir 0.3, 0.5 og 0.2.\n",
    "\n",
    "Likelihood ($P(A_k | B)$) blir 0.4, 0.6, 0.2.\n",
    "\n",
    "Vi setter dette inn i en DataFrame:"
   ]
  },
  {
   "cell_type": "code",
   "execution_count": 1,
   "metadata": {
    "collapsed": false
   },
   "outputs": [
    {
     "data": {
      "text/html": [
       "<div>\n",
       "<table border=\"1\" class=\"dataframe\">\n",
       "  <thead>\n",
       "    <tr style=\"text-align: right;\">\n",
       "      <th></th>\n",
       "      <th>Prior</th>\n",
       "      <th>Likelihood</th>\n",
       "    </tr>\n",
       "  </thead>\n",
       "  <tbody>\n",
       "    <tr>\n",
       "      <th>Mor</th>\n",
       "      <td>0.3</td>\n",
       "      <td>0.4</td>\n",
       "    </tr>\n",
       "    <tr>\n",
       "      <th>Kjæreste</th>\n",
       "      <td>0.5</td>\n",
       "      <td>0.6</td>\n",
       "    </tr>\n",
       "    <tr>\n",
       "      <th>Andre</th>\n",
       "      <td>0.2</td>\n",
       "      <td>0.2</td>\n",
       "    </tr>\n",
       "  </tbody>\n",
       "</table>\n",
       "</div>"
      ],
      "text/plain": [
       "          Prior  Likelihood\n",
       "Mor         0.3         0.4\n",
       "Kjæreste    0.5         0.6\n",
       "Andre       0.2         0.2"
      ]
     },
     "execution_count": 1,
     "metadata": {},
     "output_type": "execute_result"
    }
   ],
   "source": [
    "from pandas import DataFrame\n",
    "\n",
    "df = DataFrame.from_records(\n",
    "    data=[[0.3, 0.4], [0.5, 0.6], [0.2, 0.2]], # [[A_k, B]...]\n",
    "    index=['Mor', 'Kjæreste', 'Andre'], # Indeks på rader\n",
    "    columns=['Prior', 'Likelihood'], # Foreløpige kolonnenavn. Vi legger til flere straks.\n",
    ")\n",
    "\n",
    "df"
   ]
  },
  {
   "cell_type": "markdown",
   "metadata": {},
   "source": [
    "Ok, la oss fylle inn resten av kolonnene."
   ]
  },
  {
   "cell_type": "code",
   "execution_count": 2,
   "metadata": {
    "collapsed": false
   },
   "outputs": [
    {
     "data": {
      "text/html": [
       "<div>\n",
       "<table border=\"1\" class=\"dataframe\">\n",
       "  <thead>\n",
       "    <tr style=\"text-align: right;\">\n",
       "      <th></th>\n",
       "      <th>Prior</th>\n",
       "      <th>Likelihood</th>\n",
       "      <th>Prior * likelihood</th>\n",
       "      <th>Posterior</th>\n",
       "    </tr>\n",
       "  </thead>\n",
       "  <tbody>\n",
       "    <tr>\n",
       "      <th>Mor</th>\n",
       "      <td>0.3</td>\n",
       "      <td>0.4</td>\n",
       "      <td>0.12</td>\n",
       "      <td>0.260870</td>\n",
       "    </tr>\n",
       "    <tr>\n",
       "      <th>Kjæreste</th>\n",
       "      <td>0.5</td>\n",
       "      <td>0.6</td>\n",
       "      <td>0.30</td>\n",
       "      <td>0.652174</td>\n",
       "    </tr>\n",
       "    <tr>\n",
       "      <th>Andre</th>\n",
       "      <td>0.2</td>\n",
       "      <td>0.2</td>\n",
       "      <td>0.04</td>\n",
       "      <td>0.086957</td>\n",
       "    </tr>\n",
       "  </tbody>\n",
       "</table>\n",
       "</div>"
      ],
      "text/plain": [
       "          Prior  Likelihood  Prior * likelihood  Posterior\n",
       "Mor         0.3         0.4                0.12   0.260870\n",
       "Kjæreste    0.5         0.6                0.30   0.652174\n",
       "Andre       0.2         0.2                0.04   0.086957"
      ]
     },
     "execution_count": 2,
     "metadata": {},
     "output_type": "execute_result"
    }
   ],
   "source": [
    "# Regne ut prior * likelihood, ved å ta disse kolonnene og gange sammen verdiene. Lagrer så dette i en ny kolonne\n",
    "# kalt \"Prior * likelihood\".\n",
    "df['Prior * likelihood'] = df['Prior'] * df['Likelihood']\n",
    "\n",
    "# Finn summen av alle verdiene i den nye kolonnene. Vi bruker denne for å regne ut posterior.\n",
    "pl_sum = sum(df['Prior * likelihood'])\n",
    "\n",
    "# Ny kolonne for posterior. Tar P*L-kolonnens verdier, og deler på summen.\n",
    "df['Posterior'] = df['Prior * likelihood'] / pl_sum\n",
    "\n",
    "df"
   ]
  },
  {
   "cell_type": "markdown",
   "metadata": {},
   "source": [
    "Vi kan også legge til en \"Sum\"-rad, hvis vi ønsker summen også som en del av tabellen vår. Denne må legges til etter at alle regneoperasjonene er utført, for ellers vil vi komme til å gjøre operasjonene over med de tomme verdiene i \"Sum\" sin \"Prior\", \"Likelihood\" osv."
   ]
  },
  {
   "cell_type": "code",
   "execution_count": 3,
   "metadata": {
    "collapsed": false
   },
   "outputs": [
    {
     "data": {
      "text/html": [
       "<div>\n",
       "<table border=\"1\" class=\"dataframe\">\n",
       "  <thead>\n",
       "    <tr style=\"text-align: right;\">\n",
       "      <th></th>\n",
       "      <th>Prior</th>\n",
       "      <th>Likelihood</th>\n",
       "      <th>Prior * likelihood</th>\n",
       "      <th>Posterior</th>\n",
       "    </tr>\n",
       "  </thead>\n",
       "  <tbody>\n",
       "    <tr>\n",
       "      <th>Mor</th>\n",
       "      <td>0.3</td>\n",
       "      <td>0.4</td>\n",
       "      <td>0.12</td>\n",
       "      <td>0.26087</td>\n",
       "    </tr>\n",
       "    <tr>\n",
       "      <th>Kjæreste</th>\n",
       "      <td>0.5</td>\n",
       "      <td>0.6</td>\n",
       "      <td>0.30</td>\n",
       "      <td>0.652174</td>\n",
       "    </tr>\n",
       "    <tr>\n",
       "      <th>Andre</th>\n",
       "      <td>0.2</td>\n",
       "      <td>0.2</td>\n",
       "      <td>0.04</td>\n",
       "      <td>0.0869565</td>\n",
       "    </tr>\n",
       "    <tr>\n",
       "      <th>Sum</th>\n",
       "      <td></td>\n",
       "      <td></td>\n",
       "      <td>0.46</td>\n",
       "      <td></td>\n",
       "    </tr>\n",
       "  </tbody>\n",
       "</table>\n",
       "</div>"
      ],
      "text/plain": [
       "         Prior Likelihood  Prior * likelihood  Posterior\n",
       "Mor        0.3        0.4                0.12    0.26087\n",
       "Kjæreste   0.5        0.6                0.30   0.652174\n",
       "Andre      0.2        0.2                0.04  0.0869565\n",
       "Sum                                      0.46           "
      ]
     },
     "execution_count": 3,
     "metadata": {},
     "output_type": "execute_result"
    }
   ],
   "source": [
    "df.loc['Sum'] = ['', '', pl_sum, '']\n",
    "\n",
    "df"
   ]
  },
  {
   "cell_type": "markdown",
   "metadata": {},
   "source": [
    "Flott! Nå kan vi se at hvis Hanne plukker en tilfeldig samtale fra den siste måneden, er det f.eks. ~26.1% sjanse for at dette var en samtale med mor som varte i mer enn 10 minutter."
   ]
  }
 ],
 "metadata": {
  "kernelspec": {
   "display_name": "Python 3",
   "language": "python",
   "name": "python3"
  },
  "language_info": {
   "codemirror_mode": {
    "name": "ipython",
    "version": 3
   },
   "file_extension": ".py",
   "mimetype": "text/x-python",
   "name": "python",
   "nbconvert_exporter": "python",
   "pygments_lexer": "ipython3",
   "version": "3.5.1"
  }
 },
 "nbformat": 4,
 "nbformat_minor": 0
}
