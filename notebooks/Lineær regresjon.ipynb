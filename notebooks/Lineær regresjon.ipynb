{
 "cells": [
  {
   "cell_type": "markdown",
   "metadata": {},
   "source": [
    "# Lineær regresjon\n",
    "\n",
    "### Data\n",
    "\n",
    "Vi skal i denne delen av guiden lære om lineær regresjon i Python. Først lager vi, som tidligere, en DataFrame som inneholder tallene våre. Her bruker vi DataFrame.from_dict, og sender inn en dict med X-verdier og Y-verdier. Denne plottes så med en scatter plot. Merk at vi spesifiserer hvilke kolonner vi ønsker å presentere i plottet, på X- og Y-aksen. Vi kunne hatt enda flere kolonner i DataFramen, men fremdeles plukket ut de to kolonnene vi ville plotte ved å spesifisere andre kolonnenavn i \"x\"- og \"y\"-parameterne."
   ]
  },
  {
   "cell_type": "code",
   "execution_count": 1,
   "metadata": {
    "collapsed": false
   },
   "outputs": [
    {
     "data": {
      "image/png": "[encoded data removed]",
      "text/plain": [
       "<matplotlib.figure.Figure at 0x7f95f77e0c88>"
      ]
     },
     "metadata": {},
     "output_type": "display_data"
    }
   ],
   "source": [
    "%matplotlib inline\n",
    "from pandas import DataFrame\n",
    "import matplotlib.pyplot as plt\n",
    "\n",
    "df = DataFrame.from_dict({\n",
    "    'X': [97, 104, 103, 97, 99, 82, 100, 93, 79, 89],\n",
    "    'Y': [133, 151, 158, 146, 134, 136, 151, 146, 133, 144],\n",
    "})\n",
    "\n",
    "df.plot.scatter(x='X', y='Y')\n",
    "plt.show()"
   ]
  },
  {
   "cell_type": "markdown",
   "metadata": {},
   "source": [
    "Nå har vi et inntrykk av hvordan dataen vår er fordelt. Før vi bruker en ferdig funksjon for lineær regresjon, skal vi gjøre det slik vi ville gjort det for hånd. Pandas og flere andre matematikk-pakker i Python er bygget på numpy. Den opererer på et litt lavere nivå, og gir oss tilgang til matriser, vektorer osv.\n",
    "\n",
    "Vi importerer numpy under forkortelsen np. Deretter lager vi en designmatrise. Denne lager vi med to rader, en fylt av bare 1-tall (len(df) henter lengden til DataFramen vår og vi lager dermed en liste med så mange enere). I tillegg henter vi ut verdiene i \"X\"-kolonnen i DataFramen df. Sammen danner dette designmatrisen."
   ]
  },
  {
   "cell_type": "code",
   "execution_count": 2,
   "metadata": {
    "collapsed": false
   },
   "outputs": [
    {
     "name": "stdout",
     "output_type": "stream",
     "text": [
      "Designmatrisen:\n",
      "[[   1.   97.]\n",
      " [   1.  104.]\n",
      " [   1.  103.]\n",
      " [   1.   97.]\n",
      " [   1.   99.]\n",
      " [   1.   82.]\n",
      " [   1.  100.]\n",
      " [   1.   93.]\n",
      " [   1.   79.]\n",
      " [   1.   89.]]\n",
      "---\n",
      "Responsvektor:\n",
      "[[133]\n",
      " [151]\n",
      " [158]\n",
      " [146]\n",
      " [134]\n",
      " [136]\n",
      " [151]\n",
      " [146]\n",
      " [133]\n",
      " [144]]\n"
     ]
    }
   ],
   "source": [
    "import numpy as np\n",
    "\n",
    "# 2-dimensjonal matrise med x-verdiene i 2. rad. Vi transponerer med .T for å få 2 kolonner (designmatrisen)\n",
    "X = np.matrix([\n",
    "    np.ones(len(df)), # Like mange 1-tall som lengden til DataFrame df\n",
    "    df['X'] # Alle X-verdiene i vår DataFrame\n",
    "]).T\n",
    "\n",
    "print('Designmatrisen:')\n",
    "print(X)\n",
    "\n",
    "# Lager en vektor / 1-dimensjonal matrise med y-verdiene fra DataFrame df (responsvektor).\n",
    "# Merk at vi bruker .T for å transponere den, slik at vi får en radvektor og ikke en kolonnevektor,\n",
    "# som den ellers ville blitt\n",
    "y = np.matrix(df['Y']).T\n",
    "\n",
    "print('---')\n",
    "\n",
    "print('Responsvektor:')\n",
    "print(y)"
   ]
  },
  {
   "cell_type": "markdown",
   "metadata": {},
   "source": [
    "Når designmatrisen er laget, oppretter vi også responsvektoren y. Denne består av Y-verdiene fra DataFramen vår. Merk at både matrisen X og vektoren Y i utgangspunktet ville fått hhv. 2 og 1 rader, men 10 kolonner. Vi transponerer derfor begge to slik at vi får dem nedover. Vi kunne selvsagt laget dem på denne måten fra begynnelsen, men da måtte vi skrevet en del mer, og laget mange små lister, for så å slå dem sammen.\n",
    "\n",
    "### Matriseregresjon \"for hånd\""
   ]
  },
  {
   "cell_type": "code",
   "execution_count": 3,
   "metadata": {
    "collapsed": false
   },
   "outputs": [
    {
     "data": {
      "text/latex": [
       "$$\\alpha + \\beta x = 82.304 + 0.646x$$"
      ],
      "text/plain": [
       "<IPython.core.display.Math object>"
      ]
     },
     "execution_count": 3,
     "metadata": {},
     "output_type": "execute_result"
    }
   ],
   "source": [
    "from IPython.display import Math\n",
    "\n",
    "# Utregning av matriseregresjon slik vi ville gjort \"for hånd\". Det resulterer i en matrise,\n",
    "# men vi bruker \".flat\" for å hente det ut som en flat liste. Da kan vi bruke hurtigmetoden for\n",
    "# å hente ut verdiene alpha og beta. Ikke fortvil om du ikke henger helt med her. Det kommer en enklere\n",
    "# metode under!\n",
    "alpha, beta = ((X.T*X).I*(X.T*y)).flat\n",
    "\n",
    "# Bruker matte-formattering, og setter inn alpha og beta med 3 desimaler\n",
    "Math(r'\\alpha + \\beta x = {:.3f} + {:.3f}x'.format(alpha, beta))"
   ]
  },
  {
   "cell_type": "markdown",
   "metadata": {},
   "source": [
    "Over ser du utregningen gjort manuelt etter formelen for matriseregresjon. Vi tar X-matrisen transponert, ganget med seg selv (ikke transponert), og så inversen av denne (.I). Dette ganges så med X transponert ganget med y-vektoren. Det vi får da er en matrise, men vi ønsker en liste, slik at vi kan hente ut alpha og beta direkte. Derfor brukes \".flat\" på slutten. Denne \"flater ut\" matrisen, og vi står igjen med to verdier, alpha og beta. Vi bruker en egenskap i Python som lar oss tilegne to variabler direkte fra en liste med like mange verdier.\n",
    "\n",
    "Til slutt bruker vi Jupyter sitt \"Math\"-objekt. Med dette kan vi få formattert matematiske formler, og bruke spesialbokstaver o.l (her \\alpha og \\beta). Vi begrenser også alpha og beta til 3 desimaler med {:.3f}. Formattering i Python skjer ved å kalle \"format\" på en tekst, og så erstatter Python verdier mellom { og } med tilhørende parametere. .3f betyr at vi har et flyttall (kommatall), og vil ha 3 tall etter komma (punktum). Mer om formattering kan leses [her](https://docs.python.org/2/library/string.html#formatspec).\n",
    "\n",
    "### Lineær regresjon (kortform)\n",
    "\n",
    "Selv om det er greit å vite hvordan man gjør utregninger manuelt, vil vi ofte slippe det når vi har en PC tilgjengelig. Vi kan gjøre det med Pandas, men en enda enklere løsning er å bruke \"stats\"-modulen i \"scipy\"-pakken. Scipy er, i tillegg til Pandas og Numpy, en veldig nyttig pakke som du bør kjenne til. Her importerer vi bare en funksjon kalt linregress, og gir den våre X-verdier og Y-verdier. Ut får vi et objekt som forteller oss om stigning, krysning med Y-aksen og standardfeil.\n",
    "\n",
    "Variablene xs og ys er ganske enkelt lister som vi henter ut fra DataFramen vår."
   ]
  },
  {
   "cell_type": "code",
   "execution_count": 4,
   "metadata": {
    "collapsed": false
   },
   "outputs": [
    {
     "data": {
      "text/plain": [
       "LinregressResult(slope=0.64577281761198602, intercept=82.303623299189709, rvalue=0.62352955662162679, pvalue=0.054073056598020912, stderr=0.28626830370527284)"
      ]
     },
     "execution_count": 4,
     "metadata": {},
     "output_type": "execute_result"
    }
   ],
   "source": [
    "from scipy.stats import linregress\n",
    "\n",
    "xs = df['X']\n",
    "ys = df['Y']\n",
    "\n",
    "lin_reg = linregress(xs, ys)\n",
    "\n",
    "lin_reg"
   ]
  },
  {
   "cell_type": "markdown",
   "metadata": {},
   "source": [
    "Vi kan nå hente ut de verdiene vi er interessert i, fra lin_reg-variabelen. Deretter kan vi printe ut uttrykket for linja, på skjermen. Også her bruker vi \".format\" og \"Math\"-objektet. Du kan fint bruke \"print\" direkte, med komma mellom verdiene, som vi har gjort tidligere, hvis du synes det er enklere."
   ]
  },
  {
   "cell_type": "code",
   "execution_count": 5,
   "metadata": {
    "collapsed": false
   },
   "outputs": [
    {
     "name": "stdout",
     "output_type": "stream",
     "text": [
      "Standardfeil: 0.28626830370527284\n",
      "---\n",
      "Regresjonslinje:\n"
     ]
    },
    {
     "data": {
      "text/latex": [
       "$$\\alpha + \\beta x = 82.304 + 0.646x$$"
      ],
      "text/plain": [
       "<IPython.core.display.Math object>"
      ]
     },
     "execution_count": 5,
     "metadata": {},
     "output_type": "execute_result"
    }
   ],
   "source": [
    "alpha = lin_reg.intercept\n",
    "beta = lin_reg.slope\n",
    "\n",
    "print('Standardfeil: {}'.format(lin_reg.stderr))\n",
    "\n",
    "print('---')\n",
    "\n",
    "print('Regresjonslinje:')\n",
    "Math(r'\\alpha + \\beta x = {:.3f} + {:.3f}x'.format(alpha, beta))"
   ]
  },
  {
   "cell_type": "markdown",
   "metadata": {},
   "source": [
    "### Tegne regresjonslinja\n",
    "\n",
    "Nå skal vi tegne regresjonslinja. Vi definerer en funksjon \"reg_linje\" som tar inn en x-verdi, og returnerer tilhørende y. Så plotter vi et scatter-plott, slik som tidligere. Merk at vi her lagrer figuren i \"figur\"-variabelen, og ikke viser den direkte som tidligere. Dette er fordi vi ønsker å tegne noe mer på den.\n",
    "\n",
    "Vi lager så en ny DataFrame, kalt df2. Første parameter er en liste med Y-verdier, og andre parameter er X-verdiene. Dette kan virke litt bakvendt, men skyldes at første verdi til en DataFrame er verdiene, og andre parameter er indeksene. _Vi kan vanligvis nøye oss med å bare legge til verdier i en DataFrame, så teller Pandas opp og legger til indekser for oss. Det kan ikke gjøres motsatt. Det gir ingen mening å spesifisere indekser, uten tilhørende data._\n",
    "\n",
    "Videre tar vi df2-variabelen, og kjører \"line\"-plotteren. Her må vi sette \"ax\"-parameteren lik forrige figur, for vi ønsker å tegne en samlet figur. \"legend=False\" gjør bare slik at vi skjuler boksen som ville kommet øverst i et av hjørnene for å beskrive linjen med farge og navn. Prøv gjerne med og uten, så ser du forskjellen."
   ]
  },
  {
   "cell_type": "code",
   "execution_count": 6,
   "metadata": {
    "collapsed": false
   },
   "outputs": [
    {
     "data": {
      "image/png": "[encoded data removed]",
      "text/plain": [
       "<matplotlib.figure.Figure at 0x7f95ea103550>"
      ]
     },
     "metadata": {},
     "output_type": "display_data"
    }
   ],
   "source": [
    "def reg_linje(x):\n",
    "    return alpha + beta*x\n",
    "\n",
    "figur = df.plot.scatter(x='X', y='Y')\n",
    "\n",
    "df2 = DataFrame([reg_linje(70), reg_linje(110)], [70, 110])\n",
    "df2.plot.line(ax=figur, legend=False)\n",
    "plt.show()"
   ]
  },
  {
   "cell_type": "markdown",
   "metadata": {},
   "source": [
    "Hvis du har lite erfaring med programmering, og Python fra før, kan nok noe av dette virke vanskelig. Det er mye man kan gjøre i Excel, men man før eller siden treffer man på en vegg.\n",
    "\n",
    "Med Python, og egnede kodepakker, kan læringskurven virke bratt, men setter man seg litt inn i det, åpnes mange dører. Selv om jeg hadde brukt Python en god del tidligere, hadde jeg hadde aldri brukt Jupyter, Pandas eller Numpy før jeg begynte å skrive denne guiden. Notebook-formatet kan likevel hjelpe med å gjøre læring av programmering mer overkommelig. Brukeren kan laste ned, kjøre, og endre på koden, og få umiddelbar tilbakemelding."
   ]
  }
 ],
 "metadata": {
  "kernelspec": {
   "display_name": "Python 3",
   "language": "python",
   "name": "python3"
  },
  "language_info": {
   "codemirror_mode": {
    "name": "ipython",
    "version": 3
   },
   "file_extension": ".py",
   "mimetype": "text/x-python",
   "name": "python",
   "nbconvert_exporter": "python",
   "pygments_lexer": "ipython3",
   "version": "3.5.1"
  }
 },
 "nbformat": 4,
 "nbformat_minor": 0
}
