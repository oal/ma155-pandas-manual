{
 "cells": [
  {
   "cell_type": "markdown",
   "metadata": {},
   "source": [
    "# Statistisk inferens: Bayes teorem\n",
    "\n",
    "Vi skal se mer på Bayes teorem og statistisk inferens. Først importerer vi de pakkene og klassene vi trenger."
   ]
  },
  {
   "cell_type": "code",
   "execution_count": 1,
   "metadata": {
    "collapsed": false
   },
   "outputs": [],
   "source": [
    "from pandas import DataFrame, Series\n",
    "import matplotlib.pyplot as plt\n",
    "%matplotlib inline"
   ]
  },
  {
   "cell_type": "markdown",
   "metadata": {},
   "source": [
    "## Eksempel\n",
    "\n",
    "I dette eksempelet ser vi på julenisseoppgaven i læreboka, på side 232 (Statistisk infersens: Bayes teorem, oppgave 1).\n",
    "\n",
    "Vi får oppgitt at julenissens verksted lager 10 typer sekker (nummerert 1-10). Det blir laget 17 ganger sekknummer av hver sekktype. Altså 17 av type 1, 34 av type 2 osv. Det er $sekknummer^2%$ myke pakker i sekkene.\n",
    "\n",
    "For å presentere dette i kodeform, på en ryddig måte, bruker vi Pandas sin Series-klasse. Først lager vi en serie med tallene fra 1 t.o.m. 10, som er sekktypenummer/indekser.\n",
    "\n",
    "Prioren vår blir da dette tallet, ganger 17. En veldig nyttig snarvei med Pandas-serier, er at vi kan gjøre regneoperasjoner på dem direkte. Hvis vi tar f.eks. en serie, ganget et heltall, blir alle elementene i serien ganget med dette tallet, og vi får en ny serie. Dette er \"priors\"-variabelen i koden under.\n",
    "\n",
    "Tilsvarende gjør vi for likelihood, bare at vi skal ha $sekknummer^2$ her. Python bruker ** som potens-operator.\n",
    "\n",
    "PxL-kolonnen er ganske enkelt prior og likelihood ganget sammen, og posterior er dette, delt på summen av kolonnen. Altså normalisert."
   ]
  },
  {
   "cell_type": "code",
   "execution_count": 2,
   "metadata": {
    "collapsed": false
   },
   "outputs": [],
   "source": [
    "sekk_indekser = Series(range(1,11)) # [1...10]\n",
    "\n",
    "priors = sekk_indekser*17 # 17, 34, 51, ...\n",
    "likelihood = sekk_indekser**2\n",
    "pxl = priors * likelihood\n",
    "posterior = pxl/sum(pxl)"
   ]
  },
  {
   "cell_type": "markdown",
   "metadata": {},
   "source": [
    "Nå har vi laget alle variablene vi trenger, og kan sette det sammen til en dataframe. Da kan vi enkelt plotte en eller flere av kolonnene, samt få ut en tabell."
   ]
  },
  {
   "cell_type": "code",
   "execution_count": 3,
   "metadata": {
    "collapsed": false
   },
   "outputs": [
    {
     "data": {
      "text/html": [
       "<div>\n",
       "<table border=\"1\" class=\"dataframe\">\n",
       "  <thead>\n",
       "    <tr style=\"text-align: right;\">\n",
       "      <th></th>\n",
       "      <th>Prior</th>\n",
       "      <th>Likelihood</th>\n",
       "      <th>PxL</th>\n",
       "      <th>Posterior</th>\n",
       "    </tr>\n",
       "  </thead>\n",
       "  <tbody>\n",
       "    <tr>\n",
       "      <th>1</th>\n",
       "      <td>17</td>\n",
       "      <td>1</td>\n",
       "      <td>17</td>\n",
       "      <td>0.000331</td>\n",
       "    </tr>\n",
       "    <tr>\n",
       "      <th>2</th>\n",
       "      <td>34</td>\n",
       "      <td>4</td>\n",
       "      <td>136</td>\n",
       "      <td>0.002645</td>\n",
       "    </tr>\n",
       "    <tr>\n",
       "      <th>3</th>\n",
       "      <td>51</td>\n",
       "      <td>9</td>\n",
       "      <td>459</td>\n",
       "      <td>0.008926</td>\n",
       "    </tr>\n",
       "    <tr>\n",
       "      <th>4</th>\n",
       "      <td>68</td>\n",
       "      <td>16</td>\n",
       "      <td>1088</td>\n",
       "      <td>0.021157</td>\n",
       "    </tr>\n",
       "    <tr>\n",
       "      <th>5</th>\n",
       "      <td>85</td>\n",
       "      <td>25</td>\n",
       "      <td>2125</td>\n",
       "      <td>0.041322</td>\n",
       "    </tr>\n",
       "    <tr>\n",
       "      <th>6</th>\n",
       "      <td>102</td>\n",
       "      <td>36</td>\n",
       "      <td>3672</td>\n",
       "      <td>0.071405</td>\n",
       "    </tr>\n",
       "    <tr>\n",
       "      <th>7</th>\n",
       "      <td>119</td>\n",
       "      <td>49</td>\n",
       "      <td>5831</td>\n",
       "      <td>0.113388</td>\n",
       "    </tr>\n",
       "    <tr>\n",
       "      <th>8</th>\n",
       "      <td>136</td>\n",
       "      <td>64</td>\n",
       "      <td>8704</td>\n",
       "      <td>0.169256</td>\n",
       "    </tr>\n",
       "    <tr>\n",
       "      <th>9</th>\n",
       "      <td>153</td>\n",
       "      <td>81</td>\n",
       "      <td>12393</td>\n",
       "      <td>0.240992</td>\n",
       "    </tr>\n",
       "    <tr>\n",
       "      <th>10</th>\n",
       "      <td>170</td>\n",
       "      <td>100</td>\n",
       "      <td>17000</td>\n",
       "      <td>0.330579</td>\n",
       "    </tr>\n",
       "  </tbody>\n",
       "</table>\n",
       "</div>"
      ],
      "text/plain": [
       "    Prior  Likelihood    PxL  Posterior\n",
       "1      17           1     17   0.000331\n",
       "2      34           4    136   0.002645\n",
       "3      51           9    459   0.008926\n",
       "4      68          16   1088   0.021157\n",
       "5      85          25   2125   0.041322\n",
       "6     102          36   3672   0.071405\n",
       "7     119          49   5831   0.113388\n",
       "8     136          64   8704   0.169256\n",
       "9     153          81  12393   0.240992\n",
       "10    170         100  17000   0.330579"
      ]
     },
     "execution_count": 3,
     "metadata": {},
     "output_type": "execute_result"
    },
    {
     "data": {
      "image/png": "[encoded data removed]",
      "text/plain": [
       "<matplotlib.figure.Figure at 0x7ffb413b91d0>"
      ]
     },
     "metadata": {},
     "output_type": "display_data"
    }
   ],
   "source": [
    "# Lager dataframe med rad-indekser (sekk-nummer) f.o.m. 1 t.o.m. 10.\n",
    "df = DataFrame()\n",
    "\n",
    "# Vi kunne brukt DataFrame.from_dict, men da vil rekkefølgen på kolonnene være tilfeldig.\n",
    "# Derfor kan det lønne seg å sette inn kolonner slik:\n",
    "df['Prior'] = priors\n",
    "df['Likelihood'] = likelihood\n",
    "df['PxL'] = pxl\n",
    "df['Posterior'] = posterior\n",
    "df.index = sekk_indekser\n",
    "\n",
    "df['Posterior'].plot.bar()\n",
    "\n",
    "df"
   ]
  },
  {
   "cell_type": "markdown",
   "metadata": {},
   "source": [
    "### Oppdatering\n",
    "\n",
    "Vi får i eksempelet vite at nissen plukker to tilfeldige pakker fra en sekk, og blir bedt om å finne ut hva det sier oss om sekken han plukket fra. Vi forenkler, og regner med trekk med tilbakelegging. Dermed tar vi ny likelihood, som forrige likelihood i andre.\n",
    "\n",
    "Merk at vi her gjør hele prosessen litt kortere. Istedenfor å lage variabler for prior, likelihood osv. som over, lager vi ny dataframe, med de riktige kolonnene direkte ved å legge inn i \"df2['Prior']\" osv. fra starten.\n",
    "\n",
    "Vi plotter, og viser den nye dataframen i tabellform."
   ]
  },
  {
   "cell_type": "code",
   "execution_count": 4,
   "metadata": {
    "collapsed": false
   },
   "outputs": [
    {
     "data": {
      "text/html": [
       "<div>\n",
       "<table border=\"1\" class=\"dataframe\">\n",
       "  <thead>\n",
       "    <tr style=\"text-align: right;\">\n",
       "      <th></th>\n",
       "      <th>Prior</th>\n",
       "      <th>Likelihood</th>\n",
       "      <th>PxL</th>\n",
       "      <th>Posterior</th>\n",
       "    </tr>\n",
       "  </thead>\n",
       "  <tbody>\n",
       "    <tr>\n",
       "      <th>1</th>\n",
       "      <td>0.000331</td>\n",
       "      <td>1</td>\n",
       "      <td>0.000331</td>\n",
       "      <td>5.530843e-08</td>\n",
       "    </tr>\n",
       "    <tr>\n",
       "      <th>2</th>\n",
       "      <td>0.002645</td>\n",
       "      <td>16</td>\n",
       "      <td>0.042314</td>\n",
       "      <td>7.079480e-06</td>\n",
       "    </tr>\n",
       "    <tr>\n",
       "      <th>3</th>\n",
       "      <td>0.008926</td>\n",
       "      <td>81</td>\n",
       "      <td>0.722975</td>\n",
       "      <td>1.209595e-04</td>\n",
       "    </tr>\n",
       "    <tr>\n",
       "      <th>4</th>\n",
       "      <td>0.021157</td>\n",
       "      <td>256</td>\n",
       "      <td>5.416198</td>\n",
       "      <td>9.061734e-04</td>\n",
       "    </tr>\n",
       "    <tr>\n",
       "      <th>5</th>\n",
       "      <td>0.041322</td>\n",
       "      <td>625</td>\n",
       "      <td>25.826446</td>\n",
       "      <td>4.320971e-03</td>\n",
       "    </tr>\n",
       "    <tr>\n",
       "      <th>6</th>\n",
       "      <td>0.071405</td>\n",
       "      <td>1296</td>\n",
       "      <td>92.540826</td>\n",
       "      <td>1.548282e-02</td>\n",
       "    </tr>\n",
       "    <tr>\n",
       "      <th>7</th>\n",
       "      <td>0.113388</td>\n",
       "      <td>2401</td>\n",
       "      <td>272.245620</td>\n",
       "      <td>4.554887e-02</td>\n",
       "    </tr>\n",
       "    <tr>\n",
       "      <th>8</th>\n",
       "      <td>0.169256</td>\n",
       "      <td>4096</td>\n",
       "      <td>693.273388</td>\n",
       "      <td>1.159902e-01</td>\n",
       "    </tr>\n",
       "    <tr>\n",
       "      <th>9</th>\n",
       "      <td>0.240992</td>\n",
       "      <td>6561</td>\n",
       "      <td>1581.146777</td>\n",
       "      <td>2.645385e-01</td>\n",
       "    </tr>\n",
       "    <tr>\n",
       "      <th>10</th>\n",
       "      <td>0.330579</td>\n",
       "      <td>10000</td>\n",
       "      <td>3305.785124</td>\n",
       "      <td>5.530843e-01</td>\n",
       "    </tr>\n",
       "  </tbody>\n",
       "</table>\n",
       "</div>"
      ],
      "text/plain": [
       "       Prior  Likelihood          PxL     Posterior\n",
       "1   0.000331           1     0.000331  5.530843e-08\n",
       "2   0.002645          16     0.042314  7.079480e-06\n",
       "3   0.008926          81     0.722975  1.209595e-04\n",
       "4   0.021157         256     5.416198  9.061734e-04\n",
       "5   0.041322         625    25.826446  4.320971e-03\n",
       "6   0.071405        1296    92.540826  1.548282e-02\n",
       "7   0.113388        2401   272.245620  4.554887e-02\n",
       "8   0.169256        4096   693.273388  1.159902e-01\n",
       "9   0.240992        6561  1581.146777  2.645385e-01\n",
       "10  0.330579       10000  3305.785124  5.530843e-01"
      ]
     },
     "execution_count": 4,
     "metadata": {},
     "output_type": "execute_result"
    },
    {
     "data": {
      "image/png": "[encoded data removed]",
      "text/plain": [
       "<matplotlib.figure.Figure at 0x7ffb412f6080>"
      ]
     },
     "metadata": {},
     "output_type": "display_data"
    }
   ],
   "source": [
    "df2 = DataFrame()\n",
    "\n",
    "df2['Prior'] = df['Posterior']\n",
    "df2['Likelihood'] = df['Likelihood']**2\n",
    "df2['PxL'] = df2['Prior'] * df2['Likelihood']\n",
    "df2['Posterior'] = df2['PxL']/sum(df2['PxL'])\n",
    "\n",
    "df2['Posterior'].plot.bar()\n",
    "\n",
    "df2"
   ]
  },
  {
   "cell_type": "markdown",
   "metadata": {},
   "source": [
    "Vi kan se at vi er blitt sikrere på at sekken er blant de med høyere typenummer, da disse inneholder en større andel myke pakker, og nissen tilfeldigvis trakk to myke pakker til oss."
   ]
  },
  {
   "cell_type": "markdown",
   "metadata": {},
   "source": [
    "## Eksempel 2\n",
    "\n",
    "Vi ser på et eksempel til, denne gang, hvor prior er en av de diskrete fordelingene scipy har innebygd. Du kaster en $D_4$-terning helt til du får 4. Du teller antall kast, og legger det antallet non-stop i en skål. En av dem er gule, resten er sorte.\n",
    "\n",
    "Deretter holder du skålen opp, og trekker en non-stop. Denne er gul. Lag en tabell over sannsynligheten for å trekke gul non-stop ved mindre enn 10 terningkast."
   ]
  },
  {
   "cell_type": "code",
   "execution_count": 5,
   "metadata": {
    "collapsed": false
   },
   "outputs": [
    {
     "data": {
      "text/html": [
       "<div>\n",
       "<table border=\"1\" class=\"dataframe\">\n",
       "  <thead>\n",
       "    <tr style=\"text-align: right;\">\n",
       "      <th></th>\n",
       "      <th>Prior</th>\n",
       "      <th>Likelihood</th>\n",
       "      <th>PxL</th>\n",
       "      <th>Posterior</th>\n",
       "    </tr>\n",
       "  </thead>\n",
       "  <tbody>\n",
       "    <tr>\n",
       "      <th>1</th>\n",
       "      <td>0.250000</td>\n",
       "      <td>1.000000</td>\n",
       "      <td>0.250000</td>\n",
       "      <td>0.548235</td>\n",
       "    </tr>\n",
       "    <tr>\n",
       "      <th>2</th>\n",
       "      <td>0.187500</td>\n",
       "      <td>0.500000</td>\n",
       "      <td>0.093750</td>\n",
       "      <td>0.205588</td>\n",
       "    </tr>\n",
       "    <tr>\n",
       "      <th>3</th>\n",
       "      <td>0.140625</td>\n",
       "      <td>0.333333</td>\n",
       "      <td>0.046875</td>\n",
       "      <td>0.102794</td>\n",
       "    </tr>\n",
       "    <tr>\n",
       "      <th>4</th>\n",
       "      <td>0.105469</td>\n",
       "      <td>0.250000</td>\n",
       "      <td>0.026367</td>\n",
       "      <td>0.057822</td>\n",
       "    </tr>\n",
       "    <tr>\n",
       "      <th>5</th>\n",
       "      <td>0.079102</td>\n",
       "      <td>0.200000</td>\n",
       "      <td>0.015820</td>\n",
       "      <td>0.034693</td>\n",
       "    </tr>\n",
       "    <tr>\n",
       "      <th>6</th>\n",
       "      <td>0.059326</td>\n",
       "      <td>0.166667</td>\n",
       "      <td>0.009888</td>\n",
       "      <td>0.021683</td>\n",
       "    </tr>\n",
       "    <tr>\n",
       "      <th>7</th>\n",
       "      <td>0.044495</td>\n",
       "      <td>0.142857</td>\n",
       "      <td>0.006356</td>\n",
       "      <td>0.013939</td>\n",
       "    </tr>\n",
       "    <tr>\n",
       "      <th>8</th>\n",
       "      <td>0.033371</td>\n",
       "      <td>0.125000</td>\n",
       "      <td>0.004171</td>\n",
       "      <td>0.009148</td>\n",
       "    </tr>\n",
       "    <tr>\n",
       "      <th>9</th>\n",
       "      <td>0.025028</td>\n",
       "      <td>0.111111</td>\n",
       "      <td>0.002781</td>\n",
       "      <td>0.006098</td>\n",
       "    </tr>\n",
       "  </tbody>\n",
       "</table>\n",
       "</div>"
      ],
      "text/plain": [
       "      Prior  Likelihood       PxL  Posterior\n",
       "1  0.250000    1.000000  0.250000   0.548235\n",
       "2  0.187500    0.500000  0.093750   0.205588\n",
       "3  0.140625    0.333333  0.046875   0.102794\n",
       "4  0.105469    0.250000  0.026367   0.057822\n",
       "5  0.079102    0.200000  0.015820   0.034693\n",
       "6  0.059326    0.166667  0.009888   0.021683\n",
       "7  0.044495    0.142857  0.006356   0.013939\n",
       "8  0.033371    0.125000  0.004171   0.009148\n",
       "9  0.025028    0.111111  0.002781   0.006098"
      ]
     },
     "execution_count": 5,
     "metadata": {},
     "output_type": "execute_result"
    },
    {
     "data": {
      "image/png": "[encoded data removed]",
      "text/plain": [
       "<matplotlib.figure.Figure at 0x7ffb37c61048>"
      ]
     },
     "metadata": {},
     "output_type": "display_data"
    }
   ],
   "source": [
    "from scipy.stats import geom\n",
    "\n",
    "# Prior er en geometrisk fordeling med p=1/4 pga. D4-terning.\n",
    "prior = geom(1/4).pmf\n",
    "\n",
    "# For ordens skyld definerer vi likelihood som en funksjon, men vi kan også gjøre operasjonen direkte\n",
    "# på Series-objektene, slik vi har gjort tidligere.\n",
    "def likelihood(n):\n",
    "    return 1/n\n",
    "\n",
    "df4 = DataFrame()\n",
    "ns = Series(range(1,10), index=range(1,10)) # n-verdiene, altså antall terningkast.\n",
    "df4['Prior'] = ns.apply(prior) # Ta alle n-veriene, og kjør prior-funksjonen på disse.\n",
    "df4['Likelihood'] = ns.apply(likelihood) # Tilsvarende på likelihood. Alternativ: 1/ns gir samme resultat.\n",
    "df4['PxL'] = df4['Prior'] * df4['Likelihood']\n",
    "df4['Posterior'] = df4['PxL'] / sum(df4['PxL'])\n",
    "\n",
    "df4['Posterior'].plot.bar(width=0.1)\n",
    "df4"
   ]
  },
  {
   "cell_type": "markdown",
   "metadata": {},
   "source": [
    "Du legger tilbake, og i tillegg legger du til en ekstra, gul, non-stop, slik at det nå er en non-stop mer enn antall terningkast. Hvordan ser tabellen og grafen nå ut?"
   ]
  },
  {
   "cell_type": "code",
   "execution_count": 6,
   "metadata": {
    "collapsed": false
   },
   "outputs": [
    {
     "data": {
      "text/html": [
       "<div>\n",
       "<table border=\"1\" class=\"dataframe\">\n",
       "  <thead>\n",
       "    <tr style=\"text-align: right;\">\n",
       "      <th></th>\n",
       "      <th>Prior</th>\n",
       "      <th>Likelihood</th>\n",
       "      <th>PxL</th>\n",
       "      <th>Posterior</th>\n",
       "    </tr>\n",
       "  </thead>\n",
       "  <tbody>\n",
       "    <tr>\n",
       "      <th>1</th>\n",
       "      <td>0.548235</td>\n",
       "      <td>1.000000</td>\n",
       "      <td>0.548235</td>\n",
       "      <td>0.698997</td>\n",
       "    </tr>\n",
       "    <tr>\n",
       "      <th>2</th>\n",
       "      <td>0.205588</td>\n",
       "      <td>0.666667</td>\n",
       "      <td>0.137059</td>\n",
       "      <td>0.174749</td>\n",
       "    </tr>\n",
       "    <tr>\n",
       "      <th>3</th>\n",
       "      <td>0.102794</td>\n",
       "      <td>0.500000</td>\n",
       "      <td>0.051397</td>\n",
       "      <td>0.065531</td>\n",
       "    </tr>\n",
       "    <tr>\n",
       "      <th>4</th>\n",
       "      <td>0.057822</td>\n",
       "      <td>0.400000</td>\n",
       "      <td>0.023129</td>\n",
       "      <td>0.029489</td>\n",
       "    </tr>\n",
       "    <tr>\n",
       "      <th>5</th>\n",
       "      <td>0.034693</td>\n",
       "      <td>0.333333</td>\n",
       "      <td>0.011564</td>\n",
       "      <td>0.014744</td>\n",
       "    </tr>\n",
       "    <tr>\n",
       "      <th>6</th>\n",
       "      <td>0.021683</td>\n",
       "      <td>0.285714</td>\n",
       "      <td>0.006195</td>\n",
       "      <td>0.007899</td>\n",
       "    </tr>\n",
       "    <tr>\n",
       "      <th>7</th>\n",
       "      <td>0.013939</td>\n",
       "      <td>0.250000</td>\n",
       "      <td>0.003485</td>\n",
       "      <td>0.004443</td>\n",
       "    </tr>\n",
       "    <tr>\n",
       "      <th>8</th>\n",
       "      <td>0.009148</td>\n",
       "      <td>0.222222</td>\n",
       "      <td>0.002033</td>\n",
       "      <td>0.002592</td>\n",
       "    </tr>\n",
       "    <tr>\n",
       "      <th>9</th>\n",
       "      <td>0.006098</td>\n",
       "      <td>0.200000</td>\n",
       "      <td>0.001220</td>\n",
       "      <td>0.001555</td>\n",
       "    </tr>\n",
       "  </tbody>\n",
       "</table>\n",
       "</div>"
      ],
      "text/plain": [
       "      Prior  Likelihood       PxL  Posterior\n",
       "1  0.548235    1.000000  0.548235   0.698997\n",
       "2  0.205588    0.666667  0.137059   0.174749\n",
       "3  0.102794    0.500000  0.051397   0.065531\n",
       "4  0.057822    0.400000  0.023129   0.029489\n",
       "5  0.034693    0.333333  0.011564   0.014744\n",
       "6  0.021683    0.285714  0.006195   0.007899\n",
       "7  0.013939    0.250000  0.003485   0.004443\n",
       "8  0.009148    0.222222  0.002033   0.002592\n",
       "9  0.006098    0.200000  0.001220   0.001555"
      ]
     },
     "execution_count": 6,
     "metadata": {},
     "output_type": "execute_result"
    },
    {
     "data": {
      "image/png": "[encoded data removed]",
      "text/plain": [
       "<matplotlib.figure.Figure at 0x7ffb3da386a0>"
      ]
     },
     "metadata": {},
     "output_type": "display_data"
    }
   ],
   "source": [
    "def likelihood2(n): # Nå har vi to gule nonstop, og n+1 totalt.\n",
    "    return 2/(n+1)\n",
    "\n",
    "df5 = DataFrame()\n",
    "df5['Prior'] = df4['Posterior'] # Gammel posterior, ny prior\n",
    "df5['Likelihood'] = ns.apply(likelihood2) # Utfør likelihood-funksjonen for alle n-verdiene i ns.\n",
    "df5['PxL'] = df5['Prior'] * df5['Likelihood']\n",
    "df5['Posterior'] = df5['PxL'] / sum(df5['PxL'])\n",
    "df5.index = ns\n",
    "\n",
    "df5['Posterior'].plot.bar(width=0.1)\n",
    "df5"
   ]
  },
  {
   "cell_type": "markdown",
   "metadata": {},
   "source": [
    "## Kontinuerlig funksjon og symbolsk integrasjon\n",
    "\n",
    "Det hender vi får funksjoner med delt funksjonsforskrift. Med metodene vi har brukt tidligere, vil vi ikke få noen særlig hjelp i disse tilfellene. Ja, vi kan gjøre numerisk integrasjon ved å evaluere veldig mange punkter, men la oss heller se på en annen løsning.\n",
    "\n",
    "Anaconda blir levert med en pakke som heter \"sympy\". Denne pakken lar deg regne symbolsk med Python."
   ]
  },
  {
   "cell_type": "code",
   "execution_count": 7,
   "metadata": {
    "collapsed": false
   },
   "outputs": [],
   "source": [
    "# Slår av advarsler slik at ikke notebooken blir overfylt av forstyrrende informasjon\n",
    "import warnings\n",
    "warnings.filterwarnings('ignore')\n",
    "\n",
    "# Importer det vi trenger fra sympy, og sett opp printing, slik at vi får penere resultater ut.\n",
    "from sympy import init_printing, Symbol, Piecewise, plot, simplify, piecewise_fold\n",
    "init_printing(use_latex='mathjax')"
   ]
  },
  {
   "cell_type": "markdown",
   "metadata": {},
   "source": [
    "Vi kan nå lage en symbolsk variabel. Denne kan vi bruke i en Piecewise-funksjon. Piecewise tar inn parametere for alle delfunksjonene i såkalte tuples, på formen \"(funksjon, kriterie)\". Her er funksjonen altså 0 for x <= -2 osv.\n",
    "\n",
    "Vi plotter denne med sympy sin plotfunksjon, og returnerer prior, slik at vi ser funksjonen under grafen."
   ]
  },
  {
   "cell_type": "code",
   "execution_count": 8,
   "metadata": {
    "collapsed": false
   },
   "outputs": [
    {
     "data": {
      "image/png": "[encoded data removed]",
      "text/plain": [
       "<matplotlib.figure.Figure at 0x7ffb36cd0ba8>"
      ]
     },
     "metadata": {},
     "output_type": "display_data"
    },
    {
     "data": {
      "text/latex": [
       "$$\\begin{cases} 0 & \\text{for}\\: x \\leq -2 \\\\0.25 x + 0.5 & \\text{for}\\: x \\leq 0 \\\\- 0.25 x + 0.5 & \\text{for}\\: x \\leq 2 \\\\0 & \\text{otherwise} \\end{cases}$$"
      ],
      "text/plain": [
       "⎧       0          for x ≤ -2\n",
       "⎪                            \n",
       "⎪  0.25⋅x + 0.5    for x ≤ 0 \n",
       "⎨                            \n",
       "⎪-- -0.25⋅x + 0.5  for x ≤ 2 \n",
       "⎪                            \n",
       "⎩       0          otherwise "
      ]
     },
     "execution_count": 8,
     "metadata": {},
     "output_type": "execute_result"
    }
   ],
   "source": [
    "x = Symbol('x')\n",
    "prior = Piecewise(\n",
    "    (0, x <= -2),\n",
    "    (0.5+0.25*x, x <= 0),\n",
    "    (0.5-0.25*x, x <= 2),\n",
    "    (0, True), x\n",
    ")\n",
    "\n",
    "plot(prior, adaptive=False)\n",
    "prior"
   ]
  },
  {
   "cell_type": "markdown",
   "metadata": {},
   "source": [
    "Dette eksempelet har blitt forenklet noe, da Sympy sin støtte for integrasjon av Piecewise-funksjoner ikke fungerer slik den skal når vi har to nivåer med delt funksjonsforskrift. F.eks. hvis både prior og likelihood var delt. Derfor forenkler vi med en lineær funksjon til likelihood. Dette vil trolig bli utbedret i en senere versjon av programvaren."
   ]
  },
  {
   "cell_type": "code",
   "execution_count": 9,
   "metadata": {
    "collapsed": false
   },
   "outputs": [
    {
     "data": {
      "image/png": "[encoded data removed]",
      "text/plain": [
       "<matplotlib.figure.Figure at 0x7ffb36e54358>"
      ]
     },
     "metadata": {},
     "output_type": "display_data"
    },
    {
     "data": {
      "text/latex": [
       "$$x + 3$$"
      ],
      "text/plain": [
       "x + 3"
      ]
     },
     "execution_count": 9,
     "metadata": {},
     "output_type": "execute_result"
    }
   ],
   "source": [
    "likelihood = x+3\n",
    "\n",
    "plot(likelihood, adaptive=False)\n",
    "likelihood"
   ]
  },
  {
   "cell_type": "code",
   "execution_count": 10,
   "metadata": {
    "collapsed": false
   },
   "outputs": [
    {
     "data": {
      "image/png": "[encoded data removed]",
      "text/plain": [
       "<matplotlib.figure.Figure at 0x7ffb36bc50f0>"
      ]
     },
     "metadata": {},
     "output_type": "display_data"
    },
    {
     "data": {
      "text/latex": [
       "$$\\begin{cases} 0 & \\text{for}\\: x \\leq -2 \\\\\\left(0.25 x + 0.5\\right) \\left(x + 3\\right) & \\text{for}\\: x \\leq 0 \\\\\\left(- 0.25 x + 0.5\\right) \\left(x + 3\\right) & \\text{for}\\: x \\leq 2 \\\\0 & \\text{otherwise} \\end{cases}$$"
      ],
      "text/plain": [
       "⎧            0               for x ≤ -2\n",
       "⎪                                      \n",
       "⎪  (0.25⋅x + 0.5)⋅(x + 3)    for x ≤ 0 \n",
       "⎨                                      \n",
       "⎪(-- -0.25⋅x + 0.5)⋅(x + 3)  for x ≤ 2 \n",
       "⎪                                      \n",
       "⎩            0               otherwise "
      ]
     },
     "execution_count": 10,
     "metadata": {},
     "output_type": "execute_result"
    }
   ],
   "source": [
    "pxl = piecewise_fold(prior*likelihood)\n",
    "\n",
    "plot(pxl, adaptive=False)\n",
    "pxl"
   ]
  },
  {
   "cell_type": "markdown",
   "metadata": {},
   "source": [
    "Nå har vi ganget sammen prior og likelihood, og vi kan deretter integrere PxL for å få skaleringsfaktor. Deretter skalerer vi, og får posterior."
   ]
  },
  {
   "cell_type": "code",
   "execution_count": 11,
   "metadata": {
    "collapsed": false
   },
   "outputs": [
    {
     "name": "stdout",
     "output_type": "stream",
     "text": [
      "1.00000000000000\n"
     ]
    },
    {
     "data": {
      "image/png": "[encoded data removed]",
      "text/plain": [
       "<matplotlib.figure.Figure at 0x7ffb36b571d0>"
      ]
     },
     "metadata": {},
     "output_type": "display_data"
    },
    {
     "data": {
      "text/latex": [
       "$$\\begin{cases} 0 & \\text{for}\\: x \\leq -2 \\\\0.333333333333333 \\left(0.25 x + 0.5\\right) \\left(x + 3\\right) & \\text{for}\\: x \\leq 0 \\\\0.333333333333333 \\left(- 0.25 x + 0.5\\right) \\left(x + 3\\right) & \\text{for}\\: x \\leq 2 \\\\0 & \\text{otherwise} \\end{cases}$$"
      ],
      "text/plain": [
       "⎧                     0                        for x ≤ -2\n",
       "⎪                                                        \n",
       "⎪  0.333333333333333⋅(0.25⋅x + 0.5)⋅(x + 3)    for x ≤ 0 \n",
       "⎨                                                        \n",
       "⎪0.333333333333333⋅(-- -0.25⋅x + 0.5)⋅(x + 3)  for x ≤ 2 \n",
       "⎪                                                        \n",
       "⎩                     0                        otherwise "
      ]
     },
     "execution_count": 11,
     "metadata": {},
     "output_type": "execute_result"
    }
   ],
   "source": [
    "from sympy import oo, integrate\n",
    "s = integrate(pxl, (x, -oo, oo))\n",
    "\n",
    "posterior = piecewise_fold(pxl/s)\n",
    "print(integrate(posterior, (x, -oo, oo))) # Printer 1.0, sjekker dette pga. begrenset støtte for Piecewise i Sympy.\n",
    "\n",
    "plot(posterior, adaptive=False)\n",
    "posterior"
   ]
  },
  {
   "cell_type": "markdown",
   "metadata": {},
   "source": [
    "I neste kapittel skal vi se på konjugert prior, og hvordan du kan forenkle utregning av posterior med et par enkle triks."
   ]
  }
 ],
 "metadata": {
  "kernelspec": {
   "display_name": "Python 3",
   "language": "python",
   "name": "python3"
  },
  "language_info": {
   "codemirror_mode": {
    "name": "ipython",
    "version": 3
   },
   "file_extension": ".py",
   "mimetype": "text/x-python",
   "name": "python",
   "nbconvert_exporter": "python",
   "pygments_lexer": "ipython3",
   "version": "3.5.1"
  }
 },
 "nbformat": 4,
 "nbformat_minor": 0
}
