{
 "cells": [
  {
   "cell_type": "markdown",
   "metadata": {},
   "source": [
    "# Diskrete sannsynlighetsfordelinger\n",
    "\n",
    "Nå skal vi se på noen diskrete sannsynlighetsfordelinger. Vi starter med binomisk fordeling. Scipy sin stats-modul inneholder ferdig funksjonalitet for denne, og [mange andre diskrete fordelinger](https://docs.scipy.org/doc/scipy-0.16.1/reference/stats.html#discrete-distributions).\n",
    "\n",
    "## Binomisk sannsynlighetsfordeling\n",
    "\n",
    "La oss si at vi har en bøyd mynt som har 60% sjanse for kron. Vi kaster den 10 ganger. Hva er sannsynligheten for at vi får 0, 1, 2 eller 3 kron?"
   ]
  },
  {
   "cell_type": "code",
   "execution_count": null,
   "metadata": {
    "collapsed": false
   },
   "outputs": [],
   "source": [
    "from scipy.stats import binom # Importerer / henter inn binom (Binomisk fordeling)\n",
    "\n",
    "n = 10\n",
    "p = 0.6\n",
    "\n",
    "mynt_kron = binom.pmf([0, 1, 2, 3], n, p)\n",
    "\n",
    "mynt_kron"
   ]
  },
  {
   "cell_type": "markdown",
   "metadata": {},
   "source": [
    "Her bruker vi \"pmf\"-metoden til binom-fordelingen. PMF står for \"Probability Mass Function\". Vi sier at vi vil ha sannsynligheten for 0, 1, 2 og 3 kron (første parameter), med 10 kast (andre parameter). Hvert kast er uavhengig av tidligere kast, og har 60% (0.6) sjanse for kron.\n",
    "\n",
    "Vi ser at vi får tilbake en liste. Første verdi er sannsynligheten for 0 kron, andre verdi for 1 kron osv. Hvis vi vil ha summen av sannsynlighetene, bruker vi \"sum\"-funksjonen til Python, slik:"
   ]
  },
  {
   "cell_type": "code",
   "execution_count": null,
   "metadata": {
    "collapsed": false
   },
   "outputs": [],
   "source": [
    "sum(mynt_kron)"
   ]
  },
  {
   "cell_type": "markdown",
   "metadata": {},
   "source": [
    "Vi ser dermed at det er ca 5.5% sjanse for at vi får 0, 1, 2 eller 3 kron på 10 kast, med denne bøyde mynten.\n",
    "\n",
    "Videre kan vi også finne variansen til en binomisk fordeling, ved å bruke \"var\"-funksjonen til \"binom\". Her er parameterne 10 og 0.6 hhv. antall kast, og sannsynlighet for kron."
   ]
  },
  {
   "cell_type": "code",
   "execution_count": null,
   "metadata": {
    "collapsed": false
   },
   "outputs": [],
   "source": [
    "print('Varians:', binom.var(n, p))\n",
    "print('Forventning:', n * p)"
   ]
  },
  {
   "cell_type": "markdown",
   "metadata": {},
   "source": [
    "### Plotting av sannsynlighetsfordeling\n",
    "\n",
    "Vi kan plotte sannsynlighetsfordelingen ved å hente inn Series-objektet fra Pandas. Vi bruker \"binom\", som tidligere, men nå henter vi verdier for hele intervallet vi er interesserte i."
   ]
  },
  {
   "cell_type": "code",
   "execution_count": null,
   "metadata": {
    "collapsed": false
   },
   "outputs": [],
   "source": [
    "%matplotlib inline\n",
    "from pandas import Series\n",
    "import matplotlib.pyplot as plt\n",
    "\n",
    "# Som over, men her henter vi for alle de diskrete verdiene, ikke bare 0, 1, 2, 3\n",
    "mynt_alle = binom.pmf(range(n+1), n, p) # range(n+1) gir oss en liste med n elementer [0, ... n]\n",
    "\n",
    "# Lage en Pandas-serie med datapunktene\n",
    "data = Series(mynt_alle)\n",
    "\n",
    "# Plotte fordelingen som et stolpediagram\n",
    "data.plot.bar(width=0.1)\n",
    "plt.show()"
   ]
  },
  {
   "cell_type": "markdown",
   "metadata": {},
   "source": [
    "## Hypergeometrisk sannsynlighetsfordeling\n",
    "\n",
    "Alle de diskrete sannsynlighetsfordelingene i scipy.stats-modulen brukes på en ganske tilsvarende måte. Vi gir dem noen parametere inn i fordelingens \"pmf\"-funksjon. Man har også tilgang til f.eks. varians og standardavvik på en tilsvarende måte som i den binomiske sannsynlighetsfordelingen vi brukte over.\n",
    "\n",
    "Vi skal nå se på den hypergeometriske sannsynlighetsfordelingen.\n",
    "\n",
    "Eksempel: Vi har en blandingspose med peanøtter og cashewnøtter. Det er 20 peanøtter og 10 cashewnøtter igjen. Du snur posen opp ned, og det ramler ut åtte nøtter. Selv om peanøtter og cashewnøtter har litt ulik form, regner vi med at dette ikke har noen innvirkning på hva som faller ut av posen.\n",
    "\n",
    "Hva er sannsynligheten for å færre enn tre cashewnøtter?"
   ]
  },
  {
   "cell_type": "code",
   "execution_count": null,
   "metadata": {
    "collapsed": false
   },
   "outputs": [],
   "source": [
    "from scipy.stats import hypergeom\n",
    "\n",
    "xs = [0, 1, 2]\n",
    "n = 8\n",
    "S = 10\n",
    "N = 30\n",
    "\n",
    "notter = hypergeom.pmf(xs, N, S, n)\n",
    "\n",
    "sum(notter)"
   ]
  },
  {
   "cell_type": "markdown",
   "metadata": {},
   "source": [
    "Altså rett over 45% sjanse. Som i forrige eksempel, kan vi også lage en figur med denne fordelingen."
   ]
  },
  {
   "cell_type": "code",
   "execution_count": null,
   "metadata": {
    "collapsed": false
   },
   "outputs": [],
   "source": [
    "notter_alle = hypergeom.pmf(range(n+1), N, S, n)\n",
    "\n",
    "data = Series(notter_alle)\n",
    "data.plot.bar(width=0.1)\n",
    "plt.show()"
   ]
  },
  {
   "cell_type": "markdown",
   "metadata": {},
   "source": [
    "## Poisson\n",
    "\n",
    "Du skal på innebandykamp, og får vite at det scores i gjennomsnitt 12 mål per kamp. Hva er sannsynligheten for at det scores færre enn 8 mål i den kampen du skal på?"
   ]
  },
  {
   "cell_type": "code",
   "execution_count": null,
   "metadata": {
    "collapsed": false
   },
   "outputs": [],
   "source": [
    "from scipy.stats import poisson\n",
    "\n",
    "xs = range(9) # [0 ... 8] inklusiv 0 og 8\n",
    "maal = poisson.pmf(xs, 12) # Alle sannsynlighetene f.o.m. 0 mål, t.o.m. 8 mål\n",
    "\n",
    "sum(maal) # Sum av sannsynlighetene"
   ]
  },
  {
   "cell_type": "code",
   "execution_count": null,
   "metadata": {
    "collapsed": false
   },
   "outputs": [],
   "source": [
    "data = Series(maal)\n",
    "data.plot.bar(width=0.1)\n",
    "plt.show()"
   ]
  },
  {
   "cell_type": "markdown",
   "metadata": {},
   "source": [
    "## Geometrisk\n",
    "\n",
    "PCen din har problemer med å koble på universitetets nettverk. Du skrur av og på WiFi på maskinen til du får koblet til. For hvert forsøk er det 34% sannsynlig at du får koblet til. Hva er sannsynligheten for at du får koblet til på mindre enn 3 forsøk?"
   ]
  },
  {
   "cell_type": "code",
   "execution_count": null,
   "metadata": {
    "collapsed": false
   },
   "outputs": [],
   "source": [
    "from scipy.stats import geom\n",
    "\n",
    "tilkobling = geom.pmf([1,2], 0.34) # Sannsynligheter for 1 og 2 tilkoblinger.\n",
    "\n",
    "print('P(3 eller mindre tilkoblinger):', sum(tilkobling))\n",
    "print('Forventning:', 1/0.34)"
   ]
  },
  {
   "cell_type": "code",
   "execution_count": null,
   "metadata": {
    "collapsed": false
   },
   "outputs": [],
   "source": [
    "data = Series(geom.pmf(range(15), 0.34))\n",
    "data.plot.bar(width=0.1)\n",
    "plt.show()"
   ]
  },
  {
   "cell_type": "markdown",
   "metadata": {},
   "source": [
    "## Negativ binomisk\n",
    "\n",
    "Du er telefonselger, og får en bonus hvis du skaffer 5 nye kunder til Mirakelpiller AS iløpet av en time. Det er 20% sjanse for at en samtale resulterer i kjøp.\n",
    "\n",
    "Hva er sannsynligheten for at du får solgt 5 mirakelpiller hvis du ringer til 15 personer i alt?"
   ]
  },
  {
   "cell_type": "code",
   "execution_count": null,
   "metadata": {
    "collapsed": false
   },
   "outputs": [],
   "source": [
    "from scipy.stats import nbinom\n",
    "\n",
    "fem_salg = nbinom.pmf(10, 5, 0.2)\n",
    "fem_salg"
   ]
  },
  {
   "cell_type": "code",
   "execution_count": null,
   "metadata": {
    "collapsed": false
   },
   "outputs": [],
   "source": [
    "data = Series(nbinom.pmf(10, range(15), 0.2))\n",
    "data.plot.bar(width=0.1)\n",
    "plt.show()"
   ]
  }
 ],
 "metadata": {
  "kernelspec": {
   "display_name": "Python 3",
   "language": "python",
   "name": "python3"
  },
  "language_info": {
   "codemirror_mode": {
    "name": "ipython",
    "version": 3
   },
   "file_extension": ".py",
   "mimetype": "text/x-python",
   "name": "python",
   "nbconvert_exporter": "python",
   "pygments_lexer": "ipython3",
   "version": "3.5.1"
  }
 },
 "nbformat": 4,
 "nbformat_minor": 0
}
