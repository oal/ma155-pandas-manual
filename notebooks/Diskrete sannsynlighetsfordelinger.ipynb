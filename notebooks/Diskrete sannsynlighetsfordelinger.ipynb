{
 "cells": [
  {
   "cell_type": "markdown",
   "metadata": {},
   "source": [
    "# Diskrete sannsynlighetsfordelinger\n",
    "\n",
    "Nå skal vi se på noen diskrete sannsynlighetsfordelinger. Vi starter med binomisk fordeling. Scipy sin stats-modul inneholder ferdig funksjonalitet for denne, og [mange andre diskrete fordelinger](https://docs.scipy.org/doc/scipy-0.16.1/reference/stats.html#discrete-distributions).\n",
    "\n",
    "## Binomisk sannsynlighetsfordeling\n",
    "\n",
    "La oss si at vi har en bøyd mynt som har 60% sjanse for kron. Vi kaster den 10 ganger. Hva er sannsynligheten for at vi får 0, 1, 2 eller 3 kron?"
   ]
  },
  {
   "cell_type": "code",
   "execution_count": 1,
   "metadata": {
    "collapsed": false
   },
   "outputs": [
    {
     "data": {
      "text/plain": [
       "array([ 0.00010486,  0.00157286,  0.01061683,  0.04246733])"
      ]
     },
     "execution_count": 1,
     "metadata": {},
     "output_type": "execute_result"
    }
   ],
   "source": [
    "from scipy.stats import binom # Importerer / henter inn binom (Binomisk fordeling)\n",
    "\n",
    "n = 10\n",
    "p = 0.6\n",
    "\n",
    "mynt_kron = binom.pmf([0, 1, 2, 3], n, p)\n",
    "\n",
    "mynt_kron"
   ]
  },
  {
   "cell_type": "markdown",
   "metadata": {},
   "source": [
    "Her bruker vi \"pmf\"-metoden til binom-fordelingen. PMF står for \"Probability Mass Function\". Vi sier at vi vil ha sannsynligheten for 0, 1, 2 og 3 kron (første parameter), med 10 kast (andre parameter). Hvert kast er uavhengig av tidligere kast, og har 60% (0.6) sjanse for kron.\n",
    "\n",
    "Vi ser at vi får tilbake en liste. Første verdi er sannsynligheten for 0 kron, andre verdi for 1 kron osv. Hvis vi vil ha summen av sannsynlighetene, bruker vi \"sum\"-funksjonen til Python, slik:"
   ]
  },
  {
   "cell_type": "code",
   "execution_count": 2,
   "metadata": {
    "collapsed": false
   },
   "outputs": [
    {
     "data": {
      "text/plain": [
       "0.054761881600000041"
      ]
     },
     "execution_count": 2,
     "metadata": {},
     "output_type": "execute_result"
    }
   ],
   "source": [
    "sum(mynt_kron)"
   ]
  },
  {
   "cell_type": "markdown",
   "metadata": {},
   "source": [
    "Vi ser dermed at det er ca 5.5% sjanse for at vi får 0, 1, 2 eller 3 kron på 10 kast, med denne bøyde mynten.\n",
    "\n",
    "Videre kan vi også finne variansen til en binomisk fordeling, ved å bruke \"var\"-funksjonen til \"binom\". Her er parameterne 10 og 0.6 hhv. antall kast, og sannsynlighet for kron."
   ]
  },
  {
   "cell_type": "code",
   "execution_count": 3,
   "metadata": {
    "collapsed": false
   },
   "outputs": [
    {
     "name": "stdout",
     "output_type": "stream",
     "text": [
      "Varians: 2.4\n",
      "Forventning: 6.0\n"
     ]
    }
   ],
   "source": [
    "print('Varians:', binom.var(n, p))\n",
    "print('Forventning:', n * p)"
   ]
  },
  {
   "cell_type": "markdown",
   "metadata": {},
   "source": [
    "### Plotting av sannsynlighetsfordeling\n",
    "\n",
    "Vi kan plotte sannsynlighetsfordelingen ved å hente inn Series-objektet fra Pandas. Vi bruker \"binom\", som tidligere, men nå henter vi verdier for hele intervallet vi er interesserte i."
   ]
  },
  {
   "cell_type": "code",
   "execution_count": 14,
   "metadata": {
    "collapsed": false
   },
   "outputs": [
    {
     "data": {
      "image/png": "[encoded data removed]",
      "text/plain": [
       "<matplotlib.figure.Figure at 0x7fe678b9c4e0>"
      ]
     },
     "metadata": {},
     "output_type": "display_data"
    }
   ],
   "source": [
    "%matplotlib inline\n",
    "from pandas import Series\n",
    "import matplotlib.pyplot as plt\n",
    "\n",
    "# Som over, men her henter vi for alle de diskrete verdiene, ikke bare 0, 1, 2, 3\n",
    "mynt_alle = binom.pmf(range(n+1), n, p) # range(n+1) gir oss en liste med n elementer [0, ... n]\n",
    "\n",
    "# Lage en Pandas-serie med datapunktene\n",
    "data = Series(mynt_alle)\n",
    "\n",
    "# Plotte fordelingen som et stolpediagram\n",
    "data.plot.bar(width=0.1)\n",
    "plt.show()"
   ]
  },
  {
   "cell_type": "markdown",
   "metadata": {},
   "source": [
    "## Hypergeometrisk sannsynlighetsfordeling\n",
    "\n",
    "Alle de diskrete sannsynlighetsfordelingene i scipy.stats-modulen brukes på en ganske tilsvarende måte. Vi gir dem noen parametere inn i fordelingens \"pmf\"-funksjon. Man har også tilgang til f.eks. varians og standardavvik på en tilsvarende måte som i den binomiske sannsynlighetsfordelingen vi brukte over.\n",
    "\n",
    "Vi skal nå se på den hypergeometriske sannsynlighetsfordelingen.\n",
    "\n",
    "Eksempel: Vi har en blandingspose med peanøtter og cashewnøtter. Det er 20 peanøtter og 10 cashewnøtter igjen. Du snur posen opp ned, og det ramler ut åtte nøtter. Selv om peanøtter og cashewnøtter har litt ulik form, regner vi med at dette ikke har noen innvirkning på hva som faller ut av posen.\n",
    "\n",
    "Hva er sannsynligheten for å færre enn tre cashewnøtter?"
   ]
  },
  {
   "cell_type": "code",
   "execution_count": 24,
   "metadata": {
    "collapsed": false
   },
   "outputs": [
    {
     "data": {
      "text/plain": [
       "0.45197401299350742"
      ]
     },
     "execution_count": 24,
     "metadata": {},
     "output_type": "execute_result"
    }
   ],
   "source": [
    "from scipy.stats import hypergeom\n",
    "\n",
    "n = 8\n",
    "S = 10\n",
    "N = 30\n",
    "\n",
    "notter = hypergeom.pmf([0, 1, 2], N, S, n)\n",
    "\n",
    "sum(notter)"
   ]
  },
  {
   "cell_type": "markdown",
   "metadata": {},
   "source": [
    "Altså rett over 45% sjanse. Som i forrige eksempel, kan vi også lage en f"
   ]
  },
  {
   "cell_type": "code",
   "execution_count": 38,
   "metadata": {
    "collapsed": false
   },
   "outputs": [
    {
     "data": {
      "image/png": "[encoded data removed]",
      "text/plain": [
       "<matplotlib.figure.Figure at 0x7fe6786fc978>"
      ]
     },
     "metadata": {},
     "output_type": "display_data"
    }
   ],
   "source": [
    "notter_alle = hypergeom.pmf(range(n+1), N, S, n)\n",
    "\n",
    "data = Series(notter_alle)\n",
    "data.plot.bar(width=0.1)\n",
    "plt.show()"
   ]
  }
 ],
 "metadata": {
  "kernelspec": {
   "display_name": "Python 3",
   "language": "python",
   "name": "python3"
  },
  "language_info": {
   "codemirror_mode": {
    "name": "ipython",
    "version": 3
   },
   "file_extension": ".py",
   "mimetype": "text/x-python",
   "name": "python",
   "nbconvert_exporter": "python",
   "pygments_lexer": "ipython3",
   "version": "3.5.1"
  }
 },
 "nbformat": 4,
 "nbformat_minor": 0
}
