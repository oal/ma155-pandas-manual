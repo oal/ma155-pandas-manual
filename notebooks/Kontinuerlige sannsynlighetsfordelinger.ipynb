{
 "cells": [
  {
   "cell_type": "markdown",
   "metadata": {},
   "source": [
    "# Kontinuerlige fordelinger\n",
    "\n",
    "I forrige kapittel så vi på hvordan Scipy kunne hjelpe oss med diskrete fordelinger. Den samme pakken inneholder også tilsvarende funksjonalitet for [kontinuerlige sannsynlighetsfordelinger](https://docs.scipy.org/doc/scipy-0.16.1/reference/stats.html#continuous-distributions). Vi skal se på noen av dem her.\n",
    "\n",
    "## Normalfordelingen\n",
    "Da vi så på diskrete fordelinger brukte vi PDF-funksjonen for å finne sannsynligheter for de diskrete verdiene. Med kontinuerlige fordelinger, er ikke dette noen god løsning. Sannsynligheten for enhver verdi i en kontinuerlig fordelinger 0, og det vi egentlig er ute etter, er arealet under grafen som fordelingen danner. For å slippe integrasjon, bruker vi derfor den kumulative funksjonen, CDF (Cumulative Distribution Function).\n",
    "\n",
    "#### Eksempel:\n",
    "Finn $\\Phi(1.23)$\n"
   ]
  },
  {
   "cell_type": "code",
   "execution_count": 1,
   "metadata": {
    "collapsed": false
   },
   "outputs": [
    {
     "data": {
      "text/plain": [
       "0.89065144757430814"
      ]
     },
     "execution_count": 1,
     "metadata": {},
     "output_type": "execute_result"
    }
   ],
   "source": [
    "from scipy.stats import norm\n",
    "\n",
    "norm.cdf(1.23)"
   ]
  },
  {
   "cell_type": "markdown",
   "metadata": {},
   "source": [
    "#### Eksempel:\n",
    "\n",
    "Gitt $X \\tilde {} N_{(3, 2)}$\n",
    "\n",
    "Hva er sannsynligheten for at X er mindre enn 3.82?"
   ]
  },
  {
   "cell_type": "code",
   "execution_count": 2,
   "metadata": {
    "collapsed": false
   },
   "outputs": [
    {
     "data": {
      "text/plain": [
       "0.65909702622767741"
      ]
     },
     "execution_count": 2,
     "metadata": {},
     "output_type": "execute_result"
    }
   ],
   "source": [
    "norm.cdf(3.82, 3, 2)"
   ]
  },
  {
   "cell_type": "markdown",
   "metadata": {},
   "source": [
    "CDF finner arealet under grafen fra $-\\inf$ og opp til X (første parameter, altså 3.82 i forrige eksempel). Hvis vi vil finne sannsynligheten for at verdien faller innenfor et intervall, regner vi ut for begge ender av intervallet, og trekker fra.\n",
    "\n",
    "#### Eksempel\n",
    "Gitt $X \\tilde {} N_{(1.5, 1.75)}$\n",
    "\n",
    "Hva er sannsynligheten for at X er mellom 1 og 2?"
   ]
  },
  {
   "cell_type": "code",
   "execution_count": 3,
   "metadata": {
    "collapsed": false
   },
   "outputs": [
    {
     "data": {
      "text/plain": [
       "0.22490303780401533"
      ]
     },
     "execution_count": 3,
     "metadata": {},
     "output_type": "execute_result"
    }
   ],
   "source": [
    "a = 1\n",
    "b = 2\n",
    "\n",
    "norm.cdf(b, 1.5, 1.75) - norm.cdf(a, 1.5, 1.75)"
   ]
  },
  {
   "cell_type": "markdown",
   "metadata": {},
   "source": [
    "Her ser du at vi gjentar $\\sigma$ og $\\mu$ i begge uttrykkene. Hvis vi har en fordeling vi ønsker å bruke flere ganger, kan vi lagre denne i en variabel. Vi lager da $N_{(\\sigma, \\mu)}$ ved at vi spesifiserer disse to direkte til \"norm\", og får en fordeling som vi kan ta vare på. Deretter trenger vi kun legge inn X i CDF-funksjonen. Dette kan spare oss for litt skriving:"
   ]
  },
  {
   "cell_type": "code",
   "execution_count": 4,
   "metadata": {
    "collapsed": false
   },
   "outputs": [
    {
     "data": {
      "text/plain": [
       "0.22490303780401533"
      ]
     },
     "execution_count": 4,
     "metadata": {},
     "output_type": "execute_result"
    }
   ],
   "source": [
    "min_fordeling = norm(1.5, 1.75)\n",
    "\n",
    "min_fordeling.cdf(b) - min_fordeling.cdf(a)"
   ]
  },
  {
   "cell_type": "markdown",
   "metadata": {},
   "source": [
    "### Invers kumulativ fordeling\n",
    "\n",
    "Invers er tilgjengelig ved hjelp av PPF-funksjonen (Percent Point Function). Denne kan vi bruke direkte på \"norm\", som vi har gjort med CDF og PDF tidligere. Vi kan også bruke den på våre egne varianter av fordelingene, slik som \"min_fordeling\" over. Prøv å bytte ut \"norm\" med \"min_fordeling\", her:"
   ]
  },
  {
   "cell_type": "code",
   "execution_count": 5,
   "metadata": {
    "collapsed": false
   },
   "outputs": [
    {
     "data": {
      "text/plain": [
       "-1.6448536269514729"
      ]
     },
     "execution_count": 5,
     "metadata": {},
     "output_type": "execute_result"
    }
   ],
   "source": [
    "norm.ppf(0.05)"
   ]
  },
  {
   "cell_type": "markdown",
   "metadata": {},
   "source": [
    "### Normaltilnærmingen\n",
    "\n",
    "Normaltilnærming for både diskrete og kontinuerlige stokastiske variable kan vi finne ved å bruke de samme funksjonene som tidligere, og setter inn hhv. $\\mu=\\mu x - \\frac{1}{2}$ og $\\sigma=\\sigma x$, eller $\\mu=\\mu x$ og $\\sigma = \\sigma x$ slik vi er vant med.\n",
    "\n",
    "#### Eksempel"
   ]
  },
  {
   "cell_type": "code",
   "execution_count": 6,
   "metadata": {
    "collapsed": false
   },
   "outputs": [
    {
     "name": "stdout",
     "output_type": "stream",
     "text": [
      "0.405724028849\n",
      "0.406900415875\n"
     ]
    }
   ],
   "source": [
    "u = 4.7\n",
    "sigma = 2.8\n",
    "a = 3\n",
    "b = 6\n",
    "\n",
    "# Diskret\n",
    "ford_d = norm(u-0.5, sigma) # Vi trekker fra 1/2 her.\n",
    "print(ford_d.cdf(b) - ford_d.cdf(a))\n",
    "\n",
    "# Kontinuerlig\n",
    "ford_k = norm(u, sigma)\n",
    "print(ford_k.cdf(b) - ford_k.cdf(a))"
   ]
  },
  {
   "cell_type": "markdown",
   "metadata": {},
   "source": [
    "### Graf\n",
    "De fleste kjenner igjen normalfordelingskurven når de ser den. Men la oss tegne en graf likevel. Vi importerer matplotlib og DataFrame fra Pandas, slik vi har gjort før. Vi importerer også numpy, som forkortelsen np. Deretter bruker vi numpy sin \"linspace\" for å lage en jevnt fordelt liste med tall fra -4 til 4 på 50 elementer. Vi kunne også brukt \"range\"-funksjonen som vi har sett før, men da måtte vi selv funnet mellomrommet mellom hver verdi. Linspace tar inn parametere for miste verdi, største verdi, og antall oppdelinger.\n",
    "\n",
    "Videre lager vi en dataframe, og bruker normalfordelingens PDF-funksjon på elementene i x. For å få riktige indekser på X-aksen spesifiserer vi at vi ønsker x som \"index\"-parameter i DataFramen vår. Til slutt plotter vi den med \"line\"-plotteren."
   ]
  },
  {
   "cell_type": "code",
   "execution_count": 7,
   "metadata": {
    "collapsed": false
   },
   "outputs": [
    {
     "data": {
      "image/png": "[encoded data removed]",
      "text/plain": [
       "<matplotlib.figure.Figure at 0x7fc4a138e7f0>"
      ]
     },
     "metadata": {},
     "output_type": "display_data"
    }
   ],
   "source": [
    "%matplotlib inline\n",
    "from matplotlib import pyplot as plt\n",
    "from pandas import DataFrame\n",
    "import numpy as np\n",
    "\n",
    "x = np.linspace(-4, 4, 50) # Finn 50 jevnt fordelte verdier mellom -4 og 4.\n",
    "df = DataFrame(norm.pdf(x), index=x) # For hver verdi i x, regn ut tilhørende PDF-verdi,\n",
    "# og bruk x som indekser på X-aksen.\n",
    "\n",
    "df.plot.line(legend=None)\n",
    "plt.show()"
   ]
  },
  {
   "cell_type": "markdown",
   "metadata": {},
   "source": [
    "Nå kan vi lage en tilsvarende figur for den kumulative varianten. Siden vi allerede har laget x-variabelen, og importert de funksjonene vi trenger, gjenbruker vi dette, og koden blir mye kortere:"
   ]
  },
  {
   "cell_type": "code",
   "execution_count": 8,
   "metadata": {
    "collapsed": false
   },
   "outputs": [
    {
     "data": {
      "image/png": "[encoded data removed]",
      "text/plain": [
       "<matplotlib.figure.Figure at 0x7fc49dc269e8>"
      ]
     },
     "metadata": {},
     "output_type": "display_data"
    }
   ],
   "source": [
    "df2 = DataFrame(norm.cdf(x), x) # Gjenbruker x-ene mellom -4 og 4, og bruker disse til å finne tilhørende CDF\n",
    "# (kumulativ)\n",
    "\n",
    "df2.plot.line(legend=None)\n",
    "plt.show()"
   ]
  }
 ],
 "metadata": {
  "kernelspec": {
   "display_name": "Python 3",
   "language": "python",
   "name": "python3"
  },
  "language_info": {
   "codemirror_mode": {
    "name": "ipython",
    "version": 3
   },
   "file_extension": ".py",
   "mimetype": "text/x-python",
   "name": "python",
   "nbconvert_exporter": "python",
   "pygments_lexer": "ipython3",
   "version": "3.5.1"
  }
 },
 "nbformat": 4,
 "nbformat_minor": 0
}
