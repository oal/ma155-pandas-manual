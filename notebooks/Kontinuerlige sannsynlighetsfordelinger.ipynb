{
 "cells": [
  {
   "cell_type": "markdown",
   "metadata": {},
   "source": [
    "# Kontinuerlige fordelinger\n",
    "\n",
    "I forrige kapittel så vi på hvordan Scipy kunne hjelpe oss med diskrete fordelinger. Den samme pakken inneholder også tilsvarende funksjonalitet for [kontinuerlige sannsynlighetsfordelinger](https://docs.scipy.org/doc/scipy-0.16.1/reference/stats.html#continuous-distributions). Vi skal se på noen av dem her.\n",
    "\n",
    "## Normalfordelingen\n",
    "Da vi så på diskrete fordelinger brukte vi PDF-funksjonen for å finne sannsynligheter for de diskrete verdiene. Med kontinuerlige fordelinger, er ikke dette noen god løsning. Sannsynligheten for enhver verdi i en kontinuerlig fordelinger 0, og det vi egentlig er ute etter, er arealet under grafen som fordelingen danner. For å slippe integrasjon, bruker vi derfor den kumulative funksjonen, CDF (Cumulative Distribution Function).\n",
    "\n",
    "#### Eksempel:\n",
    "Finn $\\Phi(1.23)$\n"
   ]
  },
  {
   "cell_type": "code",
   "execution_count": 1,
   "metadata": {
    "collapsed": false
   },
   "outputs": [
    {
     "data": {
      "text/plain": [
       "0.89065144757430814"
      ]
     },
     "execution_count": 1,
     "metadata": {},
     "output_type": "execute_result"
    }
   ],
   "source": [
    "from scipy.stats import norm\n",
    "\n",
    "norm.cdf(1.23)"
   ]
  },
  {
   "cell_type": "markdown",
   "metadata": {},
   "source": [
    "#### Eksempel:\n",
    "\n",
    "Gitt $X \\tilde {} N_{(3, 2)}$\n",
    "\n",
    "Hva er sannsynligheten for at X er mindre enn 3.82?"
   ]
  },
  {
   "cell_type": "code",
   "execution_count": 2,
   "metadata": {
    "collapsed": false
   },
   "outputs": [
    {
     "data": {
      "text/plain": [
       "0.65909702622767741"
      ]
     },
     "execution_count": 2,
     "metadata": {},
     "output_type": "execute_result"
    }
   ],
   "source": [
    "norm.cdf(3.82, 3, 2)"
   ]
  },
  {
   "cell_type": "markdown",
   "metadata": {},
   "source": [
    "CDF finner arealet under grafen fra $-\\inf$ og opp til X (første parameter, altså 3.82 i forrige eksempel). Hvis vi vil finne sannsynligheten for at verdien faller innenfor et intervall, regner vi ut for begge ender av intervallet, og trekker fra.\n",
    "\n",
    "#### Eksempel\n",
    "Gitt $X \\tilde {} N_{(1.5, 1.75)}$\n",
    "\n",
    "Hva er sannsynligheten for at X er mellom 1 og 2?"
   ]
  },
  {
   "cell_type": "code",
   "execution_count": 3,
   "metadata": {
    "collapsed": false
   },
   "outputs": [
    {
     "data": {
      "text/plain": [
       "0.22490303780401533"
      ]
     },
     "execution_count": 3,
     "metadata": {},
     "output_type": "execute_result"
    }
   ],
   "source": [
    "a = 1\n",
    "b = 2\n",
    "\n",
    "norm.cdf(b, 1.5, 1.75) - norm.cdf(a, 1.5, 1.75)"
   ]
  },
  {
   "cell_type": "markdown",
   "metadata": {},
   "source": [
    "Her ser du at vi gjentar $\\sigma$ og $\\mu$ i begge uttrykkene. Hvis vi har en fordeling vi ønsker å bruke flere ganger, kan vi lagre denne i en variabel. Vi lager da $N_{(\\sigma, \\mu)}$ ved at vi spesifiserer disse to direkte til \"norm\", og får en fordeling som vi kan ta vare på. Deretter trenger vi kun legge inn X i CDF-funksjonen. Dette kan spare oss for litt skriving:"
   ]
  },
  {
   "cell_type": "code",
   "execution_count": 4,
   "metadata": {
    "collapsed": false
   },
   "outputs": [
    {
     "data": {
      "text/plain": [
       "0.22490303780401533"
      ]
     },
     "execution_count": 4,
     "metadata": {},
     "output_type": "execute_result"
    }
   ],
   "source": [
    "min_fordeling = norm(1.5, 1.75)\n",
    "\n",
    "min_fordeling.cdf(b) - min_fordeling.cdf(a)"
   ]
  },
  {
   "cell_type": "markdown",
   "metadata": {},
   "source": [
    "### Invers kumulativ fordeling\n",
    "\n",
    "Invers er tilgjengelig ved hjelp av PPF-funksjonen (Percent Point Function). Denne kan vi bruke direkte på \"norm\", som vi har gjort med CDF og PDF tidligere. Vi kan også bruke den på våre egne varianter av fordelingene, slik som \"min_fordeling\" over. Prøv å bytte ut \"norm\" med \"min_fordeling\", her:"
   ]
  },
  {
   "cell_type": "code",
   "execution_count": 5,
   "metadata": {
    "collapsed": false
   },
   "outputs": [
    {
     "data": {
      "text/plain": [
       "-1.6448536269514729"
      ]
     },
     "execution_count": 5,
     "metadata": {},
     "output_type": "execute_result"
    }
   ],
   "source": [
    "norm.ppf(0.05)"
   ]
  },
  {
   "cell_type": "markdown",
   "metadata": {},
   "source": [
    "### Normaltilnærmingen\n",
    "\n",
    "Normaltilnærming for både diskrete og kontinuerlige stokastiske variable kan vi finne ved å bruke de samme funksjonene som tidligere, og setter inn hhv. $\\mu=\\mu x - \\frac{1}{2}$ og $\\sigma=\\sigma x$, eller $\\mu=\\mu x$ og $\\sigma = \\sigma x$ slik vi er vant med.\n",
    "\n",
    "#### Eksempel"
   ]
  },
  {
   "cell_type": "code",
   "execution_count": 6,
   "metadata": {
    "collapsed": false
   },
   "outputs": [
    {
     "name": "stdout",
     "output_type": "stream",
     "text": [
      "0.405724028849\n",
      "0.406900415875\n"
     ]
    }
   ],
   "source": [
    "u = 4.7\n",
    "sigma = 2.8\n",
    "a = 3\n",
    "b = 6\n",
    "\n",
    "# Diskret\n",
    "ford_d = norm(u-0.5, sigma) # Vi trekker fra 1/2 her.\n",
    "print(ford_d.cdf(b) - ford_d.cdf(a))\n",
    "\n",
    "# Kontinuerlig\n",
    "ford_k = norm(u, sigma)\n",
    "print(ford_k.cdf(b) - ford_k.cdf(a))"
   ]
  },
  {
   "cell_type": "markdown",
   "metadata": {},
   "source": [
    "### Graf\n",
    "De fleste kjenner igjen normalfordelingskurven når de ser den. Men la oss tegne en graf likevel. Vi importerer matplotlib og DataFrame fra Pandas, slik vi har gjort før. Vi importerer også numpy, som forkortelsen np. Deretter bruker vi numpy sin \"linspace\" for å lage en jevnt fordelt liste med tall fra -4 til 4 på 50 elementer. Vi kunne også brukt \"range\"-funksjonen som vi har sett før, men da måtte vi selv funnet mellomrommet mellom hver verdi. Linspace tar inn parametere for miste verdi, største verdi, og antall oppdelinger.\n",
    "\n",
    "Videre lager vi en dataframe, og bruker normalfordelingens PDF-funksjon på elementene i x. For å få riktige indekser på X-aksen spesifiserer vi at vi ønsker x som \"index\"-parameter i DataFramen vår. Til slutt plotter vi den med \"line\"-plotteren."
   ]
  },
  {
   "cell_type": "code",
   "execution_count": 7,
   "metadata": {
    "collapsed": false
   },
   "outputs": [
    {
     "data": {
      "image/png": "[encoded data removed]",
      "text/plain": [
       "<matplotlib.figure.Figure at 0x7fd0e6054748>"
      ]
     },
     "metadata": {},
     "output_type": "display_data"
    }
   ],
   "source": [
    "%matplotlib inline\n",
    "from matplotlib import pyplot as plt\n",
    "from pandas import DataFrame\n",
    "import numpy as np\n",
    "\n",
    "x = np.linspace(-4, 4, 50) # Finn 50 jevnt fordelte verdier mellom -4 og 4.\n",
    "df = DataFrame(norm.pdf(x), index=x) # For hver verdi i x, regn ut tilhørende PDF-verdi,\n",
    "# og bruk x som indekser på X-aksen.\n",
    "\n",
    "df.plot.line(legend=None)\n",
    "plt.show()"
   ]
  },
  {
   "cell_type": "markdown",
   "metadata": {},
   "source": [
    "Linjen følger altså PDF til X-verdiene. Tilsvarende kumulative funksjon (CDF) vil gi oss arealet under grafen fra $-\\inf$ til parameteren x."
   ]
  },
  {
   "cell_type": "code",
   "execution_count": 8,
   "metadata": {
    "collapsed": false
   },
   "outputs": [
    {
     "name": "stdout",
     "output_type": "stream",
     "text": [
      "PDF(1): 0.241970724519\n",
      "CDF(1): 0.841344746069\n"
     ]
    }
   ],
   "source": [
    "print('PDF(1):', norm.pdf(1))\n",
    "print('CDF(1):', norm.cdf(1))"
   ]
  },
  {
   "cell_type": "markdown",
   "metadata": {},
   "source": [
    "Nå kan vi lage en tilsvarende figur for den kumulative varianten. Siden vi allerede har laget x-variabelen, og importert de funksjonene vi trenger, gjenbruker vi dette, og koden blir mye kortere:"
   ]
  },
  {
   "cell_type": "code",
   "execution_count": 9,
   "metadata": {
    "collapsed": false
   },
   "outputs": [
    {
     "data": {
      "image/png": "[encoded data removed]",
      "text/plain": [
       "<matplotlib.figure.Figure at 0x7fd0e28e9eb8>"
      ]
     },
     "metadata": {},
     "output_type": "display_data"
    }
   ],
   "source": [
    "df2 = DataFrame(norm.cdf(x), x) # Gjenbruker x-ene mellom -4 og 4, og bruker disse til å finne tilhørende CDF\n",
    "# (kumulativ)\n",
    "\n",
    "df2.plot.line(legend=None)\n",
    "plt.show()"
   ]
  },
  {
   "cell_type": "markdown",
   "metadata": {},
   "source": [
    "Siden denne allerede plotter den kumulative varianten, har vi her CDF(x) for hver x-verdi, og vi tenker ikke lenger på arealet under grafen.\n",
    "\n",
    "## Student's T\n",
    "Scipy inneholder også kode for Student's T-fordelingen. En ting som er verdt å merke seg her er at parameterrekkefølgen ikke er slik den står i læreboka for $t_{\\nu, \\alpha}$. I Scipy er første parameter x / $\\alpha$, og andre parameter df / $\\nu$ (Degree of freedom, frihetsgrad).\n",
    "\n",
    "For klarhetens skyld, kan vi skrive det slik:"
   ]
  },
  {
   "cell_type": "code",
   "execution_count": 10,
   "metadata": {
    "collapsed": false
   },
   "outputs": [
    {
     "data": {
      "text/plain": [
       "-0.97847231182829941"
      ]
     },
     "execution_count": 10,
     "metadata": {},
     "output_type": "execute_result"
    }
   ],
   "source": [
    "from scipy.stats import t\n",
    "\n",
    "x = 0.2\n",
    "df = 3\n",
    "\n",
    "t.ppf(x, df)"
   ]
  },
  {
   "cell_type": "markdown",
   "metadata": {},
   "source": [
    "Merk at vi kan spesifisere $\\mu$ og $\\sigma$ også, men disse kommer etter frihetsgraden. Ta gjerne en kikk i [dokumentasjonen til Scipy](https://docs.scipy.org/doc/scipy-0.16.1/reference/generated/scipy.stats.t.html#scipy.stats.t) for en full oversikt.\n",
    "\n",
    "#### Eksempel\n",
    "Gitt $X \\tilde {} St_{(5, 2, 9)}$\n",
    "\n",
    "Finn $x$ slik at $P(X \\leq x) = 0.92$"
   ]
  },
  {
   "cell_type": "code",
   "execution_count": 11,
   "metadata": {
    "collapsed": false
   },
   "outputs": [
    {
     "data": {
      "text/plain": [
       "8.0630549309703579"
      ]
     },
     "execution_count": 11,
     "metadata": {},
     "output_type": "execute_result"
    }
   ],
   "source": [
    "x = 0.92\n",
    "df = 9\n",
    "mu = 5\n",
    "sigma = 2\n",
    "\n",
    "t.ppf(x, df, mu, sigma)"
   ]
  },
  {
   "cell_type": "markdown",
   "metadata": {},
   "source": [
    "### Graf\n",
    "Vi tegner opp en graf for T-fordelingen også. Som eksempel kan vi ta $\\nu=6, \\mu=1.5, \\sigma=2.5$. Koden er ganske lik det vi hadde for normalfordelingen, bare at t-fordelingen tar inn noen andre parametere."
   ]
  },
  {
   "cell_type": "code",
   "execution_count": 12,
   "metadata": {
    "collapsed": false
   },
   "outputs": [
    {
     "data": {
      "image/png": "[encoded data removed]",
      "text/plain": [
       "<matplotlib.figure.Figure at 0x7fd0e28b7748>"
      ]
     },
     "metadata": {},
     "output_type": "display_data"
    }
   ],
   "source": [
    "x = np.linspace(-15, 15, 50)\n",
    "\n",
    "min_st = t(6, 1.5, 2.5) # Lager fordeling med våre \"innstillinger\",\n",
    "# så vi kan bruke min_st.pdf(x) uten å ta med alle parameterne under.\n",
    "\n",
    "df = DataFrame(min_st.pdf(x), index=x)\n",
    "\n",
    "df.plot.line(legend=None)\n",
    "plt.show()"
   ]
  },
  {
   "cell_type": "code",
   "execution_count": 13,
   "metadata": {
    "collapsed": false
   },
   "outputs": [
    {
     "data": {
      "image/png": "[encoded data removed]",
      "text/plain": [
       "<matplotlib.figure.Figure at 0x7fd0e28cb588>"
      ]
     },
     "metadata": {},
     "output_type": "display_data"
    }
   ],
   "source": [
    "# Tilsvarende for kumulativ graf. Eneste forskjell fra den over er \"cdf\" istf. \"pdf\".\n",
    "df2 = DataFrame(min_st.cdf(x), index=x)\n",
    "\n",
    "df2.plot.line(legend=None)\n",
    "plt.show()"
   ]
  },
  {
   "cell_type": "markdown",
   "metadata": {},
   "source": [
    "## $\\beta$-fordelingen\n",
    "Vi kunne gjentatt mye av det vi har gjort over, også for $\\beta$-fordelingen, men det meste fungerer på samme måte, bare med ulike parametere. Derfor kan vi ta en kikk på noe av det andre vi kan hente ut.\n",
    "\n",
    "Importer, og lag en betafordeling. Bruk så funksjoner som var (varians), mean (forventning), eller [noen av de andre funksjonene](https://docs.scipy.org/doc/scipy-0.16.1/reference/generated/scipy.stats.beta.html) vi har tilgjengelig."
   ]
  },
  {
   "cell_type": "code",
   "execution_count": 14,
   "metadata": {
    "collapsed": false
   },
   "outputs": [
    {
     "name": "stdout",
     "output_type": "stream",
     "text": [
      "Varians: 0.0198412698413\n",
      "Forventning: 0.166666666667\n",
      "P(X<0.3): 0.83193\n"
     ]
    },
    {
     "data": {
      "image/png": "[encoded data removed]",
      "text/plain": [
       "<matplotlib.figure.Figure at 0x7fd0defa7ba8>"
      ]
     },
     "metadata": {},
     "output_type": "display_data"
    }
   ],
   "source": [
    "from scipy.stats import beta\n",
    "\n",
    "min_beta = beta(1,5) # Lager en betafordeling med a=1, b=5.\n",
    "\n",
    "print('Varians:', min_beta.var())\n",
    "print('Forventning:', min_beta.mean())\n",
    "print('P(X<0.3):', min_beta.cdf(0.3))\n",
    "\n",
    "# Tegner også en graf over PDF så man får et visuelt inntrykk av hva verdiene over betyr.\n",
    "x = np.linspace(0, 1, 50)\n",
    "df3 = DataFrame(min_beta.pdf(x), index=x)\n",
    "\n",
    "df3.plot.line(legend=None)\n",
    "plt.show()"
   ]
  },
  {
   "cell_type": "markdown",
   "metadata": {},
   "source": [
    "## Eksponentialfordelingen\n",
    "Eksponentialfordelingen brukes på en litt annen måte fra Scipy enn formlene fra læreboka. Istedenfor å regne ut en $\\lambda$, bruker vi forventningen direkte som \"scale\"-parameter. Se eksempelet under.\n",
    "\n",
    "#### Eksempel:\n",
    "Du jobber i en havnekiosk, om sommeren, og selger softis. Du har regnet ut at det går i gjennomsnitt 8 minutter mellom hver gang du selger en softis. Ventettiden er eksponentielt fordelt. Hva er sannsynligheten for at du får solgt en softis innen 20 minutter?\n",
    "\n",
    "Her lager vi en eksponentialfordeling med forventning / gjennomsnittlig tid mellom salg / scale lik 8. Videre kan vi bruke denne direkte med den kumulative CDF-funksjonen, og sette inn 20 som eneste parameter."
   ]
  },
  {
   "cell_type": "code",
   "execution_count": 15,
   "metadata": {
    "collapsed": false
   },
   "outputs": [
    {
     "data": {
      "text/plain": [
       "0.91791500137610116"
      ]
     },
     "execution_count": 15,
     "metadata": {},
     "output_type": "execute_result"
    }
   ],
   "source": [
    "from scipy.stats import expon\n",
    "\n",
    "exp_ventetid = expon(scale=8)\n",
    "\n",
    "exp_ventetid.cdf(20)"
   ]
  },
  {
   "cell_type": "markdown",
   "metadata": {},
   "source": [
    "Sannsynligheten er altså 91.8% for at du får solgt en softis innen 20 minutter.\n",
    "\n",
    "Vi kan også tegne PDF-funksjonen. Vi ser, som forventet, at vi sannsynligvis kommer til å selge vår neste softis om ikke så alt for lenge."
   ]
  },
  {
   "cell_type": "code",
   "execution_count": 16,
   "metadata": {
    "collapsed": false
   },
   "outputs": [
    {
     "data": {
      "image/png": "[encoded data removed]",
      "text/plain": [
       "<matplotlib.figure.Figure at 0x7fd0def3b4a8>"
      ]
     },
     "metadata": {},
     "output_type": "display_data"
    }
   ],
   "source": [
    "x = np.linspace(0, 60, 50)\n",
    "df3 = DataFrame(exp_ventetid.pdf(x), index=x)\n",
    "\n",
    "df3.plot.line(legend=None)\n",
    "plt.show()"
   ]
  }
 ],
 "metadata": {
  "kernelspec": {
   "display_name": "Python 3",
   "language": "python",
   "name": "python3"
  },
  "language_info": {
   "codemirror_mode": {
    "name": "ipython",
    "version": 3
   },
   "file_extension": ".py",
   "mimetype": "text/x-python",
   "name": "python",
   "nbconvert_exporter": "python",
   "pygments_lexer": "ipython3",
   "version": "3.5.1"
  }
 },
 "nbformat": 4,
 "nbformat_minor": 0
}
