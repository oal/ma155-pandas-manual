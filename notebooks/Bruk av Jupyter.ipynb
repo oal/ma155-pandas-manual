{
 "cells": [
  {
   "cell_type": "markdown",
   "metadata": {},
   "source": [
    "# Bruk av Jupyter\n",
    "\n",
    "Jupyter er det verktøyet vi bruker til skriving og kjøring av koden vår. Hvis du bruker Windows, kan du starte Jupyter notebook fra startmenyen. Søk etter \"Jupyter\" hvis ikke det kommer opp med en gang. Hvis du bruker Mac OSX eller Linux, og ikke finner Jupyter i programoversikten, er raskeste måten å starte et terminalvindu, skrive \"jupyter notebook\", og trykke Enter-tasten. Du skal da få opp et nettleservindu med Jupyter.\n",
    "\n",
    "### Ny notebook\n",
    "\n",
    "For å starte en ny notebook trykker du \"New\" og \"Python 3\" øverst til høyre i vinduet. Da åpnes en ny side, hvor du kan begynne å arbeide.\n",
    "\n",
    "All kode skrives inn i tekstfeltet ved siden av In [] i notebooken. Koden du har skrevet, kan kjøres ved å trykke på CTRL + Enter. Alternativt kan du trykke på avspillingsikonet i verktøylinjen på toppen.\n",
    "\n",
    "Feltet ved siden av \"In []\" kalles en celle. Du kan tenke på dette som en fil. Man kan ha så mange celler man vil, og på den måten dele opp programmet i flere deler.\n",
    "\n",
    "### Test at det virker\n",
    "\n",
    "Kopier og lim inn koden under, i en celle, og kjør så koden."
   ]
  },
  {
   "cell_type": "code",
   "execution_count": 1,
   "metadata": {
    "collapsed": false
   },
   "outputs": [
    {
     "data": {
      "image/png": "[encoded data removed]",
      "text/plain": [
       "<matplotlib.figure.Figure at 0x7f1754435128>"
      ]
     },
     "metadata": {},
     "output_type": "display_data"
    }
   ],
   "source": [
    "%matplotlib inline\n",
    "\n",
    "from pandas import Series\n",
    "import matplotlib.pyplot as plt\n",
    "import numpy as np\n",
    "\n",
    "data = Series(np.random.random_sample(10))\n",
    "data.plot.bar()\n",
    "plt.show()"
   ]
  },
  {
   "cell_type": "markdown",
   "metadata": {},
   "source": [
    "Hvis du fikk et diagram med ti stolper, slik som dette, er du klar til å fortsette."
   ]
  },
  {
   "cell_type": "markdown",
   "metadata": {},
   "source": [
    "### Åpne eksisterende notebook\n",
    "\n",
    "Notebookene fra denne guiden kan lastes ned på den blå knappen under kapitteloversikten til venstre. Når en notebook er lagret på maskinen, kan den så åpnes ved å bruke filbehandleren til Jupyter. Gå tilbake til startskjermen som åpnet seg når Jupyter startet, og finn nedlastingsmappen din. Trykk så på notebooken du lastet ned. Alle notebooks har filendelsen \"ipynb\".\n",
    "\n",
    "![Hvordan åpne eksisterende notebook](../notebooks/assets/open_notebook.png)"
   ]
  },
  {
   "cell_type": "markdown",
   "metadata": {},
   "source": [
    "## Jupyter i bruk\n",
    "\n",
    "Brukergrensesnittet til Jupyter er ganske enkelt. Det mest avanserte er koden du selv skriver i dokumentcellene dine.\n",
    "\n",
    "Under \"File\"-menyen finner du som i de fleste andre programmer, valg for å åpne, lagre, og eksportere dokumenter. Du kan f.eks. eksportere en notebook til HTML (nettside) eller PDF.\n",
    "\n",
    "\"Edit\"-menyen gir tilgang til klipping og liming, men du kan også bruke hurtigtaster, som i andre programmer.\n",
    "\n",
    "\"Insert\"-menyen brukes for å sette inn flere celler. Det kan være lurt å bruke flere celler, fremfor å legge alt i en. Ved å dele opp notebooken kan hver del kjøres hver for seg, noe som er spesielt nyttig hvis man gjør tunge regneoperasjoner. Variabler fra en celle kan brukes videre i cellene under, så Jupyter husker hva den har gjort tidligere i dokumentet.\n",
    "\n",
    "\"Cell\"-menyen brukes til å kjøre celler. Du kan kjøre enten enkeltceller, eller alle cellene i dokumentet. Det kan være lurt å gjøre en \"Cell\"->\"Run All\" når du åpner en celle du har arbeidet på tidligere. Dette sørger for at all koden blir kjørt, og alle variabler satt opp riktig.\n",
    "\n",
    "\"Kernel\"-menyen brukes for å overstyre kjøringen av koden. Hvis du f.eks. ved en feiltakelse startet en veldig tung operasjon, kan du bruke \"Kernel\"->\"Restart\" for å stoppe kjøringen, og starte kjernen på nytt.\n",
    "\n",
    "\"Help\"-menyen har en rekke pekere til dokumentajon for Jupyter, Pandas, Matplotlib, og andre programpakker. Lurer du på noe utover det som dekkes i denne manualen, kan du sjekke disse lenkene."
   ]
  }
 ],
 "metadata": {
  "kernelspec": {
   "display_name": "Python 3",
   "language": "python",
   "name": "python3"
  },
  "language_info": {
   "codemirror_mode": {
    "name": "ipython",
    "version": 3
   },
   "file_extension": ".py",
   "mimetype": "text/x-python",
   "name": "python",
   "nbconvert_exporter": "python",
   "pygments_lexer": "ipython3",
   "version": "3.5.1"
  }
 },
 "nbformat": 4,
 "nbformat_minor": 0
}
