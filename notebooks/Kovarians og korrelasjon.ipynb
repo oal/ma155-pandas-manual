{
 "cells": [
  {
   "cell_type": "markdown",
   "metadata": {},
   "source": [
    "# Kovarians og korrelasjon\n",
    "\n",
    "Det å finne kovarians og korrelasjon er veldig enkelt med Pandas. Vi trenger både Series og DataFrame. X-verdier og Y-verdier lagrer vi i hver sin serie, og så kobler vi dem sammen til en DataFrame."
   ]
  },
  {
   "cell_type": "code",
   "execution_count": 1,
   "metadata": {
    "collapsed": false
   },
   "outputs": [
    {
     "data": {
      "text/html": [
       "<div>\n",
       "<table border=\"1\" class=\"dataframe\">\n",
       "  <thead>\n",
       "    <tr style=\"text-align: right;\">\n",
       "      <th></th>\n",
       "      <th>X-verdier</th>\n",
       "      <th>Y-verdier</th>\n",
       "    </tr>\n",
       "  </thead>\n",
       "  <tbody>\n",
       "    <tr>\n",
       "      <th>0</th>\n",
       "      <td>-4</td>\n",
       "      <td>1</td>\n",
       "    </tr>\n",
       "    <tr>\n",
       "      <th>1</th>\n",
       "      <td>0</td>\n",
       "      <td>3</td>\n",
       "    </tr>\n",
       "    <tr>\n",
       "      <th>2</th>\n",
       "      <td>4</td>\n",
       "      <td>7</td>\n",
       "    </tr>\n",
       "    <tr>\n",
       "      <th>3</th>\n",
       "      <td>3</td>\n",
       "      <td>8</td>\n",
       "    </tr>\n",
       "  </tbody>\n",
       "</table>\n",
       "</div>"
      ],
      "text/plain": [
       "   X-verdier  Y-verdier\n",
       "0         -4          1\n",
       "1          0          3\n",
       "2          4          7\n",
       "3          3          8"
      ]
     },
     "execution_count": 1,
     "metadata": {},
     "output_type": "execute_result"
    }
   ],
   "source": [
    "from pandas import Series, DataFrame\n",
    "\n",
    "xs = Series([-4, 0, 4, 3], name='X-verdier')\n",
    "ys = Series([1, 3, 7, 8], name='Y-verdier')\n",
    "\n",
    "# Bruker .T for å transponere / snu DataFramen slik at vi får X-er og Y-er nedover, istedenfor bortover.\n",
    "df = DataFrame([xs, ys]).T\n",
    "\n",
    "df"
   ]
  },
  {
   "cell_type": "markdown",
   "metadata": {},
   "source": [
    "Vi lager to serier. Dette gjør vi ved å sende inn to lister med tall, og så gir vi begge seriene passende navn, med \"name\"-parameteren. Vi kan finne kovarians og korrelasjon bare med to enkle serier, men det kan være fint å se dataen i en tabell før vi går videre. Dessuten trenger vi en DataFrame for å lage et diagram.\n",
    "\n",
    "Som i frekvenstabell-kapittelet, lager vi en DataFrame av seriene våre. Jupyter viser automatisk DataFrames på tabellform, slik at vi får ut tabellen over."
   ]
  },
  {
   "cell_type": "markdown",
   "metadata": {},
   "source": [
    "### Plotting av verdier\n",
    "\n",
    "Pandas har innebygget støtte for såkalte \"scatter plots\", hvor datapunkter markeres med sirkler. Vi setter, som tidligere, matplotlib i \"inline\"-modus, slik at vi får figurene rett på skjermen, og så plotter vi direkte.\n",
    "\n",
    "Vi bruker DataFramen sitt \"plot\"-objekt, og kaller \"scatter\"-metoden her. Scatter plot krever at vi angir tekst på X- og Y-aksen, så dette spesifiserer vi med hhv. x- og y-parameterne. Det er alt! En liten linje, så har vi et flott diagram."
   ]
  },
  {
   "cell_type": "code",
   "execution_count": 2,
   "metadata": {
    "collapsed": false
   },
   "outputs": [
    {
     "data": {
      "text/plain": [
       "<matplotlib.axes._subplots.AxesSubplot at 0x1070595f8>"
      ]
     },
     "execution_count": 2,
     "metadata": {},
     "output_type": "execute_result"
    },
    {
     "data": {
      "image/png": "[encoded data removed]",
      "text/plain": [
       "<matplotlib.figure.Figure at 0x10616b358>"
      ]
     },
     "metadata": {},
     "output_type": "display_data"
    }
   ],
   "source": [
    "%matplotlib inline\n",
    "\n",
    "df.plot.scatter(x='X-verdier', y='Y-verdier')"
   ]
  },
  {
   "cell_type": "markdown",
   "metadata": {},
   "source": [
    "### Finne kovarians og korrelasjon mellom x og y\n",
    "\n",
    "Nå som vi har fått et visuelt inntrykk av verdiene våre, ser vi at de ligger nokså fint, stigende oppover mot høyre. La oss se hva Pandas sier. For å regne kovariansen mellom to serier, tar vi den første serien, og bruker metoden \"cov\" på denne. Den tar en parameter, og det er den andre serien. Resultatet er at vi får kovariansen mellom disse to.\n",
    "\n",
    "Korrelasjon (corr) fungerer på samme måte:"
   ]
  },
  {
   "cell_type": "code",
   "execution_count": 3,
   "metadata": {
    "collapsed": false
   },
   "outputs": [
    {
     "name": "stdout",
     "output_type": "stream",
     "text": [
      "Kovarians mellom x og y: 11.25\n",
      "Korrelasjon mellom x og y: 0.947397581168\n"
     ]
    }
   ],
   "source": [
    "print('Kovarians mellom x og y:', xs.cov(ys)) # Kovarians mellom xs-serien og ys-serien\n",
    "print('Korrelasjon mellom x og y:', xs.corr(ys)) # Tilsvarende for korrelasjon"
   ]
  }
 ],
 "metadata": {
  "kernelspec": {
   "display_name": "Python 3",
   "language": "python",
   "name": "python3"
  },
  "language_info": {
   "codemirror_mode": {
    "name": "ipython",
    "version": 3
   },
   "file_extension": ".py",
   "mimetype": "text/x-python",
   "name": "python",
   "nbconvert_exporter": "python",
   "pygments_lexer": "ipython3",
   "version": "3.5.1"
  }
 },
 "nbformat": 4,
 "nbformat_minor": 0
}
