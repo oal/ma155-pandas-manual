{
 "cells": [
  {
   "cell_type": "markdown",
   "metadata": {},
   "source": [
    "# Mengdelære\n",
    "\n",
    "## Sett og settoperasjoner\n",
    "\n",
    "Python har innebygget støtte for sett og settoperasjoner. Vi trenger dermed ikke importere noen funksjoner fra Pandas eller Numpy for å gjøre dette. Først lager vi noen sett med data, og så utfører vi noen operasjoner mot disse. Sett A er noen tippeligalag, mens sett B er lag fra Agderfylkene."
   ]
  },
  {
   "cell_type": "code",
   "execution_count": 1,
   "metadata": {
    "collapsed": false
   },
   "outputs": [
    {
     "data": {
      "text/plain": [
       "{'Brann', 'Jerv', 'Rosenborg', 'Sogndal', 'Start', 'Viking', 'Vindbjart'}"
      ]
     },
     "execution_count": 1,
     "metadata": {},
     "output_type": "execute_result"
    }
   ],
   "source": [
    "from IPython.display import display, Math\n",
    "\n",
    "# Sett skrives med kommaseparerte verdier mellom { og }. Merk at { og } også brukes i dictionaries,\n",
    "# men da har man også kolon for å skille nøkkel fra verdi, slik: {'key': 'value', 'key2': 'value2' ...}.\n",
    "A = {'Rosenborg', 'Brann', 'Start', 'Sogndal', 'Viking'}\n",
    "B = {'Start', 'Jerv', 'Vindbjart'}\n",
    "\n",
    "# A|B betyr A union B. Kan også skrives A.union(B). Dvs. alle lagene. Se forklaring lenger nede.\n",
    "Omega = A|B\n",
    "\n",
    "# Vis Omega:\n",
    "Omega"
   ]
  },
  {
   "cell_type": "markdown",
   "metadata": {},
   "source": [
    "### Element / ikke element\n",
    "\n",
    "Vi kan enkelt sjekke om en verdi finnes i et sett. Da bruker vi \"in\"-operatoren i Python. Vi kan også skrive \"not in\" for motsatt operasjon."
   ]
  },
  {
   "cell_type": "code",
   "execution_count": 2,
   "metadata": {
    "collapsed": false
   },
   "outputs": [
    {
     "name": "stdout",
     "output_type": "stream",
     "text": [
      "Viking er et tippeligalag:\n"
     ]
    },
    {
     "data": {
      "text/latex": [
       "$$Viking \\in A$$"
      ],
      "text/plain": [
       "<IPython.core.display.Math object>"
      ]
     },
     "metadata": {},
     "output_type": "display_data"
    },
    {
     "name": "stdout",
     "output_type": "stream",
     "text": [
      "Viking er ikke et lag fra Agderfylkene:\n"
     ]
    },
    {
     "data": {
      "text/latex": [
       "$$Viking \\notin B$$"
      ],
      "text/plain": [
       "<IPython.core.display.Math object>"
      ]
     },
     "metadata": {},
     "output_type": "display_data"
    }
   ],
   "source": [
    "# Hvis x er element i A\n",
    "if 'Viking' in A:\n",
    "    print('Viking er et tippeligalag:')\n",
    "    display(Math(r'Viking \\in A'))\n",
    "    \n",
    "# Hvis x ikke er element i B\n",
    "if 'Viking' not in B:\n",
    "    print('Viking er ikke et lag fra Agderfylkene:')\n",
    "    display(Math(r'Viking \\notin B'))"
   ]
  },
  {
   "cell_type": "markdown",
   "metadata": {},
   "source": [
    "### Union, snitt og komplement\n",
    "\n",
    "Union og snitt er også innebyggede operasjoner. Man skriver to settvariabler, med en operator i mellom. Dette er \"|\" for union, og \"&\" for snitt. Man kan alternativt bruke A.union(B) eller A.intersection(B)."
   ]
  },
  {
   "cell_type": "code",
   "execution_count": 3,
   "metadata": {
    "collapsed": false
   },
   "outputs": [
    {
     "data": {
      "text/latex": [
       "$$A \\cup B:$$"
      ],
      "text/plain": [
       "<IPython.core.display.Math object>"
      ]
     },
     "metadata": {},
     "output_type": "display_data"
    },
    {
     "data": {
      "text/plain": [
       "{'Brann', 'Jerv', 'Rosenborg', 'Sogndal', 'Start', 'Viking', 'Vindbjart'}"
      ]
     },
     "metadata": {},
     "output_type": "display_data"
    },
    {
     "name": "stdout",
     "output_type": "stream",
     "text": [
      "---\n"
     ]
    },
    {
     "data": {
      "text/latex": [
       "$$A \\cap B:$$"
      ],
      "text/plain": [
       "<IPython.core.display.Math object>"
      ]
     },
     "metadata": {},
     "output_type": "display_data"
    },
    {
     "data": {
      "text/plain": [
       "{'Start'}"
      ]
     },
     "metadata": {},
     "output_type": "display_data"
    },
    {
     "name": "stdout",
     "output_type": "stream",
     "text": [
      "---\n"
     ]
    },
    {
     "data": {
      "text/latex": [
       "$$A \\setminus B:$$"
      ],
      "text/plain": [
       "<IPython.core.display.Math object>"
      ]
     },
     "metadata": {},
     "output_type": "display_data"
    },
    {
     "data": {
      "text/plain": [
       "{'Brann', 'Rosenborg', 'Sogndal', 'Viking'}"
      ]
     },
     "metadata": {},
     "output_type": "display_data"
    }
   ],
   "source": [
    "# Union. A|B eller A.union(B):\n",
    "display(Math(r'A \\cup B:'), A|B)\n",
    "\n",
    "print('---')\n",
    "# Snitt. A&B eller A.intersection(B):\n",
    "display(Math(r'A \\cap B:'), A&B)\n",
    "\n",
    "print('---')\n",
    "# Differanse. A-B eller A.differense(B):\n",
    "display(Math(r'A \\setminus B:'), A-B)"
   ]
  },
  {
   "cell_type": "markdown",
   "metadata": {},
   "source": [
    "### Komplement\n",
    "\n",
    "Komplement er ikke tilgjengelig som noen operator, men hvis vi først tar union av alle verdiene, kan vi ta differanse med et av settene."
   ]
  },
  {
   "cell_type": "code",
   "execution_count": 4,
   "metadata": {
    "collapsed": false
   },
   "outputs": [
    {
     "data": {
      "text/latex": [
       "$$A^C:$$"
      ],
      "text/plain": [
       "<IPython.core.display.Math object>"
      ]
     },
     "metadata": {},
     "output_type": "display_data"
    },
    {
     "data": {
      "text/plain": [
       "{'Jerv', 'Vindbjart'}"
      ]
     },
     "metadata": {},
     "output_type": "display_data"
    }
   ],
   "source": [
    "# Komplement\n",
    "display(Math(r'A^C:'), Omega-A)"
   ]
  },
  {
   "cell_type": "markdown",
   "metadata": {},
   "source": [
    "### Flere operasjoner sammen\n",
    "\n",
    "Det er mulig å kombinere operasjonene vi har sett på her. Eksempel:"
   ]
  },
  {
   "cell_type": "code",
   "execution_count": 5,
   "metadata": {
    "collapsed": false
   },
   "outputs": [
    {
     "name": "stdout",
     "output_type": "stream",
     "text": [
      "Er Jerv element i {'Viking', 'Vindbjart', 'Jerv', 'Rosenborg', 'Sogndal', 'Brann'} ?\n"
     ]
    },
    {
     "data": {
      "text/plain": [
       "True"
      ]
     },
     "execution_count": 5,
     "metadata": {},
     "output_type": "execute_result"
    }
   ],
   "source": [
    "C = Omega-(A&B) # C = Omega uten snitt av A og B\n",
    "\n",
    "print('Er Jerv element i', C, '?')\n",
    "\n",
    "# Element-operasjon:\n",
    "'Jerv' in C"
   ]
  },
  {
   "cell_type": "markdown",
   "metadata": {},
   "source": [
    "## Binomialkoeffisient / multinomialkoeffisient\n",
    "\n",
    "Binomialkoeffisient kan vi regne ut ved hjelp av [\"comb\"-funksjonen i Scipy](http://docs.scipy.org/doc/scipy/reference/generated/scipy.misc.comb.html#scipy.misc.comb). Dette er det du finner som nCr (n, choose r) på kalkulatoren. Funksjonen kan enten ta tall for n og r, eller lister. Her bruker vi tall. Vi spesifiserer også exact=True, slik at vi får et eksakt heltall som svar."
   ]
  },
  {
   "cell_type": "code",
   "execution_count": 6,
   "metadata": {
    "collapsed": false
   },
   "outputs": [
    {
     "data": {
      "text/plain": [
       "21243342120"
      ]
     },
     "execution_count": 6,
     "metadata": {},
     "output_type": "execute_result"
    }
   ],
   "source": [
    "from scipy.misc import comb\n",
    "\n",
    "comb(104, 7, exact=True)"
   ]
  },
  {
   "cell_type": "markdown",
   "metadata": {},
   "source": [
    "Multinomialkoeffisienten er ikke like rett-frem ved bruk av de pakkene vi har til rådighet. Vi kan likevel implementere den ved hjelp av binomialkoeffisienten. Se Nyberg sin bok for mer om multinomialkoeffisienten."
   ]
  },
  {
   "cell_type": "code",
   "execution_count": 7,
   "metadata": {
    "collapsed": false
   },
   "outputs": [
    {
     "data": {
      "text/plain": [
       "696927647152737000"
      ]
     },
     "execution_count": 7,
     "metadata": {},
     "output_type": "execute_result"
    }
   ],
   "source": [
    "def multinomial(n, ks):\n",
    "    svar = comb(n, ks[0], exact=True) # Indekser i Python starter på 0. Binomial(n, k_1)\n",
    "    \n",
    "    # Trekker fra k-verdier fra n (k_1, k_2, ... k_n-2)\n",
    "    # og bruker comb ved hver iterasjon for å multiplisere med tidligere svar.\n",
    "    for m in range(1, len(ks)-1):\n",
    "        n -= ks[m-1]\n",
    "        svar *= comb(n, ks[m], exact=True)\n",
    "        \n",
    "    return svar\n",
    "\n",
    "# Test av funksjonen\n",
    "multinomial(31, [8,2,7,8,6])"
   ]
  }
 ],
 "metadata": {
  "kernelspec": {
   "display_name": "Python 3",
   "language": "python",
   "name": "python3"
  },
  "language_info": {
   "codemirror_mode": {
    "name": "ipython",
    "version": 3
   },
   "file_extension": ".py",
   "mimetype": "text/x-python",
   "name": "python",
   "nbconvert_exporter": "python",
   "pygments_lexer": "ipython3",
   "version": "3.5.1"
  }
 },
 "nbformat": 4,
 "nbformat_minor": 0
}
