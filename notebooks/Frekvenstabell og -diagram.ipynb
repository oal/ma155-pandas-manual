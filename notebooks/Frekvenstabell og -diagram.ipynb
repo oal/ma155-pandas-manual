{
 "cells": [
  {
   "cell_type": "markdown",
   "metadata": {},
   "source": [
    "## Frekvenstabell\n",
    "\n",
    "Vi skal nå lære å lage frekvenstabeller med Pandas. Vi måler høyden til noen studenter, og får følgende (i cm, rundet til nærmeste 5):\n",
    "\n",
    "```\n",
    "165, 170, 195, 190, 170, 170, 185, 160, 170, 165, 185, 195, 185, 195, 200, 195, 185, 180, 185, 195\n",
    "```\n",
    "\n",
    "For å lage en frekvenstabell, lag en ny celle i notebooken (Insert -> Cell below), og sett inn følgende kode:"
   ]
  },
  {
   "cell_type": "code",
   "execution_count": 1,
   "metadata": {
    "collapsed": false
   },
   "outputs": [
    {
     "name": "stdout",
     "output_type": "stream",
     "text": [
      "Målinger\n"
     ]
    },
    {
     "data": {
      "text/plain": [
       "160    1\n",
       "165    2\n",
       "170    4\n",
       "180    1\n",
       "185    5\n",
       "190    1\n",
       "195    5\n",
       "200    1\n",
       "Name: Målinger, dtype: int64"
      ]
     },
     "execution_count": 1,
     "metadata": {},
     "output_type": "execute_result"
    }
   ],
   "source": [
    "from pandas import Series\n",
    "\n",
    "hoyder = Series(\n",
    "    [165, 170, 195, 190, 170, 170, 185, 160, 170, 165, 185, 195, 185, 195, 200, 195, 185, 180, 185, 195],\n",
    "    name='Målinger'\n",
    ")\n",
    "print(hoyder.name)\n",
    "frekvens = hoyder.value_counts().sort_index()\n",
    "\n",
    "frekvens"
   ]
  },
  {
   "cell_type": "markdown",
   "metadata": {},
   "source": [
    "Det som skjer her er at først henter vi inn Series-klassen (1-dimensjonal struktur) fra Pandas. Series, sammen med DataFrame (2D-struktur), er de to datatypene vi kommer til å bruke mest fra Pandas. Series lager man enkelt ved å gi den en liste med data som første parameter, altså mellom parentesene.\n",
    "\n",
    "Her lager vi først en liste med de tallene vi målte tidligere, og så legger vi dette inn som en Series. Denne blir lagret i `hoyder`. Vi gir også dataen vår et navn. Vi kan gjøre mye forskjellig med et Series-objekt, men vi er interessert i å lage en frekvenstabell. Dette kan vi gjøre med metoden `value_counts`. Denne tar dataen i serien vår, og lager et nytt objekt som teller opp antall forekomster av hver verdi i datamaterialet. For å få høydene i sortert rekkefølge, bruker vi også metoden `sort_index()`. Prøv gjerne koden uten denne, for å se forskjellen.\n",
    "\n",
    "Den siste linjen \"frekvens\" er en slags returverdi, som forteller iPython at den skal printe/vise oss resultatet i denne variabelen.\n",
    "\n",
    "Dette viser det vi er ute etter, men ser ikke så pent ut. Vi skal nå gjøre Series-objektet om til en DataFrame, som ble nevnt tidligere. DataFrame er en utvidelse av funksjonaliteten som finnes i Series. Vi skal her bruke DataFrame for å legge til kolonnenavn på frekvenstabellen vår, og få tegnet den opp på en bedre måte.\n",
    "\n",
    "Lag en ny celle, med følgende kode:"
   ]
  },
  {
   "cell_type": "code",
   "execution_count": 2,
   "metadata": {
    "collapsed": false
   },
   "outputs": [
    {
     "data": {
      "text/html": [
       "<div>\n",
       "<table border=\"1\" class=\"dataframe\">\n",
       "  <thead>\n",
       "    <tr style=\"text-align: right;\">\n",
       "      <th>Høyde (cm)</th>\n",
       "      <th>Målinger</th>\n",
       "    </tr>\n",
       "  </thead>\n",
       "  <tbody>\n",
       "    <tr>\n",
       "      <th>160</th>\n",
       "      <td>1</td>\n",
       "    </tr>\n",
       "    <tr>\n",
       "      <th>165</th>\n",
       "      <td>2</td>\n",
       "    </tr>\n",
       "    <tr>\n",
       "      <th>170</th>\n",
       "      <td>4</td>\n",
       "    </tr>\n",
       "    <tr>\n",
       "      <th>180</th>\n",
       "      <td>1</td>\n",
       "    </tr>\n",
       "    <tr>\n",
       "      <th>185</th>\n",
       "      <td>5</td>\n",
       "    </tr>\n",
       "    <tr>\n",
       "      <th>190</th>\n",
       "      <td>1</td>\n",
       "    </tr>\n",
       "    <tr>\n",
       "      <th>195</th>\n",
       "      <td>5</td>\n",
       "    </tr>\n",
       "    <tr>\n",
       "      <th>200</th>\n",
       "      <td>1</td>\n",
       "    </tr>\n",
       "  </tbody>\n",
       "</table>\n",
       "</div>"
      ],
      "text/plain": [
       "Høyde (cm)  Målinger\n",
       "160                1\n",
       "165                2\n",
       "170                4\n",
       "180                1\n",
       "185                5\n",
       "190                1\n",
       "195                5\n",
       "200                1"
      ]
     },
     "execution_count": 2,
     "metadata": {},
     "output_type": "execute_result"
    }
   ],
   "source": [
    "frekvens_frame = frekvens.to_frame()\n",
    "frekvens_frame.columns.name = 'Høyde (cm)'\n",
    "\n",
    "frekvens_frame"
   ]
  },
  {
   "cell_type": "markdown",
   "metadata": {},
   "source": [
    "Det som først skjer her er at vi tar frekvens-variabelen fra forrige celle, og gjør den om til en DataFrame, med `to_frame`. Dette for å få tilgang til mer funksjonalitet.\n",
    "\n",
    "Vi ønsker også å gi navn til verdiene fra våre opprinnelige data. Dette var en måling av studenters høyde, så da gir vi den navnet \"Høyde (cm)\", ved å sette \"name\"-verdien til kolonneobjektet. Som du ser over, får vi nå en fin tabell med beskrivende overskrifter."
   ]
  },
  {
   "cell_type": "markdown",
   "metadata": {},
   "source": [
    "## Plotting av frekvenstabell\n",
    "\n",
    "Vi skal nå plotte frekvenstabellen vi har laget. Lag igjen en ny celle, og legg inn følgende:"
   ]
  },
  {
   "cell_type": "code",
   "execution_count": 3,
   "metadata": {
    "collapsed": false
   },
   "outputs": [
    {
     "data": {
      "image/png": "[encoded data removed]",
      "text/plain": [
       "<matplotlib.figure.Figure at 0x10625e668>"
      ]
     },
     "metadata": {},
     "output_type": "display_data"
    }
   ],
   "source": [
    "%matplotlib inline\n",
    "import matplotlib.pyplot as plt\n",
    "\n",
    "frekvens_frame.plot.bar()\n",
    "\n",
    "plt.xlabel('Høyde (cm)')\n",
    "plt.ylabel('Antall')\n",
    "\n",
    "plt.show()"
   ]
  },
  {
   "cell_type": "markdown",
   "metadata": {},
   "source": [
    "Den første linjen (som starter med %) gir beskjed til matplotlib, den pakken som er ansvarlig for å tegne grafene, om at vi vil ha alle figurer \"inline\", eller rett i dokumentet. Hvis man ikke har dette med, får man opp alle figurer i nytt vindu. Det kan være nyttig hvis du skal bearbeide og lagre figurene til bruk i andre applikasjoner, men ofte er det mest oversiktlig å se resultatet direkte i notebooken.\n",
    "\n",
    "Deretter importerer vi pyplot-modulen, men for å spare litt skriving, gir vi den et \"kallenavn\", \"plt\". Det er denne som er ansvarlig for selve tegningen av grafene vi lager.\n",
    "\n",
    "Vi henter så frem \"plot\"-funksjonaliteten i DataFrame, og sier at vi vil ha et \"Bar chart\". Det finnes mange ulike plottere. Se under \"kind\", [her](http://pandas.pydata.org/pandas-docs/stable/generated/pandas.DataFrame.plot.html), for mer informasjon.\n",
    "\n",
    "Til slutt sier vi til matplotlib at vi ønsker å se resultatet, med \"plt.show()\"."
   ]
  },
  {
   "cell_type": "markdown",
   "metadata": {},
   "source": [
    "## Gjennomsnitt og median\n",
    "\n",
    "Med Pandas kan vi veldig enkelt regne ut bl.a. gjennomsnitt, median og standardavvik. Vi må passe på at vi gjør disse operasjonene på riktig objekt. Hvis vi forsøker å regne gjennomsnitt på \"frekvens\" eller \"frekvens_frame\" som vi brukte til plotting, får vi gjennomsnittlig frekvens. Vil ønsker gjennomsnittlig høyde, så da må vi operere på \"hoyder\"-variabelen. Vi bruker \"mean\"-metoden og \"median\"-metoden for å finne hhv. gjennomsnitt og median."
   ]
  },
  {
   "cell_type": "code",
   "execution_count": 4,
   "metadata": {
    "collapsed": false
   },
   "outputs": [
    {
     "name": "stdout",
     "output_type": "stream",
     "text": [
      "Gjennomsnitt: 182.0 cm\n",
      "Median: 185.0 cm\n"
     ]
    }
   ],
   "source": [
    "gjsnitt = hoyder.mean()\n",
    "median = hoyder.median()\n",
    "\n",
    "# Bruker print til å vise verdiene. Print kan motta flere parametere, og vil sette inn mellomrom mellom disse:\n",
    "print('Gjennomsnitt:', gjsnitt, 'cm')\n",
    "print('Median:', median, 'cm')"
   ]
  },
  {
   "cell_type": "markdown",
   "metadata": {},
   "source": [
    "### Vise median og gjennomsnitt på diagram\n",
    "\n",
    "Nå som vi har regnet ut median og gjennomsnitt, kan vi legge dette på diagrammet vårt. Vi kan dessverre ikke bruke Pandas plot-objekt direkte lenger. Dette skyldes at Pandas, bak fasaden, bruker 0, 1, 2, ... som indekser på aksene, og bare endrer tekstverdiene på det endelige diagrammet. Hvis vi prøvde å legge til en vertikal linje i x=180 ville den kommet langt utenfor figuren.\n",
    "\n",
    "Pandas sin innebygde rutine fungerer med andre ord bra for enkle figurer, men det hender at man må bruke den underliggende matplotlib-pakken hvis man ønsker mer kontroll. Legg merke til at vi bruker \"bar\"-metoden fra \"plt\"-pakken, og ikke \"plot.bar\" på \"frekvens_frame\" som tidligere."
   ]
  },
  {
   "cell_type": "code",
   "execution_count": 5,
   "metadata": {
    "collapsed": false
   },
   "outputs": [
    {
     "name": "stdout",
     "output_type": "stream",
     "text": [
      "Gjennomsnitt: Grønn linje\n",
      "Median: Rød linje\n"
     ]
    },
    {
     "data": {
      "image/png": "[encoded data removed]",
      "text/plain": [
       "<matplotlib.figure.Figure at 0x1071014e0>"
      ]
     },
     "metadata": {},
     "output_type": "display_data"
    }
   ],
   "source": [
    "# Sett opp aksebeskrivelse for den nye figuren\n",
    "plt.xlabel('Høyde (cm)')\n",
    "plt.ylabel('Antall')\n",
    "\n",
    "xs = frekvens_frame.index # X-verdiene fra pandas DataFrame\n",
    "ys = frekvens_frame['Målinger']\n",
    "\n",
    "plt.bar(xs, ys, width=3, align='center') # Bruker matplotlib/plt direkte, ved å bruke x- og y-verdiene over\n",
    "\n",
    "# Tegne en bred, grønn linje for gjennomsnitt, og rød for median\n",
    "plt.axvline(gjsnitt, color='g', linewidth=3)\n",
    "plt.axvline(median, color='r', linewidth=3)\n",
    "\n",
    "# Beskrivelse\n",
    "print('Gjennomsnitt: Grønn linje')\n",
    "print('Median: Rød linje')\n",
    "\n",
    "plt.show()"
   ]
  },
  {
   "cell_type": "markdown",
   "metadata": {},
   "source": [
    "## Kumulativ frekvenstabell og diagram\n",
    "\n",
    "For å lage en kumulativ frekvenstabell, trenger vi kun å ta `frekvens_frame`, og kjøre cumsum på denne. Dette gjør vi ved å legge på `.cumsum()`, som vist under."
   ]
  },
  {
   "cell_type": "code",
   "execution_count": 6,
   "metadata": {
    "collapsed": false
   },
   "outputs": [
    {
     "data": {
      "text/html": [
       "<div>\n",
       "<table border=\"1\" class=\"dataframe\">\n",
       "  <thead>\n",
       "    <tr style=\"text-align: right;\">\n",
       "      <th>Høyde (cm)</th>\n",
       "      <th>Målinger</th>\n",
       "    </tr>\n",
       "  </thead>\n",
       "  <tbody>\n",
       "    <tr>\n",
       "      <th>160</th>\n",
       "      <td>1</td>\n",
       "    </tr>\n",
       "    <tr>\n",
       "      <th>165</th>\n",
       "      <td>3</td>\n",
       "    </tr>\n",
       "    <tr>\n",
       "      <th>170</th>\n",
       "      <td>7</td>\n",
       "    </tr>\n",
       "    <tr>\n",
       "      <th>180</th>\n",
       "      <td>8</td>\n",
       "    </tr>\n",
       "    <tr>\n",
       "      <th>185</th>\n",
       "      <td>13</td>\n",
       "    </tr>\n",
       "    <tr>\n",
       "      <th>190</th>\n",
       "      <td>14</td>\n",
       "    </tr>\n",
       "    <tr>\n",
       "      <th>195</th>\n",
       "      <td>19</td>\n",
       "    </tr>\n",
       "    <tr>\n",
       "      <th>200</th>\n",
       "      <td>20</td>\n",
       "    </tr>\n",
       "  </tbody>\n",
       "</table>\n",
       "</div>"
      ],
      "text/plain": [
       "Høyde (cm)  Målinger\n",
       "160                1\n",
       "165                3\n",
       "170                7\n",
       "180                8\n",
       "185               13\n",
       "190               14\n",
       "195               19\n",
       "200               20"
      ]
     },
     "execution_count": 6,
     "metadata": {},
     "output_type": "execute_result"
    }
   ],
   "source": [
    "kumulativ_frekvens_frame = frekvens_frame.cumsum()\n",
    "kumulativ_frekvens_frame"
   ]
  },
  {
   "cell_type": "markdown",
   "metadata": {},
   "source": [
    "Så flott! Nå kan vi plotte denne nye tabellen, slik som tidligere. Bare husk å bytte ut `frekvens_frame` med `kumulativ_frekvens_frame`, siden det var det vi kalte den nye tabellen:"
   ]
  },
  {
   "cell_type": "code",
   "execution_count": 7,
   "metadata": {
    "collapsed": false
   },
   "outputs": [
    {
     "data": {
      "image/png": "[encoded data removed]",
      "text/plain": [
       "<matplotlib.figure.Figure at 0x10625e400>"
      ]
     },
     "metadata": {},
     "output_type": "display_data"
    }
   ],
   "source": [
    "kumulativ_frekvens_frame.plot.bar()\n",
    "\n",
    "plt.xlabel('Høyde (cm)')\n",
    "plt.ylabel('Kumulativt antall')\n",
    "\n",
    "plt.show()"
   ]
  }
 ],
 "metadata": {
  "kernelspec": {
   "display_name": "Python 3",
   "language": "python",
   "name": "python3"
  },
  "language_info": {
   "codemirror_mode": {
    "name": "ipython",
    "version": 3
   },
   "file_extension": ".py",
   "mimetype": "text/x-python",
   "name": "python",
   "nbconvert_exporter": "python",
   "pygments_lexer": "ipython3",
   "version": "3.5.1"
  }
 },
 "nbformat": 4,
 "nbformat_minor": 0
}
