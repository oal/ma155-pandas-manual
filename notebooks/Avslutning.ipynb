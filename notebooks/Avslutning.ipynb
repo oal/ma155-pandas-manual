{
 "cells": [
  {
   "cell_type": "markdown",
   "metadata": {},
   "source": [
    "# Avslutning\n",
    "\n",
    "Jeg ønsket å lage denne guiden for å lære mer om disse verktøyene selv. Forhåpentligvis har jeg klart å videreformidle dette på en nokså forståelig måte. Som nevnt i de første kapitlene vil det være en fordel å ha noe programmeringserfaring fra før, ellers ville guiden vært alt for tidkrevende å lage som prosjektoppgave i statistikkfaget.\n",
    "\n",
    "Om du ikke har programmert så mye før, kan du likevel gjøre nytte av guiden. Alle kapitlene kan lastes ned og kjøres på egen maskin. Det betyr at du kan bruke koden i guiden, og bare endre tallverdier i eksempler, for å regne ut lignende oppgaver.\n",
    "\n",
    "\n",
    "### Hvis du vil lære mer\n",
    "\n",
    "Skulle du være interessert i å lære mer, kan du finne mye mer dokumentasjon på nett. Her er noen steder som er verdt å ta en kikk på:\n",
    "\n",
    "* [Pandas-dokumentasjonen](http://pandas.pydata.org/pandas-docs/stable/)\n",
    "* [Numpy-dokumentasjonen](https://docs.scipy.org/doc/numpy/reference/)\n",
    "* [Scipy-dokumentasjonen](https://docs.scipy.org/doc/scipy/reference/)\n",
    "* [Sympy-dokumentasjonen](http://docs.sympy.org/latest/index.html)\n",
    "* [Cross Validated](https://stats.stackexchange.com/) (StackExchange sitt statistikkforum)\n",
    "\n",
    "\n",
    "### Feil, forbedringer eller spørsmål?\n",
    "\n",
    "Lisensen for guiden er [CC-BY-NC-SA 4.0](https://creativecommons.org/licenses/by-nc-sa/4.0/deed.no), som betyr at du kan dele og bearbeide innholdet etter eget ønske, så lenge du oppgir korrekt kreditering, ikke benytter manualen til kommersielle formål. I tillegg må alle kopier/bearbeidelser distribueres under samme lisens.\n",
    "\n",
    "Kildefilene til guiden ligger tilgjengelig på [GitHub](https://github.com/oal/ma155-pandas-manual). Hvis du kjenner til Git, kand du klone guiden, utføre endringer, og sende dem inn i form av en \"pull request\"."
   ]
  }
 ],
 "metadata": {
  "kernelspec": {
   "display_name": "Python 3",
   "language": "python",
   "name": "python3"
  },
  "language_info": {
   "codemirror_mode": {
    "name": "ipython",
    "version": 3
   },
   "file_extension": ".py",
   "mimetype": "text/x-python",
   "name": "python",
   "nbconvert_exporter": "python",
   "pygments_lexer": "ipython3",
   "version": "3.5.1"
  }
 },
 "nbformat": 4,
 "nbformat_minor": 0
}
