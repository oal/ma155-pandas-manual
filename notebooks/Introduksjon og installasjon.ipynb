{
 "cells": [
  {
   "cell_type": "markdown",
   "metadata": {},
   "source": [
    "## Introduksjon\n",
    "\n",
    "Denne manualen er en introduksjon til Pandas og iPython/Jupyter, beregnet for statistikkdelen av MA-155 ved Universitetet i Agder. Den tar for seg installasjon og oppsett av nødvendige verktøy, samt bruk av disse for å løse relevante oppgaver og problemer i faget.\n",
    "\n",
    "Vi bruker Python med tilhørende verktøy. Programmeringsspråket Python er mye brukt innenfor forskning og dataanalyse, og det er utviklet en rekke programpakker og verktøy innenfor ulike felt. Vi skal bruke en samling kalt Anaconda, som inneholder alt som trengs for å følge denne manualen, og er enkel å installere.\n",
    "\n",
    "De kodebibliotekene vi kommer til å bruke mest er Pandas og Matplotlib. Pandas er en pakke for databehandling og matematikk, mens Matplotlib brukes til å tegne grafer. All skriving og kjøring av kode gjøres med Jupyter. Man kan også skrive kode i en vanlig teksteditor, men notebooks i Jupyter gjør at man i mye større grad får en interaktiv prosess, ved at kode og data kjøres og presenteres direkte i nettleseren.\n",
    "\n",
    "## Installasjon\n",
    "\n",
    "Alt du trenger for å komme igang er å [laste ned Anaconda](https://www.continuum.io/downloads). Dette er en samling med en rekke pakker til bruk innenfor matematikk/forskning/dataanalyse o.l. Vi kommer bare til å bruke et fåtall av disse, men her er det bare å dykke dypere, hvis guiden inspirerer til det!\n",
    "\n",
    "Anaconda er tilgjengelig til Windows, Mac OSX og Linux, og installeres som et hvilket som helst annet program på maskinen. Den kommer i en Python 2.7, og 3.x-versjon. Det har tidligere vært et problem med kompatibilitet for noen pakker med 3.x-versjonen, men for alt vi skal gjøre, er den et godt valg. Den er også mest fremtidsrettet. Følg instruksjonene, så skal det gå av seg selv.\n",
    "\n",
    "__Utvidet beskrivelse av installasjon kommer.__\n",
    "\n",
    "## Test at det virker\n",
    "\n",
    "Når installasjonen er ferdig, gå til startmenyen, og finn programmet \"Jupyter Notebook\". Du skal få opp et nettleservindu med en filbehandler. Lag en egen mappe til filene dine, hvis du ønsker det. Trykk så på \"New\", og \"Python 3\" for å lage en notebook.\n",
    "\n",
    "Skriv så inn koden under, ved siden av `In []` i notebooken din, og trykk CTRL + Enter for å kjøre koden. Alternativt kan du trykke på avspillingsikonet i verktøylinjen på toppen."
   ]
  },
  {
   "cell_type": "code",
   "execution_count": 1,
   "metadata": {
    "collapsed": false
   },
   "outputs": [
    {
     "data": {
      "image/png": "[encoded data removed]",
      "text/plain": [
       "<matplotlib.figure.Figure at 0x1059d9a58>"
      ]
     },
     "metadata": {},
     "output_type": "display_data"
    }
   ],
   "source": [
    "%matplotlib inline\n",
    "\n",
    "from pandas import Series\n",
    "import matplotlib.pyplot as plt\n",
    "import numpy as np\n",
    "\n",
    "data = Series(np.random.random_sample(10))\n",
    "data.plot.bar()\n",
    "plt.show()"
   ]
  },
  {
   "cell_type": "markdown",
   "metadata": {
    "collapsed": true
   },
   "source": [
    "Hvis du får en enkel graf, noe tilsvarende denne, har installasjonen gått bra, og du er klar til å fortsette."
   ]
  }
 ],
 "metadata": {
  "kernelspec": {
   "display_name": "Python 3",
   "language": "python",
   "name": "python3"
  },
  "language_info": {
   "codemirror_mode": {
    "name": "ipython",
    "version": 3
   },
   "file_extension": ".py",
   "mimetype": "text/x-python",
   "name": "python",
   "nbconvert_exporter": "python",
   "pygments_lexer": "ipython3",
   "version": "3.5.1"
  }
 },
 "nbformat": 4,
 "nbformat_minor": 0
}
