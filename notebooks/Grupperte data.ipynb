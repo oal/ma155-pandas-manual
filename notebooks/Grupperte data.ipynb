{
 "cells": [
  {
   "cell_type": "markdown",
   "metadata": {},
   "source": [
    "### Grupperte data\n",
    "\n",
    "Vi skal bestille klovnebukser til medlemmene i fanklubben til det norske curlinglandslaget. Medlemmene har oppgitt livvidde, og opptellingen viste at vi trenger:\n",
    "\n",
    "15 i small, 142 i medium, 79 i large, 171 i XL, 114 i XXL og 37 i 3XL. Under setter vi dette opp i en OrderedDict. Denne gjør at vi beholder størrelsene i riktig rekkefølge i kommende tabeller. En vanlig dict / hashmap vil ikke beholdt rekkefølgen."
   ]
  },
  {
   "cell_type": "code",
   "execution_count": 1,
   "metadata": {
    "collapsed": false
   },
   "outputs": [
    {
     "data": {
      "text/plain": [
       "OrderedDict([('S', {'Antall': 15, 'Fra': 76, 'Til': 82}),\n",
       "             ('M', {'Antall': 142, 'Fra': 82, 'Til': 90}),\n",
       "             ('L', {'Antall': 79, 'Fra': 90, 'Til': 98}),\n",
       "             ('XL', {'Antall': 171, 'Fra': 98, 'Til': 106}),\n",
       "             ('XXL', {'Antall': 114, 'Fra': 106, 'Til': 110}),\n",
       "             ('3XL', {'Antall': 37, 'Fra': 110, 'Til': 116})])"
      ]
     },
     "execution_count": 1,
     "metadata": {},
     "output_type": "execute_result"
    }
   ],
   "source": [
    "from collections import OrderedDict\n",
    "\n",
    "data = OrderedDict()\n",
    "data['S'] = {\n",
    "    'Fra': 76,\n",
    "    'Til': 82,\n",
    "    'Antall': 15\n",
    "}\n",
    "data['M'] = {\n",
    "    'Fra': 82,\n",
    "    'Til': 90,\n",
    "    'Antall': 142\n",
    "}\n",
    "data['L'] = {\n",
    "    'Fra': 90,\n",
    "    'Til': 98,\n",
    "    'Antall': 79\n",
    "}\n",
    "data['XL'] = {\n",
    "    'Fra': 98,\n",
    "    'Til': 106,\n",
    "    'Antall': 171\n",
    "}\n",
    "data['XXL'] = {\n",
    "    'Fra': 106,\n",
    "    'Til': 110,\n",
    "    'Antall': 114\n",
    "}\n",
    "data['3XL'] = {\n",
    "    'Fra': 110,\n",
    "    'Til': 116,\n",
    "    'Antall': 37\n",
    "}\n",
    "\n",
    "data"
   ]
  },
  {
   "cell_type": "markdown",
   "metadata": {},
   "source": [
    "Vi har satt opp hver gruppe med mål i cm. Det vil si at størrelse S gjelder for livvidder fra 76 til 82 cm. Nå kan vi gjøre dette om til en DataFrame, slik at vi kan få laget tabeller og grafer av dette."
   ]
  },
  {
   "cell_type": "code",
   "execution_count": 2,
   "metadata": {
    "collapsed": false
   },
   "outputs": [
    {
     "data": {
      "text/html": [
       "<div>\n",
       "<table border=\"1\" class=\"dataframe\">\n",
       "  <thead>\n",
       "    <tr style=\"text-align: right;\">\n",
       "      <th></th>\n",
       "      <th>Antall</th>\n",
       "    </tr>\n",
       "  </thead>\n",
       "  <tbody>\n",
       "    <tr>\n",
       "      <th>S</th>\n",
       "      <td>15</td>\n",
       "    </tr>\n",
       "    <tr>\n",
       "      <th>M</th>\n",
       "      <td>142</td>\n",
       "    </tr>\n",
       "    <tr>\n",
       "      <th>L</th>\n",
       "      <td>79</td>\n",
       "    </tr>\n",
       "    <tr>\n",
       "      <th>XL</th>\n",
       "      <td>171</td>\n",
       "    </tr>\n",
       "    <tr>\n",
       "      <th>XXL</th>\n",
       "      <td>114</td>\n",
       "    </tr>\n",
       "    <tr>\n",
       "      <th>3XL</th>\n",
       "      <td>37</td>\n",
       "    </tr>\n",
       "  </tbody>\n",
       "</table>\n",
       "</div>"
      ],
      "text/plain": [
       "     Antall\n",
       "S        15\n",
       "M       142\n",
       "L        79\n",
       "XL      171\n",
       "XXL     114\n",
       "3XL      37"
      ]
     },
     "execution_count": 2,
     "metadata": {},
     "output_type": "execute_result"
    }
   ],
   "source": [
    "from pandas import DataFrame\n",
    "\n",
    "df = DataFrame.from_dict(data) # Lager en DataFrame fra vår data-variabel, som er av type OrderedDict / dict\n",
    "\n",
    "# Henter ut kolonnen \"Antall\", og gjør den om til en DataFrame. Uten \"to_frame\" ville vi ikke fått en like fin tabell.\n",
    "frekvens = df.loc['Antall'].to_frame()\n",
    "\n",
    "frekvens"
   ]
  },
  {
   "cell_type": "markdown",
   "metadata": {},
   "source": [
    "Nå kan vi videre lage et frekvensdiagram. Vi er fremdeles bare interessert i \"Antall\"-kolonnen, så vi gjenbruker \"frekvens\"-variabelen fra tidligere."
   ]
  },
  {
   "cell_type": "code",
   "execution_count": 3,
   "metadata": {
    "collapsed": false
   },
   "outputs": [
    {
     "data": {
      "image/png": "[encoded data removed]",
      "text/plain": [
       "<matplotlib.figure.Figure at 0x7fd2882457f0>"
      ]
     },
     "metadata": {},
     "output_type": "display_data"
    }
   ],
   "source": [
    "# Setter opp plotteverktøyet slik at vi får se figuren direkte i notebooken\n",
    "%matplotlib inline\n",
    "import matplotlib.pyplot as plt\n",
    "\n",
    "# Plotter frekvens som en \"bar chart\", med full bredde (kan være 0-1), slik at stolpene treffer hverandre\n",
    "frekvens.plot.bar(width=1)\n",
    "plt.show()"
   ]
  },
  {
   "cell_type": "markdown",
   "metadata": {},
   "source": [
    "Med det samme kan vi også lage en kumulativ frekvenstabell, og plotte denne."
   ]
  },
  {
   "cell_type": "code",
   "execution_count": 4,
   "metadata": {
    "collapsed": false
   },
   "outputs": [
    {
     "data": {
      "text/html": [
       "<div>\n",
       "<table border=\"1\" class=\"dataframe\">\n",
       "  <thead>\n",
       "    <tr style=\"text-align: right;\">\n",
       "      <th></th>\n",
       "      <th>Antall</th>\n",
       "    </tr>\n",
       "  </thead>\n",
       "  <tbody>\n",
       "    <tr>\n",
       "      <th>S</th>\n",
       "      <td>15</td>\n",
       "    </tr>\n",
       "    <tr>\n",
       "      <th>M</th>\n",
       "      <td>157</td>\n",
       "    </tr>\n",
       "    <tr>\n",
       "      <th>L</th>\n",
       "      <td>236</td>\n",
       "    </tr>\n",
       "    <tr>\n",
       "      <th>XL</th>\n",
       "      <td>407</td>\n",
       "    </tr>\n",
       "    <tr>\n",
       "      <th>XXL</th>\n",
       "      <td>521</td>\n",
       "    </tr>\n",
       "    <tr>\n",
       "      <th>3XL</th>\n",
       "      <td>558</td>\n",
       "    </tr>\n",
       "  </tbody>\n",
       "</table>\n",
       "</div>"
      ],
      "text/plain": [
       "     Antall\n",
       "S        15\n",
       "M       157\n",
       "L       236\n",
       "XL      407\n",
       "XXL     521\n",
       "3XL     558"
      ]
     },
     "execution_count": 4,
     "metadata": {},
     "output_type": "execute_result"
    }
   ],
   "source": [
    "frekvens_kumulativ = frekvens.cumsum()\n",
    "\n",
    "frekvens_kumulativ"
   ]
  },
  {
   "cell_type": "code",
   "execution_count": 5,
   "metadata": {
    "collapsed": false
   },
   "outputs": [
    {
     "data": {
      "image/png": "[encoded data removed]",
      "text/plain": [
       "<matplotlib.figure.Figure at 0x7fd2ac85d898>"
      ]
     },
     "metadata": {},
     "output_type": "display_data"
    }
   ],
   "source": [
    "frekvens_kumulativ.plot.bar(width=1)\n",
    "plt.show()"
   ]
  },
  {
   "cell_type": "markdown",
   "metadata": {},
   "source": [
    "### Intervallgrenser, bredde og gjennomsnitt\n",
    "\n",
    "Nå skal vi utvide DataFramen vår. Vi har allerede fra- og til-grenser, men vi kan enkelt også regne ut bredden for hvert av disse intervallene. Med pandas kan vi bruke \"loc\" på DataFrame-objekter for å hente ut en rad. Vi definerer hvilken rad det er snakk om som en tekstverdi mellom [ og ].\n",
    "\n",
    "Det vi gjør her er at vi lager en ny rad, med navn \"Bredde\", og setter denne til å være lik \"Til\"-raden minus \"Fra\"-raden. Da tar Pandas alle verdier i \"Til\", og trekker fra samme kolonne i \"Fra\", og lagrer dette som en ny rad.\n",
    "\n",
    "Tilsvarende gjør vi får gjennomsnitt. Da tar vi til- og fra-grenser, legger dem sammen, og deler på to. Det gir verdien midt i intervallet."
   ]
  },
  {
   "cell_type": "code",
   "execution_count": 6,
   "metadata": {
    "collapsed": false
   },
   "outputs": [
    {
     "data": {
      "text/html": [
       "<div>\n",
       "<table border=\"1\" class=\"dataframe\">\n",
       "  <thead>\n",
       "    <tr style=\"text-align: right;\">\n",
       "      <th></th>\n",
       "      <th>S</th>\n",
       "      <th>M</th>\n",
       "      <th>L</th>\n",
       "      <th>XL</th>\n",
       "      <th>XXL</th>\n",
       "      <th>3XL</th>\n",
       "    </tr>\n",
       "  </thead>\n",
       "  <tbody>\n",
       "    <tr>\n",
       "      <th>Antall</th>\n",
       "      <td>15</td>\n",
       "      <td>142</td>\n",
       "      <td>79</td>\n",
       "      <td>171</td>\n",
       "      <td>114</td>\n",
       "      <td>37</td>\n",
       "    </tr>\n",
       "    <tr>\n",
       "      <th>Fra</th>\n",
       "      <td>76</td>\n",
       "      <td>82</td>\n",
       "      <td>90</td>\n",
       "      <td>98</td>\n",
       "      <td>106</td>\n",
       "      <td>110</td>\n",
       "    </tr>\n",
       "    <tr>\n",
       "      <th>Til</th>\n",
       "      <td>82</td>\n",
       "      <td>90</td>\n",
       "      <td>98</td>\n",
       "      <td>106</td>\n",
       "      <td>110</td>\n",
       "      <td>116</td>\n",
       "    </tr>\n",
       "    <tr>\n",
       "      <th>Bredde</th>\n",
       "      <td>6</td>\n",
       "      <td>8</td>\n",
       "      <td>8</td>\n",
       "      <td>8</td>\n",
       "      <td>4</td>\n",
       "      <td>6</td>\n",
       "    </tr>\n",
       "    <tr>\n",
       "      <th>Gjennomsnitt</th>\n",
       "      <td>79</td>\n",
       "      <td>86</td>\n",
       "      <td>94</td>\n",
       "      <td>102</td>\n",
       "      <td>108</td>\n",
       "      <td>113</td>\n",
       "    </tr>\n",
       "  </tbody>\n",
       "</table>\n",
       "</div>"
      ],
      "text/plain": [
       "               S    M   L   XL  XXL  3XL\n",
       "Antall        15  142  79  171  114   37\n",
       "Fra           76   82  90   98  106  110\n",
       "Til           82   90  98  106  110  116\n",
       "Bredde         6    8   8    8    4    6\n",
       "Gjennomsnitt  79   86  94  102  108  113"
      ]
     },
     "execution_count": 6,
     "metadata": {},
     "output_type": "execute_result"
    }
   ],
   "source": [
    "df.loc['Bredde']  = df.loc['Til']-df.loc['Fra']\n",
    "df.loc['Gjennomsnitt'] = (df.loc['Til']+df.loc['Fra'])/2\n",
    "\n",
    "df"
   ]
  },
  {
   "cell_type": "code",
   "execution_count": 7,
   "metadata": {
    "collapsed": false
   },
   "outputs": [
    {
     "ename": "NameError",
     "evalue": "name 'Series' is not defined",
     "output_type": "error",
     "traceback": [
      "\u001b[1;31m---------------------------------------------------------------------------\u001b[0m",
      "\u001b[1;31mNameError\u001b[0m                                 Traceback (most recent call last)",
      "\u001b[1;32m<ipython-input-7-af1b80454c54>\u001b[0m in \u001b[0;36m<module>\u001b[1;34m()\u001b[0m\n\u001b[0;32m     10\u001b[0m     \u001b[0marr\u001b[0m\u001b[1;33m.\u001b[0m\u001b[0mextend\u001b[0m\u001b[1;33m(\u001b[0m\u001b[1;33m[\u001b[0m\u001b[0mgjsnitt\u001b[0m\u001b[1;33m[\u001b[0m\u001b[0mi\u001b[0m\u001b[1;33m]\u001b[0m\u001b[1;33m]\u001b[0m \u001b[1;33m*\u001b[0m \u001b[0mrepeat_times\u001b[0m\u001b[1;33m)\u001b[0m\u001b[1;33m\u001b[0m\u001b[0m\n\u001b[0;32m     11\u001b[0m \u001b[1;33m\u001b[0m\u001b[0m\n\u001b[1;32m---> 12\u001b[1;33m \u001b[0ms\u001b[0m \u001b[1;33m=\u001b[0m \u001b[0mSeries\u001b[0m\u001b[1;33m(\u001b[0m\u001b[0marr\u001b[0m\u001b[1;33m)\u001b[0m\u001b[1;33m\u001b[0m\u001b[0m\n\u001b[0m\u001b[0;32m     13\u001b[0m \u001b[1;33m\u001b[0m\u001b[0m\n\u001b[0;32m     14\u001b[0m \u001b[0ms\u001b[0m\u001b[1;33m.\u001b[0m\u001b[0mmedian\u001b[0m\u001b[1;33m(\u001b[0m\u001b[1;33m)\u001b[0m\u001b[1;33m,\u001b[0m \u001b[0ms\u001b[0m\u001b[1;33m.\u001b[0m\u001b[0mquantile\u001b[0m\u001b[1;33m(\u001b[0m\u001b[1;36m0.25\u001b[0m\u001b[1;33m)\u001b[0m\u001b[1;33m,\u001b[0m \u001b[0ms\u001b[0m\u001b[1;33m.\u001b[0m\u001b[0mquantile\u001b[0m\u001b[1;33m(\u001b[0m\u001b[1;36m0.75\u001b[0m\u001b[1;33m)\u001b[0m\u001b[1;33m,\u001b[0m \u001b[0ms\u001b[0m\u001b[1;33m.\u001b[0m\u001b[0mmean\u001b[0m\u001b[1;33m(\u001b[0m\u001b[1;33m)\u001b[0m\u001b[1;33m,\u001b[0m \u001b[0ms\u001b[0m\u001b[1;33m.\u001b[0m\u001b[0mvar\u001b[0m\u001b[1;33m(\u001b[0m\u001b[1;33m)\u001b[0m\u001b[1;33m\u001b[0m\u001b[0m\n",
      "\u001b[1;31mNameError\u001b[0m: name 'Series' is not defined"
     ]
    }
   ],
   "source": [
    "from pandas import Series\n",
    "\n",
    "# Forkortelser, så vi slipper å gjenta df.loc[...]\n",
    "gjsnitt = df.loc['Gjennomsnitt']\n",
    "antall = df.loc['Antall']\n",
    "\n",
    "# TODO...\n",
    "\n",
    "arr = []\n",
    "for i in range(len(antall)):\n",
    "    repeat_times = int(antall[i])\n",
    "    arr.extend([gjsnitt[i]] * repeat_times)\n",
    "\n",
    "s = Series(arr)\n",
    "\n",
    "s.median(), s.quantile(0.25), s.quantile(0.75), s.mean(), s.var()"
   ]
  },
  {
   "cell_type": "code",
   "execution_count": null,
   "metadata": {
    "collapsed": false
   },
   "outputs": [],
   "source": []
  }
 ],
 "metadata": {
  "kernelspec": {
   "display_name": "Python 3",
   "language": "python",
   "name": "python3"
  },
  "language_info": {
   "codemirror_mode": {
    "name": "ipython",
    "version": 3
   },
   "file_extension": ".py",
   "mimetype": "text/x-python",
   "name": "python",
   "nbconvert_exporter": "python",
   "pygments_lexer": "ipython3",
   "version": "3.5.1"
  }
 },
 "nbformat": 4,
 "nbformat_minor": 0
}
