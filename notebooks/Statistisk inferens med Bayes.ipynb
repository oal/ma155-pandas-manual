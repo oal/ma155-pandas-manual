{
 "cells": [
  {
   "cell_type": "markdown",
   "metadata": {},
   "source": [
    "# Statistisk inferens\n",
    "\n",
    "Vi skal se mer på Bayes teorem og statistisk inferens. Først importerer vi de pakkene og klassene vi trenger."
   ]
  },
  {
   "cell_type": "code",
   "execution_count": 1,
   "metadata": {
    "collapsed": false
   },
   "outputs": [],
   "source": [
    "from pandas import DataFrame, Series\n",
    "import matplotlib.pyplot as plt\n",
    "%matplotlib inline"
   ]
  },
  {
   "cell_type": "markdown",
   "metadata": {},
   "source": [
    "I dette eksempelet ser vi på julenisseoppgaven i læreboka, på side 232 (Statistisk infersens: Bayes teorem, oppgave 1).\n",
    "\n",
    "Vi får oppgitt at julenissens verksted lager 10 typer sekker (nummerert 1-10). Det blir laget 17 ganger sekknummer av hver sekktype. Altså 17 av type 1, 34 av type 2 osv. Det er $sekknummer^2%$ myke pakker i sekkene.\n",
    "\n",
    "For å presentere dette i kodeform, på en ryddig måte, bruker vi Pandas sin Series-klasse. Først lager vi en serie med tallene fra 1 t.o.m. 10, som er sekktypenummer/indekser.\n",
    "\n",
    "Prioren vår blir da dette tallet, ganger 17. En veldig nyttig snarvei med Pandas-serier, er at vi kan gjøre regneoperasjoner på dem direkte. Hvis vi tar f.eks. en serie, ganget et heltall, blir alle elementene i serien ganget med dette tallet, og vi får en ny serie. Dette er \"priors\"-variabelen i koden under.\n",
    "\n",
    "Tilsvarende gjør vi for likelihood, bare at vi skal ha $sekknummer^2$ her. Python bruker ** som potens-operator.\n",
    "\n",
    "PxL-kolonnen er ganske enkelt prior og likelihood ganget sammen, og posterior er dette, delt på summen av kolonnen. Altså normalisert."
   ]
  },
  {
   "cell_type": "code",
   "execution_count": 2,
   "metadata": {
    "collapsed": false
   },
   "outputs": [],
   "source": [
    "sekk_indekser = Series(range(1,11)) # [1...10]\n",
    "\n",
    "priors = sekk_indekser*17 # 17, 34, 51, ...\n",
    "likelihood = sekk_indekser**2\n",
    "pxl = priors * likelihood\n",
    "posterior = pxl/sum(pxl)"
   ]
  },
  {
   "cell_type": "markdown",
   "metadata": {},
   "source": [
    "Nå har vi laget alle variablene vi trenger, og kan sette det sammen til en dataframe. Da kan vi enkelt plotte en eller flere av kolonnene, samt få ut en tabell."
   ]
  },
  {
   "cell_type": "code",
   "execution_count": 3,
   "metadata": {
    "collapsed": false
   },
   "outputs": [
    {
     "data": {
      "text/html": [
       "<div>\n",
       "<table border=\"1\" class=\"dataframe\">\n",
       "  <thead>\n",
       "    <tr style=\"text-align: right;\">\n",
       "      <th></th>\n",
       "      <th>Prior</th>\n",
       "      <th>Likelihood</th>\n",
       "      <th>PxL</th>\n",
       "      <th>Posterior</th>\n",
       "    </tr>\n",
       "  </thead>\n",
       "  <tbody>\n",
       "    <tr>\n",
       "      <th>1</th>\n",
       "      <td>17</td>\n",
       "      <td>1</td>\n",
       "      <td>17</td>\n",
       "      <td>0.000331</td>\n",
       "    </tr>\n",
       "    <tr>\n",
       "      <th>2</th>\n",
       "      <td>34</td>\n",
       "      <td>4</td>\n",
       "      <td>136</td>\n",
       "      <td>0.002645</td>\n",
       "    </tr>\n",
       "    <tr>\n",
       "      <th>3</th>\n",
       "      <td>51</td>\n",
       "      <td>9</td>\n",
       "      <td>459</td>\n",
       "      <td>0.008926</td>\n",
       "    </tr>\n",
       "    <tr>\n",
       "      <th>4</th>\n",
       "      <td>68</td>\n",
       "      <td>16</td>\n",
       "      <td>1088</td>\n",
       "      <td>0.021157</td>\n",
       "    </tr>\n",
       "    <tr>\n",
       "      <th>5</th>\n",
       "      <td>85</td>\n",
       "      <td>25</td>\n",
       "      <td>2125</td>\n",
       "      <td>0.041322</td>\n",
       "    </tr>\n",
       "    <tr>\n",
       "      <th>6</th>\n",
       "      <td>102</td>\n",
       "      <td>36</td>\n",
       "      <td>3672</td>\n",
       "      <td>0.071405</td>\n",
       "    </tr>\n",
       "    <tr>\n",
       "      <th>7</th>\n",
       "      <td>119</td>\n",
       "      <td>49</td>\n",
       "      <td>5831</td>\n",
       "      <td>0.113388</td>\n",
       "    </tr>\n",
       "    <tr>\n",
       "      <th>8</th>\n",
       "      <td>136</td>\n",
       "      <td>64</td>\n",
       "      <td>8704</td>\n",
       "      <td>0.169256</td>\n",
       "    </tr>\n",
       "    <tr>\n",
       "      <th>9</th>\n",
       "      <td>153</td>\n",
       "      <td>81</td>\n",
       "      <td>12393</td>\n",
       "      <td>0.240992</td>\n",
       "    </tr>\n",
       "    <tr>\n",
       "      <th>10</th>\n",
       "      <td>170</td>\n",
       "      <td>100</td>\n",
       "      <td>17000</td>\n",
       "      <td>0.330579</td>\n",
       "    </tr>\n",
       "  </tbody>\n",
       "</table>\n",
       "</div>"
      ],
      "text/plain": [
       "    Prior  Likelihood    PxL  Posterior\n",
       "1      17           1     17   0.000331\n",
       "2      34           4    136   0.002645\n",
       "3      51           9    459   0.008926\n",
       "4      68          16   1088   0.021157\n",
       "5      85          25   2125   0.041322\n",
       "6     102          36   3672   0.071405\n",
       "7     119          49   5831   0.113388\n",
       "8     136          64   8704   0.169256\n",
       "9     153          81  12393   0.240992\n",
       "10    170         100  17000   0.330579"
      ]
     },
     "execution_count": 3,
     "metadata": {},
     "output_type": "execute_result"
    },
    {
     "data": {
      "image/png": "[encoded data removed]",
      "text/plain": [
       "<matplotlib.figure.Figure at 0x10a2b7c50>"
      ]
     },
     "metadata": {},
     "output_type": "display_data"
    }
   ],
   "source": [
    "# Lager dataframe med rad-indekser (sekk-nummer) f.o.m. 1 t.o.m. 10.\n",
    "df = DataFrame()\n",
    "\n",
    "# Vi kunne brukt DataFrame.from_dict, men da vil rekkefølgen på kolonnene være tilfeldig.\n",
    "# Derfor kan det lønne seg å sette inn kolonner slik:\n",
    "df['Prior'] = priors\n",
    "df['Likelihood'] = likelihood\n",
    "df['PxL'] = pxl\n",
    "df['Posterior'] = posterior\n",
    "df.index = sekk_indekser\n",
    "\n",
    "df['Posterior'].plot.bar()\n",
    "\n",
    "df"
   ]
  },
  {
   "cell_type": "markdown",
   "metadata": {},
   "source": [
    "### Oppdatering\n",
    "\n",
    "Vi får i eksempelet vite at nissen plukker to tilfeldige pakker fra en sekk, og blir bedt om å finne ut hva det sier oss om sekken han plukket fra. Vi forenkler, og regner med trekk med tilbakelegging. Dermed tar vi ny likelihood, som forrige likelihood i andre.\n",
    "\n",
    "Merk at vi her gjør hele prosessen litt kortere. Istedenfor å lage variabler for prior, likelihood osv. som over, lager vi ny dataframe, med de riktige kolonnene direkte ved å legge inn i \"df2['Prior']\" osv. fra starten.\n",
    "\n",
    "Vi plotter, og viser den nye dataframen i tabellform."
   ]
  },
  {
   "cell_type": "code",
   "execution_count": 4,
   "metadata": {
    "collapsed": false
   },
   "outputs": [
    {
     "data": {
      "text/html": [
       "<div>\n",
       "<table border=\"1\" class=\"dataframe\">\n",
       "  <thead>\n",
       "    <tr style=\"text-align: right;\">\n",
       "      <th></th>\n",
       "      <th>Prior</th>\n",
       "      <th>Likelihood</th>\n",
       "      <th>PxL</th>\n",
       "      <th>Posterior</th>\n",
       "    </tr>\n",
       "  </thead>\n",
       "  <tbody>\n",
       "    <tr>\n",
       "      <th>1</th>\n",
       "      <td>0.000331</td>\n",
       "      <td>1</td>\n",
       "      <td>0.000331</td>\n",
       "      <td>5.530843e-08</td>\n",
       "    </tr>\n",
       "    <tr>\n",
       "      <th>2</th>\n",
       "      <td>0.002645</td>\n",
       "      <td>16</td>\n",
       "      <td>0.042314</td>\n",
       "      <td>7.079480e-06</td>\n",
       "    </tr>\n",
       "    <tr>\n",
       "      <th>3</th>\n",
       "      <td>0.008926</td>\n",
       "      <td>81</td>\n",
       "      <td>0.722975</td>\n",
       "      <td>1.209595e-04</td>\n",
       "    </tr>\n",
       "    <tr>\n",
       "      <th>4</th>\n",
       "      <td>0.021157</td>\n",
       "      <td>256</td>\n",
       "      <td>5.416198</td>\n",
       "      <td>9.061734e-04</td>\n",
       "    </tr>\n",
       "    <tr>\n",
       "      <th>5</th>\n",
       "      <td>0.041322</td>\n",
       "      <td>625</td>\n",
       "      <td>25.826446</td>\n",
       "      <td>4.320971e-03</td>\n",
       "    </tr>\n",
       "    <tr>\n",
       "      <th>6</th>\n",
       "      <td>0.071405</td>\n",
       "      <td>1296</td>\n",
       "      <td>92.540826</td>\n",
       "      <td>1.548282e-02</td>\n",
       "    </tr>\n",
       "    <tr>\n",
       "      <th>7</th>\n",
       "      <td>0.113388</td>\n",
       "      <td>2401</td>\n",
       "      <td>272.245620</td>\n",
       "      <td>4.554887e-02</td>\n",
       "    </tr>\n",
       "    <tr>\n",
       "      <th>8</th>\n",
       "      <td>0.169256</td>\n",
       "      <td>4096</td>\n",
       "      <td>693.273388</td>\n",
       "      <td>1.159902e-01</td>\n",
       "    </tr>\n",
       "    <tr>\n",
       "      <th>9</th>\n",
       "      <td>0.240992</td>\n",
       "      <td>6561</td>\n",
       "      <td>1581.146777</td>\n",
       "      <td>2.645385e-01</td>\n",
       "    </tr>\n",
       "    <tr>\n",
       "      <th>10</th>\n",
       "      <td>0.330579</td>\n",
       "      <td>10000</td>\n",
       "      <td>3305.785124</td>\n",
       "      <td>5.530843e-01</td>\n",
       "    </tr>\n",
       "  </tbody>\n",
       "</table>\n",
       "</div>"
      ],
      "text/plain": [
       "       Prior  Likelihood          PxL     Posterior\n",
       "1   0.000331           1     0.000331  5.530843e-08\n",
       "2   0.002645          16     0.042314  7.079480e-06\n",
       "3   0.008926          81     0.722975  1.209595e-04\n",
       "4   0.021157         256     5.416198  9.061734e-04\n",
       "5   0.041322         625    25.826446  4.320971e-03\n",
       "6   0.071405        1296    92.540826  1.548282e-02\n",
       "7   0.113388        2401   272.245620  4.554887e-02\n",
       "8   0.169256        4096   693.273388  1.159902e-01\n",
       "9   0.240992        6561  1581.146777  2.645385e-01\n",
       "10  0.330579       10000  3305.785124  5.530843e-01"
      ]
     },
     "execution_count": 4,
     "metadata": {},
     "output_type": "execute_result"
    },
    {
     "data": {
      "image/png": "[encoded data removed]",
      "text/plain": [
       "<matplotlib.figure.Figure at 0x10a53d6a0>"
      ]
     },
     "metadata": {},
     "output_type": "display_data"
    }
   ],
   "source": [
    "df2 = DataFrame()\n",
    "\n",
    "df2['Prior'] = df['Posterior']\n",
    "df2['Likelihood'] = df['Likelihood']**2\n",
    "df2['PxL'] = df2['Prior'] * df2['Likelihood']\n",
    "df2['Posterior'] = df2['PxL']/sum(df2['PxL'])\n",
    "\n",
    "df2['Posterior'].plot.bar()\n",
    "\n",
    "df2"
   ]
  },
  {
   "cell_type": "markdown",
   "metadata": {},
   "source": [
    "Vi kan se at vi er blitt sikrere på at sekken er blant de med høyere typenummer, da disse inneholder en større andel myke pakker, og nissen tilfeldigvis trakk to myke pakker til oss."
   ]
  },
  {
   "cell_type": "markdown",
   "metadata": {},
   "source": [
    "## Kontinuerlig funksjon og symbolsk integrasjon\n",
    "\n",
    "Det hender vi får funksjoner med delt funksjonsforskrift. Med metodene vi har brukt tidligere, vil vi ikke få noen særlig hjelp i disse tilfellene. Ja, vi kan gjøre numerisk integrasjon ved å evaluere veldig mange punkter, men la oss heller se på en annen løsning.\n",
    "\n",
    "Anaconda blir levert med en pakke som heter \"sympy\". Denne pakken lar deg regne symbolsk med Python. Vi kan mao. definere funksjoner, og integrere dem, uten å evaluere dem med konkrete verdier."
   ]
  },
  {
   "cell_type": "code",
   "execution_count": 5,
   "metadata": {
    "collapsed": false
   },
   "outputs": [],
   "source": [
    "# Slå av advarsler.\n",
    "import warnings\n",
    "warnings.filterwarnings('ignore')\n",
    "\n",
    "# Importer det vi trenger fra sympy, og sett opp printing, slik at vi får penere resultater ut.\n",
    "from sympy import init_printing, Symbol, Piecewise, plot, simplify, piecewise_fold\n",
    "init_printing()"
   ]
  },
  {
   "cell_type": "markdown",
   "metadata": {},
   "source": [
    "Vi kan nå lage en symbolsk variabel. Denne kan vi bruke i en Piecewise-funksjon. Piecewise tar inn parametere for alle delfunksjonene i såkalte tuples, på formen \"(funksjon, kriterie)\". Her er funksjonen altså 0 for x <= -2 osv.\n",
    "\n",
    "Vi plotter denne med sympy sin plotfunksjon, og returnerer prior, slik at vi ser funksjonen under grafen."
   ]
  },
  {
   "cell_type": "code",
   "execution_count": 6,
   "metadata": {
    "collapsed": false
   },
   "outputs": [
    {
     "data": {
      "image/png": "[encoded data removed]",
      "text/plain": [
       "<matplotlib.figure.Figure at 0x10a5dbc18>"
      ]
     },
     "metadata": {},
     "output_type": "display_data"
    },
    {
     "data": {
      "image/png": "[encoded data removed]",
      "text/latex": [
       "$$\\begin{cases} 0 & \\text{for}\\: x \\leq -2 \\\\0.25 x + 0.5 & \\text{for}\\: x \\leq 0 \\\\- 0.25 x + 0.5 & \\text{for}\\: x \\leq 2 \\\\0 & \\text{otherwise} \\end{cases}$$"
      ],
      "text/plain": [
       "⎧       0          for x ≤ -2\n",
       "⎪                            \n",
       "⎪  0.25⋅x + 0.5    for x ≤ 0 \n",
       "⎨                            \n",
       "⎪-- -0.25⋅x + 0.5  for x ≤ 2 \n",
       "⎪                            \n",
       "⎩       0          otherwise "
      ]
     },
     "execution_count": 6,
     "metadata": {},
     "output_type": "execute_result"
    }
   ],
   "source": [
    "x = Symbol('x')\n",
    "prior = Piecewise(\n",
    "    (0, x <= -2),\n",
    "    (0.5+0.25*x, x <= 0),\n",
    "    (0.5-0.25*x, x <= 2),\n",
    "    (0, True), x\n",
    ")\n",
    "\n",
    "plot(prior, adaptive=False)\n",
    "prior"
   ]
  },
  {
   "cell_type": "code",
   "execution_count": 7,
   "metadata": {
    "collapsed": false
   },
   "outputs": [
    {
     "data": {
      "image/png": "[encoded data removed]",
      "text/plain": [
       "<matplotlib.figure.Figure at 0x10a5dbb38>"
      ]
     },
     "metadata": {},
     "output_type": "display_data"
    },
    {
     "data": {
      "image/png": "[encoded data removed]",
      "text/latex": [
       "$$\\begin{cases} 14 & \\text{for}\\: x \\leq -1 \\\\2 & \\text{for}\\: x < 0 \\\\3 & \\text{otherwise} \\end{cases}$$"
      ],
      "text/plain": [
       "⎧14  for x ≤ -1\n",
       "⎪              \n",
       "⎨2   for x < 0 \n",
       "⎪              \n",
       "⎩3   otherwise "
      ]
     },
     "execution_count": 7,
     "metadata": {},
     "output_type": "execute_result"
    }
   ],
   "source": [
    "likelihood = Piecewise(\n",
    "    (14, x <= -1),\n",
    "    (2, x < 0),\n",
    "    (3, True)\n",
    ")\n",
    "\n",
    "plot(likelihood, adaptive=False)\n",
    "likelihood"
   ]
  },
  {
   "cell_type": "code",
   "execution_count": 8,
   "metadata": {
    "collapsed": false
   },
   "outputs": [
    {
     "data": {
      "image/png": "[encoded data removed]",
      "text/plain": [
       "<matplotlib.figure.Figure at 0x10a2b70f0>"
      ]
     },
     "metadata": {},
     "output_type": "display_data"
    },
    {
     "data": {
      "image/png": "[encoded data removed]",
      "text/latex": [
       "$$\\begin{cases} \\begin{cases} 0 & \\text{for}\\: x \\leq -2 \\\\3.5 x + 7.0 & \\text{for}\\: x \\leq 0 \\\\- 3.5 x + 7.0 & \\text{for}\\: x \\leq 2 \\\\0 & \\text{otherwise} \\end{cases} & \\text{for}\\: x \\leq -1 \\\\\\begin{cases} 0 & \\text{for}\\: x \\leq -2 \\\\0.5 x + 1.0 & \\text{for}\\: x \\leq 0 \\\\- 0.5 x + 1.0 & \\text{for}\\: x \\leq 2 \\\\0 & \\text{otherwise} \\end{cases} & \\text{for}\\: x < 0 \\\\\\begin{cases} 0 & \\text{for}\\: x \\leq -2 \\\\0.75 x + 1.5 & \\text{for}\\: x \\leq 0 \\\\- 0.75 x + 1.5 & \\text{for}\\: x \\leq 2 \\\\0 & \\text{otherwise} \\end{cases} & \\text{otherwise} \\end{cases}$$"
      ],
      "text/plain": [
       "⎧⎧        0           for x ≤ -2            \n",
       "⎪⎪                                          \n",
       "⎪⎪   3.5⋅x + 7.0      for x ≤ 0             \n",
       "⎪⎨                                for x ≤ -1\n",
       "⎪⎪--3.5⋅(-1)⋅x + 7.0  for x ≤ 2             \n",
       "⎪⎪                                          \n",
       "⎪⎩        0           otherwise             \n",
       "⎪                                           \n",
       "⎪ ⎧       0         for x ≤ -2              \n",
       "⎪ ⎪                                         \n",
       "⎪ ⎪  0.5⋅x + 1.0    for x ≤ 0               \n",
       "⎨ ⎨                               for x < 0 \n",
       "⎪ ⎪-- -0.5⋅x + 1.0  for x ≤ 2               \n",
       "⎪ ⎪                                         \n",
       "⎪ ⎩       0         otherwise               \n",
       "⎪                                           \n",
       "⎪ ⎧       0          for x ≤ -2             \n",
       "⎪ ⎪                                         \n",
       "⎪ ⎪  0.75⋅x + 1.5    for x ≤ 0              \n",
       "⎪ ⎨                               otherwise \n",
       "⎪ ⎪-- -0.75⋅x + 1.5  for x ≤ 2              \n",
       "⎪ ⎪                                         \n",
       "⎩ ⎩       0          otherwise              "
      ]
     },
     "execution_count": 8,
     "metadata": {},
     "output_type": "execute_result"
    }
   ],
   "source": [
    "pxl = piecewise_fold(prior*likelihood)\n",
    "\n",
    "plot(pxl, adaptive=False)\n",
    "pxl\n"
   ]
  },
  {
   "cell_type": "markdown",
   "metadata": {},
   "source": [
    "Sympy gjør også integrasjon, men dessverre håndterer den ikke funksjoner med delt funksjonsforskrift (Piecewise)-funksjoner særlig godt. Dette er noe utviklerne er klar over, og vil forhåpentligvis bli utbedre t i fremtiden.\n",
    "\n",
    "Prøv gjerne å kjøre koden under, og se om du får riktig resultat:"
   ]
  },
  {
   "cell_type": "code",
   "execution_count": 9,
   "metadata": {
    "collapsed": false
   },
   "outputs": [
    {
     "name": "stdout",
     "output_type": "stream",
     "text": [
      "-4.50000000000000\n"
     ]
    },
    {
     "data": {
      "image/png": "[encoded data removed]",
      "text/plain": [
       "<matplotlib.figure.Figure at 0x10b905b38>"
      ]
     },
     "metadata": {},
     "output_type": "display_data"
    },
    {
     "data": {
      "image/png": "[encoded data removed]",
      "text/latex": [
       "$$\\begin{cases} - 0.222222222222222 \\begin{cases} 0 & \\text{for}\\: x \\leq -2 \\\\3.5 x + 7.0 & \\text{for}\\: x \\leq 0 \\\\- 3.5 x + 7.0 & \\text{for}\\: x \\leq 2 \\\\0 & \\text{otherwise} \\end{cases} & \\text{for}\\: x \\leq -1 \\\\- 0.222222222222222 \\begin{cases} 0 & \\text{for}\\: x \\leq -2 \\\\0.5 x + 1.0 & \\text{for}\\: x \\leq 0 \\\\- 0.5 x + 1.0 & \\text{for}\\: x \\leq 2 \\\\0 & \\text{otherwise} \\end{cases} & \\text{for}\\: x < 0 \\\\- 0.222222222222222 \\begin{cases} 0 & \\text{for}\\: x \\leq -2 \\\\0.75 x + 1.5 & \\text{for}\\: x \\leq 0 \\\\- 0.75 x + 1.5 & \\text{for}\\: x \\leq 2 \\\\0 & \\text{otherwise} \\end{cases} & \\text{otherwise} \\end{cases}$$"
      ],
      "text/plain": [
       "⎧                   ⎛⎧        0           for x ≤ -2⎞            \n",
       "⎪                   ⎜⎪                              ⎟            \n",
       "⎪                   ⎜⎪   3.5⋅x + 7.0      for x ≤ 0 ⎟            \n",
       "⎪-0.222222222222222⋅⎜⎨                              ⎟  for x ≤ -1\n",
       "⎪                   ⎜⎪--3.5⋅(-1)⋅x + 7.0  for x ≤ 2 ⎟            \n",
       "⎪                   ⎜⎪                              ⎟            \n",
       "⎪                   ⎝⎩        0           otherwise ⎠            \n",
       "⎪                                                                \n",
       "⎪                    ⎛⎧       0         for x ≤ -2⎞              \n",
       "⎪                    ⎜⎪                           ⎟              \n",
       "⎪                    ⎜⎪  0.5⋅x + 1.0    for x ≤ 0 ⎟              \n",
       "⎨ -0.222222222222222⋅⎜⎨                           ⎟    for x < 0 \n",
       "⎪                    ⎜⎪-- -0.5⋅x + 1.0  for x ≤ 2 ⎟              \n",
       "⎪                    ⎜⎪                           ⎟              \n",
       "⎪                    ⎝⎩       0         otherwise ⎠              \n",
       "⎪                                                                \n",
       "⎪                    ⎛⎧       0          for x ≤ -2⎞             \n",
       "⎪                    ⎜⎪                            ⎟             \n",
       "⎪                    ⎜⎪  0.75⋅x + 1.5    for x ≤ 0 ⎟             \n",
       "⎪ -0.222222222222222⋅⎜⎨                            ⎟   otherwise \n",
       "⎪                    ⎜⎪-- -0.75⋅x + 1.5  for x ≤ 2 ⎟             \n",
       "⎪                    ⎜⎪                            ⎟             \n",
       "⎩                    ⎝⎩       0          otherwise ⎠             "
      ]
     },
     "execution_count": 9,
     "metadata": {},
     "output_type": "execute_result"
    }
   ],
   "source": [
    "from sympy import oo, integrate\n",
    "s = integrate(pxl, (x, -oo, oo))\n",
    "\n",
    "print(s)\n",
    "\n",
    "posterior = piecewise_fold(pxl/s)\n",
    "\n",
    "plot(posterior, adaptive=False)\n",
    "posterior"
   ]
  },
  {
   "cell_type": "code",
   "execution_count": null,
   "metadata": {
    "collapsed": true
   },
   "outputs": [],
   "source": []
  }
 ],
 "metadata": {
  "kernelspec": {
   "display_name": "Python 3",
   "language": "python",
   "name": "python3"
  },
  "language_info": {
   "codemirror_mode": {
    "name": "ipython",
    "version": 3
   },
   "file_extension": ".py",
   "mimetype": "text/x-python",
   "name": "python",
   "nbconvert_exporter": "python",
   "pygments_lexer": "ipython3",
   "version": "3.5.1"
  }
 },
 "nbformat": 4,
 "nbformat_minor": 0
}
