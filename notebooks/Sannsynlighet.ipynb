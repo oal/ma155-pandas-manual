{
 "cells": [
  {
   "cell_type": "code",
   "execution_count": null,
   "metadata": {
    "collapsed": true
   },
   "outputs": [],
   "source": [
    "# Sannsynlighet\n",
    "\n",
    "For det aller enkleste, som å ta union, snitt osv. mellom to sannsynligheter, gjør vi det enklest uten å hente inn eksterne pakker. Å skrive P(...) o.l. fungerer dårlig med Python sin syntaks, da dette ville blitt evaluert som en funksjon. Den peneste måten å få en skrivemåte som ligner på det vi er vandt til, er nok derfor å bruke dictionaries. Vi kan da lage en dict som heter P, og sette data inni denne, slik:"
   ]
  },
  {
   "cell_type": "code",
   "execution_count": 1,
   "metadata": {
    "collapsed": false
   },
   "outputs": [
    {
     "data": {
      "text/plain": [
       "{'A': 0.2, 'B': 0.5, 'B|A': 0.14285714285714285}"
      ]
     },
     "execution_count": 1,
     "metadata": {},
     "output_type": "execute_result"
    }
   ],
   "source": [
    "P = {} # Tom dict, vi legger inn data på de neste linjene.\n",
    "P['A'] = 1/5 # Tilsvarer P(A)\n",
    "P['B'] = 1/2 # osv...\n",
    "P['B|A'] = 1/7\n",
    "\n",
    "P # Vis hva som ligger inne i P-objektet vårt sålangt."
   ]
  },
  {
   "cell_type": "markdown",
   "metadata": {},
   "source": [
    "Vi kan deretter gjøre utregninger ved å bruke reglene for kombinatorikk."
   ]
  },
  {
   "cell_type": "code",
   "execution_count": 2,
   "metadata": {
    "collapsed": false
   },
   "outputs": [
    {
     "name": "stdout",
     "output_type": "stream",
     "text": [
      "P(AB) = 0.02857142857142857\n",
      "P(AuB) = 0.6714285714285714\n",
      "P(A|B) = 0.05714285714285714\n"
     ]
    }
   ],
   "source": [
    "P['AB'] = P['B|A']*P['A']\n",
    "print('P(AB) =', P['AB'])\n",
    "\n",
    "P['AuB'] = P['A'] + P['B'] - P['AB']\n",
    "print('P(AuB) =', P['AuB'])\n",
    "\n",
    "P['A|B'] = (P['B|A']*P['A'])/P['B']\n",
    "print('P(A|B) =', P['A|B'])"
   ]
  },
  {
   "cell_type": "markdown",
   "metadata": {},
   "source": [
    "### Trekk fra en mengde\n",
    "\n",
    "Det finnes dessverre ingen hurtigmetode i de pakkene vi har tilgjengelig, for å regne sannsynligheter ved trekk fra en mengde. Ferdig funksjonalitet får vi i større grad til senere kapitler. Vi må derfor implementere trekk-formlene selv, eller vi kan la datamaskinen gjøre jobben med å plukke verdier veldig mange ganger i en løkke. Dette kan man gjøre ved å bruke noe ala dette i en for-løkke:"
   ]
  },
  {
   "cell_type": "code",
   "execution_count": 3,
   "metadata": {
    "collapsed": false
   },
   "outputs": [
    {
     "name": "stdout",
     "output_type": "stream",
     "text": [
      "Med tilbakelegging: ['H' 'R' 'D' 'D']\n",
      "Uten tilbakelegging: ['H' 'A' 'A' 'E']\n",
      "Plukket H, E, R, D? False\n",
      "Plukket D, E, H, R? False\n"
     ]
    }
   ],
   "source": [
    "import numpy as np\n",
    "innhold = ['A', 'A', 'H', 'R', 'D', 'H', 'E']\n",
    "\n",
    "# Henter fire tilfeldige verdier fra innhold, med tilbakelegging.\n",
    "utvalg_tilbakelegg = np.random.choice(innhold, 4)\n",
    "print('Med tilbakelegging:', utvalg_tilbakelegg)\n",
    "\n",
    "# Henter fire tilfeldige verdier fra innhold, uten tilbakelegging.\n",
    "utvalg_uten_tilbakelegg = np.random.choice(innhold, 4, replace=False)\n",
    "print('Uten tilbakelegging:', utvalg_uten_tilbakelegg)\n",
    "\n",
    "# Sjekke om vi fant H, E, R, D:\n",
    "leter_etter = ['H','E','R','D']\n",
    "fant_herd = (leter_etter == utvalg_uten_tilbakelegg).all() # Sjekker likhet mellom alle verdier i to lister.\n",
    "print('Plukket H, E, R, D?', fant_herd)\n",
    "\n",
    "# Hvis vi sorterer både verdiene vi leter etter, og listen vi plukket, spiller ikke rekkefølgen på utvalget\n",
    "# lenger noen rolle.\n",
    "leter_etter.sort() # leter_etter er nå [D, E, H, R], sortert alfabetisk\n",
    "utvalg_uten_tilbakelegg.sort()\n",
    "fant_herd = (leter_etter == utvalg_uten_tilbakelegg).all() # Sjekker likhet mellom alle verdier i to lister.\n",
    "print('Plukket D, E, H, R?', fant_herd)"
   ]
  },
  {
   "cell_type": "markdown",
   "metadata": {},
   "source": [
    "Vi kan også, som nevnt, bygge våre egne funksjoner basert på trekk-formlene. Her er de fire trekk-formlene med to typer data. Man kan også bygge ut formlene for flere typer data ved bruk av multinomial-funksjonen vi lagde i forrige kapittel."
   ]
  },
  {
   "cell_type": "code",
   "execution_count": 4,
   "metadata": {
    "collapsed": true
   },
   "outputs": [],
   "source": [
    "from scipy.misc import comb\n",
    "\n",
    "def ordnet_tilbakelegg(p, n, k):\n",
    "    return p**k * (1-p)**(n-k)\n",
    "\n",
    "def ordnet_uten_tilbakelegg(N, n, S, k):\n",
    "    return comb(N-n, S-k) / comb(N, S)\n",
    "\n",
    "def uordnet_tilbakelegg(p, n, k):\n",
    "    return comb(n, k) * ordnet_tilbakelegg(p, n, k)\n",
    "\n",
    "def uordnet_uten_tilbakelegg(N, n, S, k):\n",
    "    return comb(n, k) * ordnet_uten_tilbakelegg(N, n, S, k)"
   ]
  },
  {
   "cell_type": "markdown",
   "metadata": {},
   "source": [
    "### Trekke drops på ulike måter\n",
    "\n",
    "Vi skal nå trekke drops fra en bolle, på ulike måter. Først setter vi opp \"drops\", som er \"bollen\" vår. Vi teller så antall drops, og lager en ny dictionary med fargene som nøkkel, men sannsynlighet (antall/totalt antall) som verdi.\n",
    "\n",
    "Deretter bruker vi formelen for tilbakelegging, og finner sannsynligheten for at vi trekker en gitt sekvens."
   ]
  },
  {
   "cell_type": "code",
   "execution_count": 5,
   "metadata": {
    "collapsed": false
   },
   "outputs": [
    {
     "name": "stdout",
     "output_type": "stream",
     "text": [
      "Drops: OrderedDict([('O', 4), ('R', 8), ('G', 3), ('B', 17), ('L', 5)])\n",
      "Sannsynlighet for farger: OrderedDict([('O', 0.10810810810810811), ('R', 0.21621621621621623), ('G', 0.08108108108108109), ('B', 0.4594594594594595), ('L', 0.13513513513513514)])\n",
      "---\n",
      "Sannsynligheten for å trekke BBOBRLBGR med tilbakelegging: 2.467808144964132e-06\n"
     ]
    }
   ],
   "source": [
    "from collections import OrderedDict\n",
    "drops = OrderedDict()\n",
    "drops['O'] = 4\n",
    "drops['R'] = 8\n",
    "drops['G'] = 3\n",
    "drops['B'] = 17\n",
    "drops['L'] = 5\n",
    "\n",
    "print('Drops:', drops)\n",
    "\n",
    "# Henter alle tallverdiene og summerer antall drops:\n",
    "antall_drops = sum(drops.values()) \n",
    "\n",
    "# Få en ny \"dict\" med farge som nøkkel og sannsynlighet for farge = antall/antall_drops\n",
    "ps = OrderedDict()\n",
    "for farge, antall in drops.items():\n",
    "    ps[farge] =  antall/antall_drops\n",
    "    \n",
    "    \n",
    "print('Sannsynlighet for farger:', ps)\n",
    "\n",
    "print('---')\n",
    "\n",
    "# GBBROBROL\n",
    "# VIKTIG: I Python bruker vi ** for \"opphøyd i\", ikke ^. Så f.eks. er 2**3 lik 8.\n",
    "farger_tilbakelegg = ps['O']**1 * ps['R']**2 * ps['G']**1 * ps['B']**4 * ps['L']**1\n",
    "print('Sannsynligheten for å trekke BBOBRLBGR med tilbakelegging:', farger_tilbakelegg)"
   ]
  },
  {
   "cell_type": "markdown",
   "metadata": {},
   "source": [
    "Videre kan vi lage en funksjon for sekvens uten tilbakelegging. Her må vi ha multinomialfunksjonen vi lagde i forrge kapittel. Vi lager også en liten hjelpefunksjon \"multi_uten_tilbakelegg\". Denne er veldig kompakt, og krever en del forståelse av Python for å forstå. Ikke fortvil om du ikke forstår koden. Det viktigste er at du forstår hvorfor vi bruker denne formelen i dette tilfellet. Hvis du kjører denne notepaden i Jupyter på din egen maskin, kan du bare bruke funksjonen slik den er, til å løse andre oppgaver!"
   ]
  },
  {
   "cell_type": "code",
   "execution_count": 6,
   "metadata": {
    "collapsed": false
   },
   "outputs": [
    {
     "name": "stdout",
     "output_type": "stream",
     "text": [
      "Sannsynligheten for å trekke BBOBRLBGR uten tilbakelegging: 4.251394685210036e-06\n"
     ]
    }
   ],
   "source": [
    "# Fra forrige kapittel:\n",
    "from scipy.misc import comb\n",
    "\n",
    "def multinomial(n, ks):\n",
    "    svar = comb(n, ks[0], exact=True) # Indekser i Python starter på 0. Binomial(n, k_1)\n",
    "    \n",
    "    # Trekker fra k-verdier fra n (k_1, k_2, ... k_n-2)\n",
    "    # og bruker comb ved hver iterasjon for å multiplisere med tidligere svar.\n",
    "    for m in range(1, len(ks)-1):\n",
    "        n -= ks[m-1]\n",
    "        svar *= comb(n, ks[m], exact=True)\n",
    "        \n",
    "    return svar\n",
    "\n",
    "# Forklaring:\n",
    "# N = Totalt antall drops\n",
    "# n = Antall drops vi skal plukke\n",
    "# Ss = Antall drops av hver farge\n",
    "# ks = Antall drops vi skal plukke av hver farge\n",
    "def multi_uten_tilbakelegg(N, n, Ss, ks):\n",
    "    return multinomial(N-n, [Ss[i] - ks[i] for i in range(len(Ss))]) / multinomial(N, Ss)\n",
    "\n",
    "\n",
    "farger_uten_tilbakelegg = multi_uten_tilbakelegg(\n",
    "    N = antall_drops,\n",
    "    n = 9,\n",
    "    Ss = list(drops.values()), # Henter drops fra hver farge ut fra drops-dict, så vi slipper å skrive det på nytt.\n",
    "    ks = [1, 2, 1, 4, 1]\n",
    ")\n",
    "\n",
    "print('Sannsynligheten for å trekke BBOBRLBGR uten tilbakelegging:', farger_uten_tilbakelegg)"
   ]
  },
  {
   "cell_type": "markdown",
   "metadata": {},
   "source": [
    "### Gummibåtens dag\n",
    "\n",
    "Vi har følgende scenario: Arne og vennene hans skal delta på gummibåtens dag. Dette er et arrangement hvor ungdommer setter seg i små gummibåter og farer ned elva Otra, fra Vennesla til Kristiansand. Arne har lite penger, og kjøper derfor en brukt gummibåt. Han kan velge mellom:\n",
    "\n",
    "* Gummibåt A: Har fire deler som blåses opp hver for seg.\n",
    "* Gummibåt B: Har seks deler som blåses opp hver for seg.\n",
    "\n",
    "Begge gummibåtene vil synke hvis det går hull på halvparten av luftrommene. Det er 10% sjanse for at hvert rom ryker. Hvilken båt bør Arne kjøpe for å komme seg tryggest mulig gjennom strykene i elva?\n",
    "\n",
    "Her trenger vi formelen for uordnet trekk med tilbakelegging, som vi definerte tidligere i kapittelet. Første parameter er sannsynligheten p, så totalt antall luftrom. Deretter kommer antall rom vi kan la sprekke, og som fremdeles vil få Arne og venne hans trygt frem."
   ]
  },
  {
   "cell_type": "code",
   "execution_count": 16,
   "metadata": {
    "collapsed": false
   },
   "outputs": [
    {
     "name": "stdout",
     "output_type": "stream",
     "text": [
      "Sjanse for at gummibåt A synker: 4.86 %\n",
      "Sjanse for at gummibåt B synker: 1.458 %\n"
     ]
    }
   ],
   "source": [
    "gummibaat_a_synker = uordnet_tilbakelegg(0.1, 4, 2)\n",
    "gummibaat_b_synker = uordnet_tilbakelegg(0.1, 6, 3)\n",
    "\n",
    "print('Sjanse for at gummibåt A synker:', gummibaat_a_synker * 100, '%')\n",
    "print('Sjanse for at gummibåt B synker:', gummibaat_b_synker * 100, '%')"
   ]
  },
  {
   "cell_type": "markdown",
   "metadata": {},
   "source": [
    "Vi ser dermed at Arne bør kjøpe gummibåt B."
   ]
  },
  {
   "cell_type": "markdown",
   "metadata": {},
   "source": [
    "### Oppsummering\n",
    "\n",
    "Akkurat under dette temaet får vi ikke så mye hjelp av Pandas, og de andre pakkene vi har brukt. Det fine med Python er at det er et fullverdig programmeringsspråk, så man kan selv skrive kode for funksjonalitet som ikke ligger ferdig tilgjengelig. Det kan virke vanskelig nå, men det åpnes mange dører, hvis man kan litt programmering. I de neste kapitlene får vi heldigvis mer hjelp til å løse oppgavene igjen!"
   ]
  }
 ],
 "metadata": {
  "kernelspec": {
   "display_name": "Python 3",
   "language": "python",
   "name": "python3"
  },
  "language_info": {
   "codemirror_mode": {
    "name": "ipython",
    "version": 3
   },
   "file_extension": ".py",
   "mimetype": "text/x-python",
   "name": "python",
   "nbconvert_exporter": "python",
   "pygments_lexer": "ipython3",
   "version": "3.5.1"
  }
 },
 "nbformat": 4,
 "nbformat_minor": 0
}
