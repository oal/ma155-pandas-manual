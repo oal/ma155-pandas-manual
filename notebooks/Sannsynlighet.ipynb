{
 "cells": [
  {
   "cell_type": "markdown",
   "metadata": {},
   "source": [
    "# Sannsynlighet\n",
    "\n",
    "For det aller enkleste, som å ta union, snitt osv. mellom to sannsynligheter, gjør vi det enklest uten å hente inn eksterne pakker. Å skrive P(...) o.l. fungerer dårlig med Python sin syntaks, da dette ville blitt evaluert som en funksjon. Den peneste måten å få en skrivemåte som ligner på det vi er vandt til, er nok derfor å bruke dictionaries. Vi kan da lage en dict som heter P, og sette data inni denne, slik:"
   ]
  },
  {
   "cell_type": "code",
   "execution_count": 1,
   "metadata": {
    "collapsed": false
   },
   "outputs": [
    {
     "data": {
      "text/plain": [
       "{'A': 0.2, 'B': 0.5, 'B|A': 0.14285714285714285}"
      ]
     },
     "execution_count": 1,
     "metadata": {},
     "output_type": "execute_result"
    }
   ],
   "source": [
    "P = {} # Tom dict, vi legger inn data på de neste linjene.\n",
    "P['A'] = 1/5 # Tilsvarer P(A)\n",
    "P['B'] = 1/2 # osv...\n",
    "P['B|A'] = 1/7\n",
    "\n",
    "P # Vis hva som ligger inne i P-objektet vårt sålangt."
   ]
  },
  {
   "cell_type": "markdown",
   "metadata": {},
   "source": [
    "Vi kan deretter gjøre utregninger ved å bruke reglene for kombinatorikk."
   ]
  },
  {
   "cell_type": "code",
   "execution_count": 2,
   "metadata": {
    "collapsed": false
   },
   "outputs": [
    {
     "name": "stdout",
     "output_type": "stream",
     "text": [
      "P(AB) = 0.02857142857142857\n",
      "P(AuB) = 0.6714285714285714\n",
      "P(A|B) = 0.05714285714285714\n"
     ]
    }
   ],
   "source": [
    "P['AB'] = P['B|A']*P['A']\n",
    "print('P(AB) =', P['AB'])\n",
    "\n",
    "P['AuB'] = P['A'] + P['B'] - P['AB']\n",
    "print('P(AuB) =', P['AuB'])\n",
    "\n",
    "P['A|B'] = (P['B|A']*P['A'])/P['B']\n",
    "print('P(A|B) =', P['A|B'])"
   ]
  },
  {
   "cell_type": "markdown",
   "metadata": {},
   "source": [
    "### Trekk fra en mengde\n",
    "\n",
    "Det finnes dessverre ingen hurtigmetode i de pakkene vi har tilgjengelig, for å regne sannsynligheter ved trekk fra en mengde. Ferdig funksjonalitet får vi i større grad til senere kapitler. Vi må derfor implementere trekk-formlene selv, eller vi kan la datamaskinen gjøre jobben med å plukke verdier veldig mange ganger i en løkke. Dette kan man gjøre ved å bruke noe ala dette i en for-løkke:"
   ]
  },
  {
   "cell_type": "code",
   "execution_count": 3,
   "metadata": {
    "collapsed": false
   },
   "outputs": [
    {
     "name": "stdout",
     "output_type": "stream",
     "text": [
      "Med tilbakelegging: ['H' 'E' 'A' 'D']\n",
      "Uten tilbakelegging: ['E' 'R' 'D' 'H']\n",
      "Plukket H, E, R, D? False\n",
      "Plukket D, E, H, R? True\n"
     ]
    }
   ],
   "source": [
    "import numpy as np\n",
    "innhold = ['A', 'A', 'H', 'R', 'D', 'H', 'E']\n",
    "\n",
    "# Henter fire tilfeldige verdier fra innhold, med tilbakelegging.\n",
    "utvalg_tilbakelegg = np.random.choice(innhold, 4)\n",
    "print('Med tilbakelegging:', utvalg_tilbakelegg)\n",
    "\n",
    "# Henter fire tilfeldige verdier fra innhold, uten tilbakelegging.\n",
    "utvalg_uten_tilbakelegg = np.random.choice(innhold, 4, replace=False)\n",
    "print('Uten tilbakelegging:', utvalg_uten_tilbakelegg)\n",
    "\n",
    "# Sjekke om vi fant H, E, R, D:\n",
    "leter_etter = ['H','E','R','D']\n",
    "fant_herd = (leter_etter == utvalg_uten_tilbakelegg).all() # Sjekker likhet mellom alle verdier i to lister.\n",
    "print('Plukket H, E, R, D?', fant_herd)\n",
    "\n",
    "# Hvis vi sorterer både verdiene vi leter etter, og listen vi plukket, spiller ikke rekkefølgen på utvalget\n",
    "# lenger noen rolle.\n",
    "leter_etter.sort() # leter_etter er nå [D, E, H, R], sortert alfabetisk\n",
    "utvalg_uten_tilbakelegg.sort()\n",
    "fant_herd = (leter_etter == utvalg_uten_tilbakelegg).all() # Sjekker likhet mellom alle verdier i to lister.\n",
    "print('Plukket D, E, H, R?', fant_herd)"
   ]
  },
  {
   "cell_type": "markdown",
   "metadata": {},
   "source": [
    "Vi kan også, som nevnt, bygge våre egne funksjoner basert på trekk-formlene. Her er de fire trekk-formlene med to typer data. Man kan også bygge ut formlene for flere typer data ved bruk av multinomial-funksjonen vi lagde i forrige kapittel."
   ]
  },
  {
   "cell_type": "code",
   "execution_count": 4,
   "metadata": {
    "collapsed": true
   },
   "outputs": [],
   "source": [
    "from scipy.misc import comb\n",
    "\n",
    "def ordnet_tilbakelegg(p, n, k):\n",
    "    return p**k * (1-p)**(n-k)\n",
    "\n",
    "def ordnet_uten_tilbakelegg(N, n, S, k):\n",
    "    return comb(N-n, S-k) / comb(N, S)\n",
    "\n",
    "def uordnet_tilbakelegg(p, n, k):\n",
    "    return comb(n, k) * ordnet_tilbakelegg(p, n, k)\n",
    "\n",
    "def uordnet_uten_tilbakelegg(N, n, S, k):\n",
    "    return comb(n, k) * ordnet_uten_tilbakelegg(N, n, S, k)"
   ]
  }
 ],
 "metadata": {
  "kernelspec": {
   "display_name": "Python 3",
   "language": "python",
   "name": "python3"
  },
  "language_info": {
   "codemirror_mode": {
    "name": "ipython",
    "version": 3
   },
   "file_extension": ".py",
   "mimetype": "text/x-python",
   "name": "python",
   "nbconvert_exporter": "python",
   "pygments_lexer": "ipython3",
   "version": "3.5.1"
  }
 },
 "nbformat": 4,
 "nbformat_minor": 0
}
