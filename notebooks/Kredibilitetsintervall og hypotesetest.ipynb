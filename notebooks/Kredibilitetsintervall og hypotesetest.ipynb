{
 "cells": [
  {
   "cell_type": "markdown",
   "metadata": {},
   "source": [
    "# Kredibilitetsintervall\n",
    "\n",
    "Alle fordelingene vi har brukt gir oss tilgang til en \"interval\"-metode. Denne finner det tosidige kredibilitetsintervallet med eneste parameter alfa. Du oppgir først parameterne til sannsynlighetsfordelingen (normalfordeling, student's T osv), som tidligere, og kaller deretter interval-metoden.\n",
    "\n",
    "### Normalfordelingen\n",
    "Vi lager en normalfordeling med $\\mu=0.5$ og $\\sigma=5.4$, og finner det 89% tosidige kredibilitetsintervallet."
   ]
  },
  {
   "cell_type": "code",
   "execution_count": 1,
   "metadata": {
    "collapsed": false
   },
   "outputs": [
    {
     "data": {
      "text/plain": [
       "(-8.1302429555832152, 9.1302429555832205)"
      ]
     },
     "execution_count": 1,
     "metadata": {},
     "output_type": "execute_result"
    }
   ],
   "source": [
    "from scipy.stats import norm\n",
    "\n",
    "norm(0.5, 5.4).interval(0.89)"
   ]
  },
  {
   "cell_type": "markdown",
   "metadata": {},
   "source": [
    "### Student's T\n",
    "\n",
    "Merk at rekkefølgen på parameterne i Sipy.stats ikke er lik den som brukes i læreboka. Utover dette, fungerer utregning av tosidig intervall på samme måte som for normalfordelingen. Her bruker vi $\\nu=10$, $\\mu=22.6$ og $\\sigma=3.5$"
   ]
  },
  {
   "cell_type": "code",
   "execution_count": 2,
   "metadata": {
    "collapsed": false
   },
   "outputs": [
    {
     "data": {
      "text/plain": [
       "(8.0970482708368205, 37.102951729163181)"
      ]
     },
     "execution_count": 2,
     "metadata": {},
     "output_type": "execute_result"
    }
   ],
   "source": [
    "from scipy.stats import t\n",
    "\n",
    "t(10, 22.6, 3.5).interval(0.998)"
   ]
  },
  {
   "cell_type": "markdown",
   "metadata": {},
   "source": [
    "### Eksponentialfordelingen\n",
    "\n",
    "Over brukte vi interval-metoden. Denne gir som nevnt tosidig kredibilitetsintervall. Hvis vi vil ha et ensidig intervall, bruker vi invers, eller PPF (se kapittel om kontinuerlige sannsynlighetsfordelinger). Vi skal her finne venstre ensidige kredibilitetsintervall.\n",
    "\n",
    "Merk at også denne avviker fra lærebok og formelsamling ved at vi må oppgi $\\mu$ og ikke $\\lambda$. Dette gjør vi ved å ta $\\frac{1}{\\lambda}$. Så hvis vi har lambda = 2.34, kan vi gjøre følgende (95% kredibilitetsintervall):"
   ]
  },
  {
   "cell_type": "code",
   "execution_count": 3,
   "metadata": {
    "collapsed": false
   },
   "outputs": [
    {
     "data": {
      "text/plain": [
       "(0, 1.280227467330765)"
      ]
     },
     "execution_count": 3,
     "metadata": {},
     "output_type": "execute_result"
    }
   ],
   "source": [
    "from scipy.stats import expon\n",
    "\n",
    "(0, expon(scale=1/2.34).ppf(0.95))"
   ]
  },
  {
   "cell_type": "markdown",
   "metadata": {},
   "source": [
    "# Hypotesetest\n",
    "\n",
    "### Eksempel 1\n",
    "\n",
    "Vi får oppgitt at $X \\tilde {} \\Phi_{(0.2, 4.7)}$. Den konservative hypotesen er at $X \\ge 5$. Finn resultatet av testen med signifikans $\\alpha=0.075$."
   ]
  },
  {
   "cell_type": "code",
   "execution_count": 4,
   "metadata": {
    "collapsed": false
   },
   "outputs": [
    {
     "data": {
      "text/plain": [
       "True"
      ]
     },
     "execution_count": 4,
     "metadata": {},
     "output_type": "execute_result"
    }
   ],
   "source": [
    "X = norm(0.2, 4.7)\n",
    "alpha = 0.075\n",
    "\n",
    "5 < X.ppf(1-alpha)"
   ]
  },
  {
   "cell_type": "markdown",
   "metadata": {},
   "source": [
    "### Eksempel 2\n",
    "\n",
    "Vi har $Y_1 \\tilde {} St_{(5.2, 1.4, 11)}$ og $Y_2 \\tilde {} St_{(-3.78, 3, 12)}$. Hypotesen er at $Y_1=Y_2$ med signifikans $\\alpha=0.01$.\n",
    "\n",
    "Her må vi finne differansen mellom to fordelinger (her Student's T-fordelinger), og vi må ha en hjelpefunksjon (diff_t). $\\mu$ og $\\sigma$ er greie, men vi trenger også Satterthwaites formel, som regner ut df ($\\nu$). Deretter kan vi bruke diff_t-funksjonen med parameterne for de to fordelingene vi skal finne differansen av, og få en t-fordeling som returverdi.\n",
    "\n",
    "Når vi har denne, bruker vi interval-metoden som vi har sett før, og sjekker om 0 ligger inne i intervallet."
   ]
  },
  {
   "cell_type": "code",
   "execution_count": 5,
   "metadata": {
    "collapsed": false
   },
   "outputs": [
    {
     "name": "stdout",
     "output_type": "stream",
     "text": [
      "Nullhypotesen stemmer, og skal ikke forkastes.\n"
     ]
    }
   ],
   "source": [
    "from math import floor\n",
    "\n",
    "# Basert på 8.2 i formelsamling (side 14 i 2016-utgaven)\n",
    "def diff_t(df1, mu1, sigma1, df2, mu2, sigma2):\n",
    "    mu = mu1 - mu2\n",
    "    sigma = (sigma1**2 + sigma2**2)**0.5\n",
    "    \n",
    "    # Regne ut ny / degrees of freedom med Satterthwaites formel\n",
    "    df = floor(\n",
    "        (sigma1**2/(df1+1) + sigma2**2/(df2+1))**2 /\n",
    "        ((sigma1**2/(df1+1))**2/df1 + (sigma2**2/(df2+1))**2/df2)\n",
    "    )\n",
    "    return t(df, mu, sigma)\n",
    "\n",
    "# Ny fordeling, differansen mellom to t-fordelinger (parameterrekkefølge: ny, my, sigma for begge fordelinger)\n",
    "Z = diff_t(11, 5.2, 1.4, 12, -3.78, 3)\n",
    "\n",
    "# Finn intervall\n",
    "alpha = 0.01\n",
    "fra, til = Z.interval(1-alpha)\n",
    "\n",
    "# Sjekk om 0 ligger innenfor intervallet\n",
    "H_0 = fra < 0 < til\n",
    "\n",
    "# Svar på tekstform\n",
    "if H_0:\n",
    "    print('Nullhypotesen stemmer, og skal ikke forkastes.')\n",
    "else:\n",
    "    print('Nullhypotesen forkastes.')"
   ]
  },
  {
   "cell_type": "markdown",
   "metadata": {},
   "source": [
    "### Eksempel 3\n",
    "\n",
    "Vi får oppgitt $X \\tilde {} Exp_{(2.34)}$, og vår konservative hypotese er at $X \\ge 1$. Avgjør hypotesetesten med signifikans $\\alpha=0.05$.\n",
    "\n",
    "Her må vi som vanlig oppgi $\\mu$ og ikke $\\lambda$, så vi tar $\\frac{1}{\\lambda}$. Vi bruker X sin ppf-metode (som tidligere, ved ensidig intervall). Vi er ute etter venstre side. H_0-variabelen er en sammensatt sammenligning og sjekker først om 1 er større enn 0, og om det er mindre enn resultater fra PPF-funksjonen (øvre grense i intervallet). Resultatet blir en boolean, altså sant/usant, og vi bruker en if-test for å få et svar på tekstform. Hvis 1 er innenfor intervallet, får vi beskjed om at nullhypotesen stemmer."
   ]
  },
  {
   "cell_type": "code",
   "execution_count": 6,
   "metadata": {
    "collapsed": false
   },
   "outputs": [
    {
     "name": "stdout",
     "output_type": "stream",
     "text": [
      "Nullhypotesen stemmer, og skal ikke forkastes.\n"
     ]
    }
   ],
   "source": [
    "X = expon(scale=1/2.34) # Vår fordeling / stokastiske variabel\n",
    "alpha = 0.05 # Signifikans\n",
    "\n",
    "# Sjekk om 1 er innenfor intervallet\n",
    "H_0 = 0 < 1 < X.ppf(1-alpha) # 1-alpha for å få venstre intervall\n",
    "\n",
    "# Svar på tekstform\n",
    "if H_0:\n",
    "    print('Nullhypotesen stemmer, og skal ikke forkastes.')\n",
    "else:\n",
    "    print('Nullhypotesen forkastes.')"
   ]
  }
 ],
 "metadata": {
  "kernelspec": {
   "display_name": "Python 3",
   "language": "python",
   "name": "python3"
  },
  "language_info": {
   "codemirror_mode": {
    "name": "ipython",
    "version": 3
   },
   "file_extension": ".py",
   "mimetype": "text/x-python",
   "name": "python",
   "nbconvert_exporter": "python",
   "pygments_lexer": "ipython3",
   "version": "3.5.1"
  }
 },
 "nbformat": 4,
 "nbformat_minor": 0
}
