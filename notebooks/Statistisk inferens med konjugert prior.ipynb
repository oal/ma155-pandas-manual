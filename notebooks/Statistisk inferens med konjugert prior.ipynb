{
 "cells": [
  {
   "cell_type": "markdown",
   "metadata": {},
   "source": [
    "# Statistisk inferens: Konjugert prior\n",
    "\n",
    "Vi kan ikke trekke ut noen funksjon for konjugert prior for beta, normalfordeling osv. fra de Python-pakkene vi har brukt. Likevel er det ikke så mye kode som skal til. Funksjonen under, gir en ny normalfordeling hvis standardavviket er kjent, og en student's t hvis ikke. Dette er rett og slett en oversettelse av fremgangsmåten fra boka, til Python."
   ]
  },
  {
   "cell_type": "code",
   "execution_count": 1,
   "metadata": {
    "collapsed": false
   },
   "outputs": [],
   "source": [
    "from scipy.stats import norm\n",
    "\n",
    "\n",
    "def norm_konjugert_posterior(mu0, sigma0, observasjoner, stdav=None):\n",
    "    prior = norm(mu0, sigma0)\n",
    "    n = len(observasjoner)\n",
    "    gjsnitt = sum(observasjoner)/n\n",
    "\n",
    "    d0 = 1/sigma0**2\n",
    "    d_data = n/stdav**2\n",
    "\n",
    "\n",
    "    d1 = d0+d_data\n",
    "    sigma1 = 1/d1**0.5\n",
    "    mu1 = d0/d1*mu0 + d_data/d1*gjsnitt\n",
    "\n",
    "    if stdav == None:\n",
    "        return t(mu1, n-1, sigma1)\n",
    "    else:\n",
    "        return norm(mu1, sigma1) # Ny posterior"
   ]
  },
  {
   "cell_type": "markdown",
   "metadata": {},
   "source": [
    "### Eksempel\n",
    "\n",
    "Du jobber på en kokosnøttplantasje og høster kokosnøtter, og ønsker å gjøre litt statistikk. Du mener å ha sett at en vekten til kokosnøtter er normalfordelt med $\\sigma=0.4$ (kg). I dag var de første nøttene du plukket på hhv. 1.35, 1.56, 1.44 og 1.61 kg. Du bruker en prior $N_{(1.5, 0.15)}$.\n",
    "\n",
    "Hva blir posterior?\n",
    "\n",
    "Vi bruker funksjonen vi lagde over, og fyller inn parameterne fra oppgaven. Deretter plotter vi prior og posterior."
   ]
  },
  {
   "cell_type": "code",
   "execution_count": 2,
   "metadata": {
    "collapsed": false
   },
   "outputs": [
    {
     "data": {
      "image/png": "[encoded data removed]",
      "text/plain": [
       "<matplotlib.figure.Figure at 0x7f7b97ee0940>"
      ]
     },
     "metadata": {},
     "output_type": "display_data"
    },
    {
     "data": {
      "image/png": "[encoded data removed]",
      "text/plain": [
       "<matplotlib.figure.Figure at 0x7f7b97e855c0>"
      ]
     },
     "metadata": {},
     "output_type": "display_data"
    }
   ],
   "source": [
    "from pandas import DataFrame\n",
    "import matplotlib.pyplot as plt\n",
    "import numpy as np\n",
    "%matplotlib inline\n",
    "\n",
    "posterior = norm_konjugert_posterior(\n",
    "    mu0=1.5, sigma0=0.15, observasjoner=[1.35, 1.56, 1.44, 1.61], stdav=0.4\n",
    ") # Parameternavn tatt med for klarhetens skyld. Siste parameter er frivillig.\n",
    "\n",
    "\n",
    "indekser = np.linspace(0, 3, 100)\n",
    "\n",
    "prior = norm(1.5, 0.15)\n",
    "prior_fordeling = prior.pdf(indekser)\n",
    "post_fordeling = posterior.pdf(indekser)\n",
    "\n",
    "\n",
    "df = DataFrame(prior_fordeling, indekser)\n",
    "df.plot.line(legend=None)\n",
    "plt.show()\n",
    "\n",
    "df2 = DataFrame(post_fordeling, indekser)\n",
    "df2.plot.line(legend=None)\n",
    "plt.show()"
   ]
  },
  {
   "cell_type": "markdown",
   "metadata": {},
   "source": [
    "Og hva er sannsynligheten for at forventet vekt på en kokosnøtt er mindre enn 1.41 kg?"
   ]
  },
  {
   "cell_type": "code",
   "execution_count": 3,
   "metadata": {
    "collapsed": false
   },
   "outputs": [
    {
     "data": {
      "text/plain": [
       "0.23576249777925101"
      ]
     },
     "execution_count": 3,
     "metadata": {},
     "output_type": "execute_result"
    }
   ],
   "source": [
    "posterior.cdf(1.41)"
   ]
  }
 ],
 "metadata": {
  "kernelspec": {
   "display_name": "Python 3",
   "language": "python",
   "name": "python3"
  },
  "language_info": {
   "codemirror_mode": {
    "name": "ipython",
    "version": 3
   },
   "file_extension": ".py",
   "mimetype": "text/x-python",
   "name": "python",
   "nbconvert_exporter": "python",
   "pygments_lexer": "ipython3",
   "version": "3.5.1"
  }
 },
 "nbformat": 4,
 "nbformat_minor": 0
}
