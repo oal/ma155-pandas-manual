{
 "cells": [
  {
   "cell_type": "markdown",
   "metadata": {},
   "source": [
    "# Python\n",
    "\n",
    "Det kan være en fordel å være litt kjent med Python, eller i hvert fall et annet programmeringsspråk, for å følge denne manualen. Det vil likevel bli gitt noen forklaringer på syntaks o.l. under veis. La oss ta litt grunnleggende Python først.\n",
    "\n",
    "### Variabler\n",
    "\n",
    "Python er et dynamisk språk, så man trenger ikke slavisk å definere og følge variabeltyper slik som i f.eks. Java. Du angir et navn (kan inneholde A-z, 0-9 og _, og må begynne med en bokstav), så et likhetstegn, og til slutt en verdi. Du kan gjøre ulike operasjoner på variabler, som å plusse og gange dem sammen."
   ]
  },
  {
   "cell_type": "code",
   "execution_count": 1,
   "metadata": {
    "collapsed": false
   },
   "outputs": [
    {
     "data": {
      "text/plain": [
       "20"
      ]
     },
     "execution_count": 1,
     "metadata": {},
     "output_type": "execute_result"
    }
   ],
   "source": [
    "min_variabel = 10\n",
    "min_andre_variabel = 2\n",
    "mitt_svar = min_variabel * min_andre_variabel\n",
    "\n",
    "mitt_svar"
   ]
  },
  {
   "cell_type": "markdown",
   "metadata": {},
   "source": [
    "Her lager vi tre variabler. De to første linjene definerer variabler med tall. Den tredje linjen ganger samme verdiene i disse, og lagrer dette i mitt_svar. Den siste linjen i en kodeblokk/celle i Jupyter er cellens returverdi. Det  betyr at det er dette som vises ved siden av \"Out []:\". Dette kan være variabelverdier, som her, men vi kan også få vist grafer, som vi skal se på senere.\n",
    "\n",
    "Man kan også lage variabler med tekst: `min_tekst = 'Hei, verden'`. Tekst må plasseres mellom enten enkle eller doble hermetegn (`'` eller `\"`)."
   ]
  },
  {
   "cell_type": "markdown",
   "metadata": {},
   "source": [
    "### Lister\n",
    "\n",
    "Variabler kan også være lister. Lister kan inneholde flere verdier, av tall, tekst osv. Vi lagrer ofte datamaterialet vårt i lister. Lister lages slik:"
   ]
  },
  {
   "cell_type": "code",
   "execution_count": 2,
   "metadata": {
    "collapsed": false
   },
   "outputs": [
    {
     "data": {
      "text/plain": [
       "[1, 2, 3, 'Liste', 'med', 'flere', 'ord']"
      ]
     },
     "execution_count": 2,
     "metadata": {},
     "output_type": "execute_result"
    }
   ],
   "source": [
    "min_liste = [1, 2, 3]\n",
    "min_andre_liste = ['Liste', 'med', 'flere', 'ord']\n",
    "\n",
    "min_liste + min_andre_liste"
   ]
  },
  {
   "cell_type": "markdown",
   "metadata": {},
   "source": [
    "### Dict\n",
    "\n",
    "Dicts, eller dictionaries (også kjent som associative array eller map i andre språk), lar deg koble sammen verdier, omtrent som navn og telefonnummer i en telefonkatalog. Det er lettere å forklare med et eksempel:"
   ]
  },
  {
   "cell_type": "code",
   "execution_count": 3,
   "metadata": {
    "collapsed": false
   },
   "outputs": [
    {
     "data": {
      "text/plain": [
       "('Hans', 15)"
      ]
     },
     "execution_count": 3,
     "metadata": {},
     "output_type": "execute_result"
    }
   ],
   "source": [
    "min_dict = {\n",
    "    'navn': 'Hans',\n",
    "    'alder': 15\n",
    "}\n",
    "\n",
    "min_dict['navn'], min_dict['alder']"
   ]
  },
  {
   "cell_type": "markdown",
   "metadata": {},
   "source": [
    "Her kobler vi Hans til \"nøkkelen\" **navn**, og 15 til **alder**. Disse kan vi hente ut og bruke til andre ting senere.\n"
   ]
  },
  {
   "cell_type": "markdown",
   "metadata": {},
   "source": [
    "### Kommentarer\n",
    "\n",
    "Kommentarer er linjer som ikke leses av datamaskinen, men som kun er der for å hjelpe programmereren. I Python skrives kommentarer ved å sette inn en #. All tekst som følger på den linjen leses som kommentar."
   ]
  },
  {
   "cell_type": "code",
   "execution_count": 4,
   "metadata": {
    "collapsed": false
   },
   "outputs": [
    {
     "data": {
      "text/plain": [
       "10"
      ]
     },
     "execution_count": 4,
     "metadata": {},
     "output_type": "execute_result"
    }
   ],
   "source": [
    "min_variabel = 2*5 # min_variabel vil få verdien 10.\n",
    "\n",
    "min_variabel"
   ]
  },
  {
   "cell_type": "markdown",
   "metadata": {},
   "source": [
    "### Importering av eksisterende kode\n",
    "\n",
    "I Python er det enkelt å importere kode fra andre filer og pakker, slik at man kan bruke funksjoner derfra i sin egen kode. Vi så noen eksempler på dette i testkoden vi kjørte etter installasjonen:"
   ]
  },
  {
   "cell_type": "code",
   "execution_count": 5,
   "metadata": {
    "collapsed": true
   },
   "outputs": [],
   "source": [
    "from pandas import Series # Henter klassen Series fra pandas-pakken\n",
    "import matplotlib.pyplot as plt # Henter hele pyplot i matplotlib.\n",
    "# Vi henter den som \"plt\" slik at vi slipper å skrive hele pakkens\n",
    "# navn hver gang vi bruker den.\n",
    "import numpy as np # Henter hele numpy-pakken"
   ]
  },
  {
   "cell_type": "markdown",
   "metadata": {},
   "source": [
    "### Funksjoner\n",
    "\n",
    "Funksjoner er ferdige rutiner som du eller noen andre har laget. De likner på funksjonene vi har fra matematikken. De har et navn, og tar gjerne inn noen parametere som påvirker deres resultat."
   ]
  },
  {
   "cell_type": "code",
   "execution_count": 7,
   "metadata": {
    "collapsed": false
   },
   "outputs": [
    {
     "name": "stdout",
     "output_type": "stream",
     "text": [
      "0.479425538604203\n"
     ]
    },
    {
     "data": {
      "text/plain": [
       "6"
      ]
     },
     "execution_count": 7,
     "metadata": {},
     "output_type": "execute_result"
    }
   ],
   "source": [
    "from math import sin\n",
    "\n",
    "print(sin(0.5)) # Kjører først sinus til 0.5, og så tas det resultatet, og \n",
    "# vises/printes på skjermen. print kan vi bruke hvis vi vil vise en verdi\n",
    "# utenom returverdien som kommer til slutt i en celle.\n",
    "\n",
    "# \"def\" definerer en funksjon. Her lager vi en funksjon \"ganger_tre\" som\n",
    "# tar inn en parameter, og returnerer seg selv ganger tre.\n",
    "def ganger_tre(mitt_tall):\n",
    "    return mitt_tall*3 # Viktig at denne linjen ikke ligger helt inne i \n",
    "    # margen, siden den skal være inni funksjonen vår. Python bruker\n",
    "    # innrykk for å definere kodeblokker som henger sammen.\n",
    "\n",
    "svar = ganger_tre(2) # svar inneholder 6\n",
    "\n",
    "svar # Skriver 6 til skjermen"
   ]
  },
  {
   "cell_type": "markdown",
   "metadata": {},
   "source": [
    "### Mer informasjon\n",
    "\n",
    "Ny syntaks og nye funksjoner vil bli forklart underveis. Det kan likevel hende du trenger å slå opp noe. I tillegg til å søke på Google, kan disse kildene være nyttige:\n",
    "\n",
    "* [Offisiell Python-dokumentasjon](https://docs.python.org/3/)\n",
    "* [Codecademy sitt Python-kurs](https://www.codecademy.com/learn/python)\n",
    "* [Learn X in Y minutes](https://learnxinyminutes.com/docs/python3/): Hurtig-intro til Python. Anbefales hvis du har erfaring med andre programmeringsspråk."
   ]
  }
 ],
 "metadata": {
  "kernelspec": {
   "display_name": "Python 3",
   "language": "python",
   "name": "python3"
  },
  "language_info": {
   "codemirror_mode": {
    "name": "ipython",
    "version": 3
   },
   "file_extension": ".py",
   "mimetype": "text/x-python",
   "name": "python",
   "nbconvert_exporter": "python",
   "pygments_lexer": "ipython3",
   "version": "3.5.1"
  }
 },
 "nbformat": 4,
 "nbformat_minor": 0
}
